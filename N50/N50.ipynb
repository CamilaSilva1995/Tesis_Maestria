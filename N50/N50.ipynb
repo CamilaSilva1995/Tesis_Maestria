{
 "cells": [
  {
   "cell_type": "markdown",
   "metadata": {},
   "source": [
    "# N50 para genómica"
   ]
  },
  {
   "cell_type": "markdown",
   "metadata": {},
   "source": [
    "1. Leer el archivo\n",
    "2. Separar por secuencia (>)\n",
    "3. Crear lista de caracteres sin saltos de linea\n",
    "4. Calcular la longitud de cada secuencia\n",
    "5. Retornan las longitudes en una lista \n",
    "6. definicion + ejemplo"
   ]
  },
  {
   "cell_type": "code",
   "execution_count": 1,
   "metadata": {},
   "outputs": [],
   "source": [
    "def N50_Genomico(File): # definicion para calcular el N50 de un archivo fasta\n",
    "    with open(File,'r') as f: \n",
    "        # lectura del archivo .fasta como f\n",
    "        dics = {}\n",
    "        lista = []\n",
    "        for line in f: \n",
    "            #para cada linea del archivo leido elimina espacios\n",
    "            line = line.rstrip() \n",
    "            if line.startswith('>'):\n",
    "                # si la linea comienza con '>'\n",
    "                line1 = line.split()\n",
    "                # divide la cadena 'str' y lo convierte en una lista\n",
    "                suma = 0\n",
    "            else:\n",
    "                suma += len(line)\n",
    "                dics[line1[0]] = suma\n",
    "                # se crea un diccionario por cada read, con el nombre como 'key' y la longitud del read como 'value'\n",
    "                \n",
    "    for key, value in dics.items():\n",
    "        lista.append(value) # se crea la lista con las logitudes de cada reads\n",
    "        lista.sort(reverse=True) # se ordena de mayor a menor \n",
    "    sumalista=sum(lista) # se suman todas las longitudes de los reads \n",
    "    sumlista=0\n",
    "    for i in range(len(lista)):\n",
    "        sumlista += lista[i] # se suman las longitudes una por una para llegar al 50% segun la definicion de la medida N50\n",
    "        if sumlista >=  (sumalista/2):\n",
    "            # el N50 toma la posicion que llega al 50% de la longitud total\n",
    "            n50=lista[i]\n",
    "            break\n",
    "    print(lista,\"assembly size =\",sumalista,\"n50 =\",n50,dics)\n"
   ]
  },
  {
   "cell_type": "code",
   "execution_count": 2,
   "metadata": {},
   "outputs": [
    {
     "name": "stdout",
     "output_type": "stream",
     "text": [
      "[429, 298, 254, 235, 194, 150] assembly size = 1560 n50 = 254 {'>S0C0': 235, '>S0C1': 298, '>S0C2': 429, '>S0C3': 194, '>S0C4': 254, '>S0C5': 150}\n"
     ]
    }
   ],
   "source": [
    "archivo = 'ejemplo.fasta'\n",
    "N50_Genomico(archivo)"
   ]
  },
  {
   "cell_type": "code",
   "execution_count": null,
   "metadata": {},
   "outputs": [],
   "source": [
    "#para que sirve el n50 en genomas -> para que sirve en metagenomas"
   ]
  },
  {
   "cell_type": "code",
   "execution_count": null,
   "metadata": {},
   "outputs": [],
   "source": []
  },
  {
   "cell_type": "code",
   "execution_count": null,
   "metadata": {},
   "outputs": [],
   "source": []
  },
  {
   "cell_type": "code",
   "execution_count": null,
   "metadata": {},
   "outputs": [],
   "source": []
  },
  {
   "cell_type": "markdown",
   "metadata": {},
   "source": [
    "# N50 para metagenómica"
   ]
  },
  {
   "cell_type": "markdown",
   "metadata": {},
   "source": [
    "En metagenomica se optiene un conjunto de diferentes genomas, por lo tanto se requiere adecuar la definicion de N50 en metagenomica "
   ]
  },
  {
   "cell_type": "markdown",
   "metadata": {},
   "source": [
    "#### Primero queremos desarrollar una generalizacion de la medida N50 para dos genomas"
   ]
  },
  {
   "cell_type": "markdown",
   "metadata": {},
   "source": [
    "* Tomando (ejemplo.fasta) que contienen 7 reads ... \n",
    "* Queremos crear dos archivo cada uno de un genoma con reads tomados aleatoriamente... \n",
    "* Comparar el N50 del metagenoma total con el N50 por cada genoma, esto para dos genomas."
   ]
  },
  {
   "cell_type": "code",
   "execution_count": 3,
   "metadata": {},
   "outputs": [
    {
     "name": "stdout",
     "output_type": "stream",
     "text": [
      "[429, 298, 254, 235, 194, 150] assembly size = 1560 n50 = 254 {'>S0C0': 235, '>S0C1': 298, '>S0C2': 429, '>S0C3': 194, '>S0C4': 254, '>S0C5': 150}\n"
     ]
    }
   ],
   "source": [
    "archivo = 'ejemplo.fasta'\n",
    "N50_Genomico(archivo)"
   ]
  },
  {
   "cell_type": "code",
   "execution_count": 4,
   "metadata": {},
   "outputs": [
    {
     "name": "stdout",
     "output_type": "stream",
     "text": [
      "[298, 235] assembly size = 533 n50 = 298 {'>S0C0': 235, '>S0C1': 298}\n",
      "[840, 429, 254, 194, 150] assembly size = 1867 n50 = 429 {'>S0C2': 429, '>S0C3': 194, '>S0C4': 254, '>S0C5': 150, '>S0C6': 840}\n"
     ]
    }
   ],
   "source": [
    "G1 = 'G1.fasta'\n",
    "N50_Genomico(G1)\n",
    "G2 = 'G2.fasta'\n",
    "N50_Genomico(G2)"
   ]
  },
  {
   "cell_type": "markdown",
   "metadata": {},
   "source": [
    "La mediada N50 para 'G2' coincide con la del metagenoma completo, pero la medida N50 para 'G1' no... "
   ]
  },
  {
   "cell_type": "code",
   "execution_count": null,
   "metadata": {},
   "outputs": [],
   "source": []
  },
  {
   "cell_type": "code",
   "execution_count": null,
   "metadata": {},
   "outputs": [],
   "source": []
  },
  {
   "cell_type": "code",
   "execution_count": null,
   "metadata": {},
   "outputs": [],
   "source": []
  },
  {
   "cell_type": "markdown",
   "metadata": {},
   "source": [
    "# CAMISIM\n",
    "#### Crear un archivo de genomas como CAMISIM, dado el documento 'ejemplo.fasta'\n",
    "A este script le deben entrar:\n",
    "* Una lista de genomas de referencia\n",
    "* Una lista de enteros $N_{i}$ que nos diga el número de 'Reads' por cada genoma nuevo.\n",
    "* Una lista de enteros $n_{i}$ que nos diga el tamaño de los 'Reads' \n",
    "queremos que el script nos arroje una lista de genomas que incluyan una lista de reads.\n",
    "\n",
    "Esto con el fin de comprender mas a fondo el funcionamiento de CAMISIM, y tambien poder generar datos de ejemplo para probar la medida N50."
   ]
  },
  {
   "cell_type": "code",
   "execution_count": 5,
   "metadata": {},
   "outputs": [],
   "source": [
    "ejem = open('ejemplo.fasta','r')\n",
    "cont = ejem.read()"
   ]
  },
  {
   "cell_type": "code",
   "execution_count": 6,
   "metadata": {},
   "outputs": [
    {
     "data": {
      "text/plain": [
       "'>S0C0\\nCTGAACTCATAACGCTGCTATTGTTGGGAGATTGGAACATTCCCGCTCCTAACCCGGTAA\\nGTATGGCACCTGGAATTATATGATAGAAGCTAGCTGATGCTGAAAGGGTAGAAAAATAGA\\nGCAAGCCCACACCAGTAATAGTCAAACCCGTTGTGGTCAAGAATACAGGGCCGAATTTAT\\nCTGAGGCATTACCGCTTATTGGTGCTGTGATGGCCATTGTGATGGGAAAGATCAT\\n>S0C1\\nTTGTGCTATTTTCCACAGGGTATCACCGGGCTGAACTGTATATGTTTTGCCGTTTCCGCC\\nTCCGGCGCTGTTGCTTTCGGTAGCGGGTTTGAAAGCGGGAACCGCGTCTGTTTGGTAGCG\\nGCTGTATATATGCACCGGGGTACCGATAGGTATTTGGGGGAAAAGTTCTTCGACGTGGTG\\nGTTATGCATACGGATACAGCCCAGCGATACGGCCTGCCCGATGGATGAAGGGTTGTTGTT\\nGCCATGAATACCGTAATTACCGCCGGGGATGGTTAGTCCCATCCAGCGGGTTCCCAGA\\n>S0C2\\nATCCCGGGGCAAGGCTTTGGCCCAGTAGGCCTAGATGAACCCCTTTTTCCTGATAACTTA\\nAGTGTCTCATTAATTATCTCTGCCCCCTTTGCCCCCTTTGATGGCAGCCCTGACACATCA\\nTTTAACGTTCCTTTGTTCGAAGTTCCAGGTGTCCCGGGAAACCTAATTATTGCTGTTAGT\\nTTACTGATTGCTCAATTCTTTATTGAAAGAGCAGGCGTCGGGACTCCCAACGGAGATGGT\\nTCAAAGGTCAATACTACTGTAAGTCTCGCCGAGGGAGGGGTCTTCTATGTCGTGGCCGTT\\nTAAATCGAGATTATCTCCGAGGAGTTCCCCCCCCCCAACTAGGGCCTGTTCAAACCCGCC\\nTTTGAGTTCAACCGTTCTGAAGTCTTGGGATTATGGTTTCAAGCGCCTTGTACCTCTTCT\\nGGAGTATCC\\n>S0C3\\nAACGCATCTGTTACCGCTGGGTATATAGACGCGCAATATGACGAATATATCCTCAATGAA\\nGTTGATGTGTCTGATCAGCGTGTATTCCAGAATACTCCCGACTGGTCTGCGAGTGGTGTG\\nTTTACATATAATACGCCTCTTGGGGGTGGTGATTTGAATGTTGCGACCACCATTTCATAC\\nAAAGGGGATTCAAG\\n>S0C4\\nGAGTATTATTTTTCTTGATCATTTCTTTCACCTACAATAACTTTATCGACAAATTAAGGT\\nTCTTTCCAACTTATTTTAATCTATTTTAGAATATAGTACCAGTTGATCAAGGAAAATGTT\\nGGTTAGCATAAGTCTCCACCCTAAACACTCCAGTCACAGCTTTGACAATGGCGTTATAGA\\nGTAAGCTTCACATAGGTTGTCAAATCAGCAGCGATAAACTTAATTGCTTGTAGTTCTCTT\\nTTCAGAGAAAAAGG\\n>S0C5\\nATAGATCCAGAATTTGAAATAAGCAATAGTAGAGGATTTGATTATCCGTTAATAGAATCA\\nGATAAAATCTATTATAGAGGCTTGTTTTTTGGAAAATCCTCAATCTTTGCATTGTATTGT\\nGGATTTACCGATAAGGAGAGCATAGAGAAG\\n'"
      ]
     },
     "execution_count": 6,
     "metadata": {},
     "output_type": "execute_result"
    }
   ],
   "source": [
    "cont"
   ]
  },
  {
   "cell_type": "code",
   "execution_count": 7,
   "metadata": {},
   "outputs": [
    {
     "name": "stdout",
     "output_type": "stream",
     "text": [
      "{'>S0C0': 'CTGAACTCATAACGCTGCTATTGTTGGGAGATTGGAACATTCCCGCTCCTAACCCGGTAAGTATGGCACCTGGAATTATATGATAGAAGCTAGCTGATGCTGAAAGGGTAGAAAAATAGAGCAAGCCCACACCAGTAATAGTCAAACCCGTTGTGGTCAAGAATACAGGGCCGAATTTATCTGAGGCATTACCGCTTATTGGTGCTGTGATGGCCATTGTGATGGGAAAGATCAT', '>S0C1': 'TTGTGCTATTTTCCACAGGGTATCACCGGGCTGAACTGTATATGTTTTGCCGTTTCCGCCTCCGGCGCTGTTGCTTTCGGTAGCGGGTTTGAAAGCGGGAACCGCGTCTGTTTGGTAGCGGCTGTATATATGCACCGGGGTACCGATAGGTATTTGGGGGAAAAGTTCTTCGACGTGGTGGTTATGCATACGGATACAGCCCAGCGATACGGCCTGCCCGATGGATGAAGGGTTGTTGTTGCCATGAATACCGTAATTACCGCCGGGGATGGTTAGTCCCATCCAGCGGGTTCCCAGA', '>S0C2': 'ATCCCGGGGCAAGGCTTTGGCCCAGTAGGCCTAGATGAACCCCTTTTTCCTGATAACTTAAGTGTCTCATTAATTATCTCTGCCCCCTTTGCCCCCTTTGATGGCAGCCCTGACACATCATTTAACGTTCCTTTGTTCGAAGTTCCAGGTGTCCCGGGAAACCTAATTATTGCTGTTAGTTTACTGATTGCTCAATTCTTTATTGAAAGAGCAGGCGTCGGGACTCCCAACGGAGATGGTTCAAAGGTCAATACTACTGTAAGTCTCGCCGAGGGAGGGGTCTTCTATGTCGTGGCCGTTTAAATCGAGATTATCTCCGAGGAGTTCCCCCCCCCCAACTAGGGCCTGTTCAAACCCGCCTTTGAGTTCAACCGTTCTGAAGTCTTGGGATTATGGTTTCAAGCGCCTTGTACCTCTTCTGGAGTATCC', '>S0C3': 'AACGCATCTGTTACCGCTGGGTATATAGACGCGCAATATGACGAATATATCCTCAATGAAGTTGATGTGTCTGATCAGCGTGTATTCCAGAATACTCCCGACTGGTCTGCGAGTGGTGTGTTTACATATAATACGCCTCTTGGGGGTGGTGATTTGAATGTTGCGACCACCATTTCATACAAAGGGGATTCAAG', '>S0C4': 'GAGTATTATTTTTCTTGATCATTTCTTTCACCTACAATAACTTTATCGACAAATTAAGGTTCTTTCCAACTTATTTTAATCTATTTTAGAATATAGTACCAGTTGATCAAGGAAAATGTTGGTTAGCATAAGTCTCCACCCTAAACACTCCAGTCACAGCTTTGACAATGGCGTTATAGAGTAAGCTTCACATAGGTTGTCAAATCAGCAGCGATAAACTTAATTGCTTGTAGTTCTCTTTTCAGAGAAAAAGG', '>S0C5': 'ATAGATCCAGAATTTGAAATAAGCAATAGTAGAGGATTTGATTATCCGTTAATAGAATCAGATAAAATCTATTATAGAGGCTTGTTTTTTGGAAAATCCTCAATCTTTGCATTGTATTGTGGATTTACCGATAAGGAGAGCATAGAGAAG'}\n"
     ]
    }
   ],
   "source": [
    "# lectura de archivos .fasta\n",
    "# ingresa un archivo multifasta y arroja una lista con cada secuencia (contig)\n",
    "with open('ejemplo.fasta','r') as f:\n",
    "    lines=f.read() # lectura decada linea del archivo\n",
    "    lines=lines.split('>') # identificador de '>'\n",
    "    lines=['>'+ x for x in lines[1:]] # lista con cada elemento que comienza con '>'\n",
    "    l = []\n",
    "    d = {}\n",
    "    for x in lines:\n",
    "        file_name=x.split('\\n')[0][1:] # quita los saltos de linea reemplazandolos con '\\n'\n",
    "        fil=open(file_name+'.fa','w')\n",
    "        fil.write(x)\n",
    "        fil.close()\n",
    "        x2 = x.replace(\"\\n\",\",\",1) # el primer '\\n' se reemplazapor una coma\n",
    "        x3 = x2.replace(\"\\n\",\"\") # los siguientes se quitan\n",
    "        l.append(x3) # lista con un contig en cada elemento y su identificador\n",
    "    # convertir la lista en un diccionario\n",
    "    for x in l:\n",
    "        x = x.split(',')\n",
    "        d[x[0]] = x[1] \n",
    "    print(d)\n"
   ]
  },
  {
   "cell_type": "code",
   "execution_count": 8,
   "metadata": {},
   "outputs": [],
   "source": [
    "def cutout(read,i,n_length): \n",
    "    cropped_read = read[i:i+n_length]\n",
    "    return(cropped_read)"
   ]
  },
  {
   "cell_type": "code",
   "execution_count": 9,
   "metadata": {},
   "outputs": [
    {
     "name": "stdout",
     "output_type": "stream",
     "text": [
      "[0, 'GAAGGGCCGC', 'TCCCCCACCC', 'GAAGGGCCGC', 'CCCCCACCCA', 'GCCGCTTCCC', 1, 'CGTGTCACAC', 'GACGCCGTGT', 'AACCGTGTCA', 'CGCGGGGCCG', 'GAGAACCGTG', 'TGTCACACGA', 'TCACACGACG', 'AGGAGAGAAC', 2, 'CCGGACACCG', 'CGACGTGAAC', 'GGTGACCGCG']\n"
     ]
    }
   ],
   "source": [
    "#LGR = ['CCCGACACCGAAGGGCCGCTTCCCCCACCCAAG','CCAGGAGAGAACCGTGTCACACGACGCCGTGTCCCCGAACGCGCGCGGGGCCGCCTTC','TTCGACGTGGACAACACCCTGATGCGGGGTGCGTCGATCTACCACTTCGCCCGGGGCCTGGCCTCCCGGGACCTGTTCACCACCCGCGACCTGATGCGGTTCGCGTGGGGGCAGACGGTGTTCCGGGTGACCGGCAGCGAGCAGCCCGAGCACATCAACGCCGCGCGTGAGGCCGCGCTGGCGTTCGTGGCCGGACACGACGTGAACGATCTGGTGGCGCTCTGCGAGGAGATCTACGACGACACCATGGCCGACAGGATCTGGGAGGGCACCCGGGCGCTCGTCCAGGGGCACCTGGACGCCGGGCGGCCGGTGTGGCTGGTGACCGCGACGCCGGTGGAGCTGGCCCAGATCATCCGGCGGCGGCTGGGCCTGACCGGTGCTCTGGGCACCGAGGCCGAGTGCGTCGACGGGGTGTACACGGGACGGTTGAACGGGGACCTGCTGCACGGTCCGGCCAAGGCCGTGGCGGTGCGCGCCCTCGCCCACAGGGAGGGGTGGGACCTGGCGTCCTGCTCCGCCTACAGCGACTCCTCCAACGACCTGCCGCTGCTGTCCCTGGTGGGGCGTCCGCACGCGGTCAACCCGGACACCGACCTGCGCAGGTACGCCCGCACGCACGGGTGGCCGGTGCACGACTTCCGGCGGCACCGGAACGCGCTGCGGGTGGCCGTCCCGGCCGCCGTGGGCGCGGTCGCCGGTGCCGTGGCGCTGCGCGCGGTCAGACAGAGACGGACCGGCTGAACCGG']\n",
    "import math\n",
    "from random import seed\n",
    "from random import randint\n",
    "\n",
    "# G1,G2,G3 que ingrese como archivo \n",
    "G1 = 'CCCGACACCGAAGGGCCGCTTCCCCCACCCAAG'\n",
    "G2 = 'CCAGGAGAGAACCGTGTCACACGACGCCGTGTCCCCGAACGCGCGCGGGGCCGCCTTC'\n",
    "G3 = 'TTCGACGTGGACAACACCCTGATGCGGGGTGCGTCGATCTACCACTTCGCCCGGGGCCTGGCCTCCCGGGACCTGTTCACCACCCGCGACCTGATGCGGTTCGCGTGGGGGCAGACGGTGTTCCGGGTGACCGGCAGCGAGCAGCCCGAGCACATCAACGCCGCGCGTGAGGCCGCGCTGGCGTTCGTGGCCGGACACGACGTGAACGATCTGGTGGCGCTCTGCGAGGAGATCTACGACGACACCATGGCCGACAGGATCTGGGAGGGCACCCGGGCGCTCGTCCAGGGGCACCTGGACGCCGGGCGGCCGGTGTGGCTGGTGACCGCGACGCCGGTGGAGCTGGCCCAGATCATCCGGCGGCGGCTGGGCCTGACCGGTGCTCTGGGCACCGAGGCCGAGTGCGTCGACGGGGTGTACACGGGACGGTTGAACGGGGACCTGCTGCACGGTCCGGCCAAGGCCGTGGCGGTGCGCGCCCTCGCCCACAGGGAGGGGTGGGACCTGGCGTCCTGCTCCGCCTACAGCGACTCCTCCAACGACCTGCCGCTGCTGTCCCTGGTGGGGCGTCCGCACGCGGTCAACCCGGACACCGACCTGCGCAGGTACGCCCGCACGCACGGGTGGCCGGTGCACGACTTCCGGCGGCACCGGAACGCGCTGCGGGTGGCCGTCCCGGCCGCCGTGGGCGCGGTCGCCGGTGCCGTGGCGCTGCGCGCGGTCAGACAGAGACGGACCGGCTGAACCGG'\n",
    "LGR = [G1,G2,G3]\n",
    "LN = [5,8,3] #cambiar por una aleatorio log-normal \n",
    "Ln = 10\n",
    "GS = []\n",
    "for j in range(len(LGR)):\n",
    "    g = LGR[j]\n",
    "    k = 0\n",
    "    GS.append(j)\n",
    "    while k < LN[j]:\n",
    "        i = randint(1,(len(g)-Ln))\n",
    "        GS.append(cutout(g,i,Ln))\n",
    "        k += 1\n",
    "print(GS)"
   ]
  },
  {
   "cell_type": "code",
   "execution_count": 31,
   "metadata": {},
   "outputs": [
    {
     "name": "stdout",
     "output_type": "stream",
     "text": [
      "{'>S0C0': ['TATCT'], '>S0C1': ['ATTTG'], '>S0C2': ['TGCTG'], '>S0C3': ['TACAT'], '>S0C4': ['CAAAT'], '>S0C5': ['TCCGT']}\n"
     ]
    }
   ],
   "source": [
    "# se quiere convertir la lista en un diccionario\n",
    "# y luego recortar los reads \n",
    "import math\n",
    "from random import seed\n",
    "from random import randint\n",
    "d2 = {}\n",
    "ln = 5\n",
    "for key,value in d.items():\n",
    "    i = randint(1,(len(value)-ln)) # toma un valor inicial aleatorio, para cortar los reads, entre 1 y la longitud del genoma menos la longitud del read deseado\n",
    "    #d2[key] = value # esto nos convierte la lista de secuencias en un diccionario, donde la llave es el id,y el valor la secuencia\n",
    "    d2[key] = [cutout(value,i,ln)] # aqui unimos el paso anterior,recortando los reads al mismo tiempo\n",
    "print(d2)\n"
   ]
  },
  {
   "cell_type": "code",
   "execution_count": 25,
   "metadata": {},
   "outputs": [
    {
     "name": "stdout",
     "output_type": "stream",
     "text": [
      "{'>S0C5': ['ATATG']}\n"
     ]
    }
   ],
   "source": [
    "# ahora hagamoslo aleatoreamente\n",
    "import math\n",
    "import random\n",
    "d3 = {}\n",
    "ln = 5\n",
    "I = 5\n",
    "\n",
    "for i in range(I):\n",
    "    contig = random.choice(list(d.values()))\n",
    "    i = randint(1,(len(value)-ln))\n",
    "    d3[key] = [cutout(contig,i,ln)]\n",
    "    \n",
    "print(d2)  \n",
    "    "
   ]
  },
  {
   "cell_type": "code",
   "execution_count": 28,
   "metadata": {},
   "outputs": [
    {
     "data": {
      "text/plain": [
       "'TTGTGCTATTTTCCACAGGGTATCACCGGGCTGAACTGTATATGTTTTGCCGTTTCCGCCTCCGGCGCTGTTGCTTTCGGTAGCGGGTTTGAAAGCGGGAACCGCGTCTGTTTGGTAGCGGCTGTATATATGCACCGGGGTACCGATAGGTATTTGGGGGAAAAGTTCTTCGACGTGGTGGTTATGCATACGGATACAGCCCAGCGATACGGCCTGCCCGATGGATGAAGGGTTGTTGTTGCCATGAATACCGTAATTACCGCCGGGGATGGTTAGTCCCATCCAGCGGGTTCCCAGA'"
      ]
     },
     "execution_count": 28,
     "metadata": {},
     "output_type": "execute_result"
    }
   ],
   "source": [
    "contig"
   ]
  },
  {
   "cell_type": "code",
   "execution_count": 106,
   "metadata": {},
   "outputs": [
    {
     "data": {
      "text/plain": [
       "5250"
      ]
     },
     "execution_count": 106,
     "metadata": {},
     "output_type": "execute_result"
    }
   ],
   "source": []
  },
  {
   "cell_type": "code",
   "execution_count": null,
   "metadata": {},
   "outputs": [],
   "source": []
  },
  {
   "cell_type": "code",
   "execution_count": null,
   "metadata": {},
   "outputs": [],
   "source": []
  },
  {
   "cell_type": "code",
   "execution_count": null,
   "metadata": {},
   "outputs": [],
   "source": [
    "#Funcion que reciba un genoma y genere reads"
   ]
  },
  {
   "cell_type": "code",
   "execution_count": 23,
   "metadata": {},
   "outputs": [],
   "source": [
    "import math\n",
    "from random import seed\n",
    "from random import randint\n",
    "# Al ingresar un conjunto de genomas, este nos arroja un metagenoma con varios reads tomados de los genomas iniciales\n",
    "# para esto se le entrega el numero de reads deseados por cada genoma y la longitud.\n",
    "def CAMISIM_1(LGR,LN,Ln):\n",
    "    GS = []\n",
    "    for j in range(len(LGR)):\n",
    "        g = LGR[j] #cada genoma de LGR\n",
    "        k = 0\n",
    "        GS.append(j) #ingresa el numero del genoma a las lista final GS\n",
    "        while k < LN[j]:\n",
    "            i = randint(1,(len(g)-Ln)) #toma un valor inicial aleatorio, para cortar los reads, entre 1 y la longitud del genoma menos la longitud del read deseado\n",
    "            GS.append(cutout(g,i,Ln))  # funcion para cortar el genoma 'g', iniciando desde la pocision 'i',y de lonjitud 'Ln'\n",
    "            k += 1\n",
    "    return(GS)\n",
    "    "
   ]
  },
  {
   "cell_type": "code",
   "execution_count": 25,
   "metadata": {},
   "outputs": [
    {
     "data": {
      "text/plain": [
       "[0,\n",
       " 'ACCGAAGGGC',\n",
       " 'AAGGGCCGCT',\n",
       " 'TTCCCCCACC',\n",
       " 'GAAGGGCCGC',\n",
       " 'CGAAGGGCCG',\n",
       " 1,\n",
       " 'GCGCGCGGGG',\n",
       " 'ACGACGCCGT',\n",
       " 'GAGAACCGTG',\n",
       " 'GGGCCGCCTT',\n",
       " 'CGCGCGCGGG',\n",
       " 'TCCCCGAACG',\n",
       " 'AACGCGCGCG',\n",
       " 'CGGGGCCGCC',\n",
       " 2,\n",
       " 'CCGTCCCGGC',\n",
       " 'CACCACCCGC',\n",
       " 'TCCCGGGACC']"
      ]
     },
     "execution_count": 25,
     "metadata": {},
     "output_type": "execute_result"
    }
   ],
   "source": [
    "G1 = 'CCCGACACCGAAGGGCCGCTTCCCCCACCCAAG'\n",
    "G2 = 'CCAGGAGAGAACCGTGTCACACGACGCCGTGTCCCCGAACGCGCGCGGGGCCGCCTTC'\n",
    "G3 = 'TTCGACGTGGACAACACCCTGATGCGGGGTGCGTCGATCTACCACTTCGCCCGGGGCCTGGCCTCCCGGGACCTGTTCACCACCCGCGACCTGATGCGGTTCGCGTGGGGGCAGACGGTGTTCCGGGTGACCGGCAGCGAGCAGCCCGAGCACATCAACGCCGCGCGTGAGGCCGCGCTGGCGTTCGTGGCCGGACACGACGTGAACGATCTGGTGGCGCTCTGCGAGGAGATCTACGACGACACCATGGCCGACAGGATCTGGGAGGGCACCCGGGCGCTCGTCCAGGGGCACCTGGACGCCGGGCGGCCGGTGTGGCTGGTGACCGCGACGCCGGTGGAGCTGGCCCAGATCATCCGGCGGCGGCTGGGCCTGACCGGTGCTCTGGGCACCGAGGCCGAGTGCGTCGACGGGGTGTACACGGGACGGTTGAACGGGGACCTGCTGCACGGTCCGGCCAAGGCCGTGGCGGTGCGCGCCCTCGCCCACAGGGAGGGGTGGGACCTGGCGTCCTGCTCCGCCTACAGCGACTCCTCCAACGACCTGCCGCTGCTGTCCCTGGTGGGGCGTCCGCACGCGGTCAACCCGGACACCGACCTGCGCAGGTACGCCCGCACGCACGGGTGGCCGGTGCACGACTTCCGGCGGCACCGGAACGCGCTGCGGGTGGCCGTCCCGGCCGCCGTGGGCGCGGTCGCCGGTGCCGTGGCGCTGCGCGCGGTCAGACAGAGACGGACCGGCTGAACCGG'\n",
    "#crear LGR en una funcion \n",
    "LGR = [G1,G2,G3]\n",
    "LN = [5,8,3]\n",
    "Ln = 10\n",
    "CAMISIM_1(LGR,LN,Ln)"
   ]
  },
  {
   "cell_type": "code",
   "execution_count": null,
   "metadata": {},
   "outputs": [],
   "source": []
  },
  {
   "cell_type": "code",
   "execution_count": null,
   "metadata": {},
   "outputs": [],
   "source": []
  },
  {
   "cell_type": "code",
   "execution_count": null,
   "metadata": {},
   "outputs": [],
   "source": []
  },
  {
   "cell_type": "code",
   "execution_count": null,
   "metadata": {},
   "outputs": [],
   "source": []
  },
  {
   "cell_type": "code",
   "execution_count": null,
   "metadata": {},
   "outputs": [],
   "source": []
  },
  {
   "cell_type": "code",
   "execution_count": null,
   "metadata": {},
   "outputs": [],
   "source": []
  },
  {
   "cell_type": "code",
   "execution_count": null,
   "metadata": {},
   "outputs": [],
   "source": []
  },
  {
   "cell_type": "code",
   "execution_count": null,
   "metadata": {},
   "outputs": [],
   "source": []
  },
  {
   "cell_type": "markdown",
   "metadata": {},
   "source": [
    "### Ideas de difinición\n",
    "* idea 1 - promedio\n",
    "* idea 2 - lista de N50 para varios genomas, y luego tomar el N50 de esa lista\n",
    "\n",
    "\n",
    "\n",
    "¿tamaño aproximado de los genes de bacterias?"
   ]
  },
  {
   "cell_type": "code",
   "execution_count": null,
   "metadata": {},
   "outputs": [],
   "source": [
    "#"
   ]
  },
  {
   "cell_type": "code",
   "execution_count": null,
   "metadata": {},
   "outputs": [],
   "source": []
  },
  {
   "cell_type": "code",
   "execution_count": null,
   "metadata": {},
   "outputs": [],
   "source": []
  },
  {
   "cell_type": "code",
   "execution_count": null,
   "metadata": {},
   "outputs": [],
   "source": []
  },
  {
   "cell_type": "code",
   "execution_count": null,
   "metadata": {},
   "outputs": [],
   "source": []
  },
  {
   "cell_type": "markdown",
   "metadata": {},
   "source": [
    "N50_Camila...\n",
    "queremos estimar el tamaño del genoma de cada taxon "
   ]
  },
  {
   "cell_type": "code",
   "execution_count": 24,
   "metadata": {},
   "outputs": [
    {
     "ename": "SyntaxError",
     "evalue": "unexpected EOF while parsing (<ipython-input-24-43e1450a47e0>, line 1)",
     "output_type": "error",
     "traceback": [
      "\u001b[0;36m  File \u001b[0;32m\"<ipython-input-24-43e1450a47e0>\"\u001b[0;36m, line \u001b[0;32m1\u001b[0m\n\u001b[0;31m    def N50_Metagenomico():\u001b[0m\n\u001b[0m                           ^\u001b[0m\n\u001b[0;31mSyntaxError\u001b[0m\u001b[0;31m:\u001b[0m unexpected EOF while parsing\n"
     ]
    }
   ],
   "source": [
    "def N50_Metagenomico():\n",
    "    "
   ]
  },
  {
   "cell_type": "code",
   "execution_count": null,
   "metadata": {},
   "outputs": [],
   "source": []
  },
  {
   "cell_type": "code",
   "execution_count": null,
   "metadata": {},
   "outputs": [],
   "source": []
  }
 ],
 "metadata": {
  "kernelspec": {
   "display_name": "Python 3 (ipykernel)",
   "language": "python",
   "name": "python3"
  },
  "language_info": {
   "codemirror_mode": {
    "name": "ipython",
    "version": 3
   },
   "file_extension": ".py",
   "mimetype": "text/x-python",
   "name": "python",
   "nbconvert_exporter": "python",
   "pygments_lexer": "ipython3",
   "version": "3.7.6"
  }
 },
 "nbformat": 4,
 "nbformat_minor": 4
}
