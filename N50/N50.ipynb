{
 "cells": [
  {
   "cell_type": "markdown",
   "metadata": {},
   "source": [
    "# N50 para genómica"
   ]
  },
  {
   "cell_type": "markdown",
   "metadata": {},
   "source": [
    "1. Leer el archivo\n",
    "2. Separar por secuencia (>)\n",
    "3. Crear lista de caracteres sin saltos de linea\n",
    "4. Calcular la longitud de cada secuencia\n",
    "5. Retornan las longitudes en una lista \n",
    "6. definicion + ejemplo"
   ]
  },
  {
   "cell_type": "code",
   "execution_count": 109,
   "metadata": {},
   "outputs": [],
   "source": [
    "def N50_Genomico(File): # definicion para calcular el N50 de un archivo fasta\n",
    "    with open(File) as f: \n",
    "        # lectura del archivo .fasta como f\n",
    "        dics = {}\n",
    "        lista = []\n",
    "        for line in f: \n",
    "            #para cada linea del archivo leido elimina espacios\n",
    "            line = line.rstrip() \n",
    "            if line.startswith('>'):\n",
    "                # si la linea comienza con '>'\n",
    "                line1 = line.split()\n",
    "                # divide la cadena 'str' y lo convierte en una lista\n",
    "                suma = 0\n",
    "            else:\n",
    "                suma += len(line)\n",
    "                dics[line1[0]] = suma\n",
    "                # se crea un diccionario por cada read, con el nombre como 'key' y la longitud del read como 'value'\n",
    "                \n",
    "    for key, value in dics.items():\n",
    "        lista.append(value) # se crea la lista con las logitudes de cada reads\n",
    "        lista.sort(reverse=True) # se ordena de mayor a menor \n",
    "    sumalista=sum(lista) # se suman todas las longitudes de los reads \n",
    "    sumlista=0\n",
    "    for i in range(len(lista)):\n",
    "        sumlista += lista[i] # se suman las longitudes una por una para llegar al 50% segun la definicion de la medida N50\n",
    "        if sumlista >=  (sumalista/2):\n",
    "            # el N50 toma la posicion que llega al 50% de la longitud total\n",
    "            n50=lista[i]\n",
    "            break\n",
    "    print(lista,\"assembly size =\",sumalista,\"n50 =\",n50,dics)\n"
   ]
  },
  {
   "cell_type": "code",
   "execution_count": 110,
   "metadata": {},
   "outputs": [
    {
     "name": "stdout",
     "output_type": "stream",
     "text": [
      "[840, 429, 298, 254, 235, 194, 150] assembly size = 2400 n50 = 429 {'>S0C0': 235, '>S0C1': 298, '>S0C2': 429, '>S0C3': 194, '>S0C4': 254, '>S0C5': 150, '>S0C6': 840}\n"
     ]
    }
   ],
   "source": [
    "archivo = 'ejemplo.fasta'\n",
    "N50_Genomico(archivo)"
   ]
  },
  {
   "cell_type": "code",
   "execution_count": null,
   "metadata": {},
   "outputs": [],
   "source": [
    "#para que sirve el n50 en genomas ->para que sirve en metagenomas"
   ]
  },
  {
   "cell_type": "markdown",
   "metadata": {},
   "source": [
    "# N50 para metagenómica"
   ]
  },
  {
   "cell_type": "markdown",
   "metadata": {},
   "source": [
    "En metagenomica se optiene un conjunto de diferentes genomas, por lo tanto se requiere adecuar la definicion de N50 en metagenomica "
   ]
  },
  {
   "cell_type": "markdown",
   "metadata": {},
   "source": [
    "#### Primero queremos desarrollar una generalizacion de la medida N50 para dos genomas"
   ]
  },
  {
   "cell_type": "markdown",
   "metadata": {},
   "source": [
    "* Tomando (ejemplo.fasta) que contienen 7 reads ... \n",
    "* Queremos crear dos archivo cada uno de un genoma con reads tomados aleatoriamente... \n",
    "* Comparar el N50 del metagenoma total con el N50 por cada genoma, esto para dos genomas."
   ]
  },
  {
   "cell_type": "code",
   "execution_count": 49,
   "metadata": {},
   "outputs": [
    {
     "name": "stdout",
     "output_type": "stream",
     "text": [
      "[840, 429, 298, 254, 235, 194, 150] assembly size = 2400 n50 = 429\n"
     ]
    }
   ],
   "source": [
    "archivo = 'ejemplo.fasta'\n",
    "N50_Genomico(archivo)"
   ]
  },
  {
   "cell_type": "code",
   "execution_count": 48,
   "metadata": {},
   "outputs": [
    {
     "name": "stdout",
     "output_type": "stream",
     "text": [
      "[298, 235] assembly size = 533 n50 = 298\n",
      "[840, 429, 254, 194, 150] assembly size = 1867 n50 = 429\n"
     ]
    }
   ],
   "source": [
    "G1 = 'G1.fasta'\n",
    "N50_Genomico(G1)\n",
    "G2 = 'G2.fasta'\n",
    "N50_Genomico(G2)"
   ]
  },
  {
   "cell_type": "markdown",
   "metadata": {},
   "source": [
    "La mediada N50 para 'G2' coincide con la del metagenoma completo, pero lamedida N50 para 'G1' no... "
   ]
  },
  {
   "cell_type": "markdown",
   "metadata": {},
   "source": [
    "#### CAMISIM - crear un archivo de genomas como CAMISIM, dado el documento 'ejemplo.fasta'\n",
    "A este script le deben entrar:\n",
    "* Una lista de genomas de referencia\n",
    "* Una lista de enteros $N_{i}$ que nos diga el número de 'Reads' por cada genoma nuevo.\n",
    "* Una lista de enteros $n_{i}$ que nos diga el tamaño de los 'Reads' \n",
    "queremos que el script nos arroje una lista de genomas que incluyan una lista de reads.\n",
    "\n",
    "Esto con el fin de comprender mas a fondo el funcionamiento de CAMISIM, y tambien poder generar datos de ejemplo para probar la medida N50."
   ]
  },
  {
   "cell_type": "code",
   "execution_count": 22,
   "metadata": {},
   "outputs": [],
   "source": [
    "def CAMISIM(LGR,LN,Ln):\n",
    "    GR = []\n",
    "    GS = []\n",
    "    with open(LGR) as f:\n",
    "        for line in f:\n",
    "            line = line.rstrip() \n",
    "            if line.startswith('>'):\n",
    "                line1 = line.split()\n",
    "            else:\n",
    "                line = line.split()\n",
    "                \n",
    "            GR.append(line)\n",
    "            # lista de genomas de referencia\n",
    "        #for g in GR:\n",
    "            # para cada genoma queremos crear una lista de 'N' reads de longitud 'n' \n",
    "            #for \n",
    "            # si G es un genoma: entonces recortarlo N veces de longitud n, cada uno de estos recortes esun read y guardarlo en GS\n",
    "        \n",
    "    return(GR)\n"
   ]
  },
  {
   "cell_type": "code",
   "execution_count": 58,
   "metadata": {},
   "outputs": [
    {
     "data": {
      "text/plain": [
       "['>S0C0',\n",
       " ['CTGAACTCATAACGCTGCTATTGTTGGGAGATTGGAACATTCCCGCTCCTAACCCGGTAA'],\n",
       " ['GTATGGCACCTGGAATTATATGATAGAAGCTAGCTGATGCTGAAAGGGTAGAAAAATAGA'],\n",
       " ['GCAAGCCCACACCAGTAATAGTCAAACCCGTTGTGGTCAAGAATACAGGGCCGAATTTAT'],\n",
       " ['CTGAGGCATTACCGCTTATTGGTGCTGTGATGGCCATTGTGATGGGAAAGATCAT'],\n",
       " '>S0C1',\n",
       " ['TTGTGCTATTTTCCACAGGGTATCACCGGGCTGAACTGTATATGTTTTGCCGTTTCCGCC'],\n",
       " ['TCCGGCGCTGTTGCTTTCGGTAGCGGGTTTGAAAGCGGGAACCGCGTCTGTTTGGTAGCG'],\n",
       " ['GCTGTATATATGCACCGGGGTACCGATAGGTATTTGGGGGAAAAGTTCTTCGACGTGGTG'],\n",
       " ['GTTATGCATACGGATACAGCCCAGCGATACGGCCTGCCCGATGGATGAAGGGTTGTTGTT'],\n",
       " ['GCCATGAATACCGTAATTACCGCCGGGGATGGTTAGTCCCATCCAGCGGGTTCCCAGA'],\n",
       " '>S0C2',\n",
       " ['ATCCCGGGGCAAGGCTTTGGCCCAGTAGGCCTAGATGAACCCCTTTTTCCTGATAACTTA'],\n",
       " ['AGTGTCTCATTAATTATCTCTGCCCCCTTTGCCCCCTTTGATGGCAGCCCTGACACATCA'],\n",
       " ['TTTAACGTTCCTTTGTTCGAAGTTCCAGGTGTCCCGGGAAACCTAATTATTGCTGTTAGT'],\n",
       " ['TTACTGATTGCTCAATTCTTTATTGAAAGAGCAGGCGTCGGGACTCCCAACGGAGATGGT'],\n",
       " ['TCAAAGGTCAATACTACTGTAAGTCTCGCCGAGGGAGGGGTCTTCTATGTCGTGGCCGTT'],\n",
       " ['TAAATCGAGATTATCTCCGAGGAGTTCCCCCCCCCCAACTAGGGCCTGTTCAAACCCGCC'],\n",
       " ['TTTGAGTTCAACCGTTCTGAAGTCTTGGGATTATGGTTTCAAGCGCCTTGTACCTCTTCT'],\n",
       " ['GGAGTATCC'],\n",
       " '>S0C3',\n",
       " ['AACGCATCTGTTACCGCTGGGTATATAGACGCGCAATATGACGAATATATCCTCAATGAA'],\n",
       " ['GTTGATGTGTCTGATCAGCGTGTATTCCAGAATACTCCCGACTGGTCTGCGAGTGGTGTG'],\n",
       " ['TTTACATATAATACGCCTCTTGGGGGTGGTGATTTGAATGTTGCGACCACCATTTCATAC'],\n",
       " ['AAAGGGGATTCAAG'],\n",
       " '>S0C4',\n",
       " ['GAGTATTATTTTTCTTGATCATTTCTTTCACCTACAATAACTTTATCGACAAATTAAGGT'],\n",
       " ['TCTTTCCAACTTATTTTAATCTATTTTAGAATATAGTACCAGTTGATCAAGGAAAATGTT'],\n",
       " ['GGTTAGCATAAGTCTCCACCCTAAACACTCCAGTCACAGCTTTGACAATGGCGTTATAGA'],\n",
       " ['GTAAGCTTCACATAGGTTGTCAAATCAGCAGCGATAAACTTAATTGCTTGTAGTTCTCTT'],\n",
       " ['TTCAGAGAAAAAGG'],\n",
       " '>S0C5',\n",
       " ['ATAGATCCAGAATTTGAAATAAGCAATAGTAGAGGATTTGATTATCCGTTAATAGAATCA'],\n",
       " ['GATAAAATCTATTATAGAGGCTTGTTTTTTGGAAAATCCTCAATCTTTGCATTGTATTGT'],\n",
       " ['GGATTTACCGATAAGGAGAGCATAGAGAAG'],\n",
       " '>S0C6',\n",
       " ['CCCGACACCGAAGGGCCGCTTCCCCCACCCAAGCCAGGAGAGAACCGTGTCACACGACGC'],\n",
       " ['CGTGTCCCCGAACGCGCGCGGGGCCGCCTTCTTCGACGTGGACAACACCCTGATGCGGGG'],\n",
       " ['TGCGTCGATCTACCACTTCGCCCGGGGCCTGGCCTCCCGGGACCTGTTCACCACCCGCGA'],\n",
       " ['CCTGATGCGGTTCGCGTGGGGGCAGACGGTGTTCCGGGTGACCGGCAGCGAGCAGCCCGA'],\n",
       " ['GCACATCAACGCCGCGCGTGAGGCCGCGCTGGCGTTCGTGGCCGGACACGACGTGAACGA'],\n",
       " ['TCTGGTGGCGCTCTGCGAGGAGATCTACGACGACACCATGGCCGACAGGATCTGGGAGGG'],\n",
       " ['CACCCGGGCGCTCGTCCAGGGGCACCTGGACGCCGGGCGGCCGGTGTGGCTGGTGACCGC'],\n",
       " ['GACGCCGGTGGAGCTGGCCCAGATCATCCGGCGGCGGCTGGGCCTGACCGGTGCTCTGGG'],\n",
       " ['CACCGAGGCCGAGTGCGTCGACGGGGTGTACACGGGACGGTTGAACGGGGACCTGCTGCA'],\n",
       " ['CGGTCCGGCCAAGGCCGTGGCGGTGCGCGCCCTCGCCCACAGGGAGGGGTGGGACCTGGC'],\n",
       " ['GTCCTGCTCCGCCTACAGCGACTCCTCCAACGACCTGCCGCTGCTGTCCCTGGTGGGGCG'],\n",
       " ['TCCGCACGCGGTCAACCCGGACACCGACCTGCGCAGGTACGCCCGCACGCACGGGTGGCC'],\n",
       " ['GGTGCACGACTTCCGGCGGCACCGGAACGCGCTGCGGGTGGCCGTCCCGGCCGCCGTGGG'],\n",
       " ['CGCGGTCGCCGGTGCCGTGGCGCTGCGCGCGGTCAGACAGAGACGGACCGGCTGAACCGG']]"
      ]
     },
     "execution_count": 58,
     "metadata": {},
     "output_type": "execute_result"
    }
   ],
   "source": [
    "LGR = 'ejemplo.fasta'\n",
    "LN = []\n",
    "Ln = []\n",
    "CAMISIM(LGR,LN,Ln)"
   ]
  },
  {
   "cell_type": "code",
   "execution_count": 2,
   "metadata": {},
   "outputs": [],
   "source": [
    "def cutout(read,i,n_length): \n",
    "    cropped_read = read[i:i+n_length]\n",
    "    return(cropped_read)"
   ]
  },
  {
   "cell_type": "code",
   "execution_count": 21,
   "metadata": {},
   "outputs": [
    {
     "name": "stdout",
     "output_type": "stream",
     "text": [
      "[0, 'CACCGAAGGG', 'CTTCCCCCAC', 'CACCGAAGGG', 'CCGCTTCCCC', 'GAAGGGCCGC', 1, 'AGAACCGTGT', 'TGTCACACGA', 'ACGCCGTGTC', 'ACACGACGCC', 'CGTGTCACAC', 'ACACGACGCC', 'CGCGGGGCCG', 'CGCGCGGGGC', 2, 'AACGGGGACC', 'ACGACGTGAA', 'CATCCGGCGG']\n"
     ]
    }
   ],
   "source": [
    "#LGR = ['CCCGACACCGAAGGGCCGCTTCCCCCACCCAAG','CCAGGAGAGAACCGTGTCACACGACGCCGTGTCCCCGAACGCGCGCGGGGCCGCCTTC','TTCGACGTGGACAACACCCTGATGCGGGGTGCGTCGATCTACCACTTCGCCCGGGGCCTGGCCTCCCGGGACCTGTTCACCACCCGCGACCTGATGCGGTTCGCGTGGGGGCAGACGGTGTTCCGGGTGACCGGCAGCGAGCAGCCCGAGCACATCAACGCCGCGCGTGAGGCCGCGCTGGCGTTCGTGGCCGGACACGACGTGAACGATCTGGTGGCGCTCTGCGAGGAGATCTACGACGACACCATGGCCGACAGGATCTGGGAGGGCACCCGGGCGCTCGTCCAGGGGCACCTGGACGCCGGGCGGCCGGTGTGGCTGGTGACCGCGACGCCGGTGGAGCTGGCCCAGATCATCCGGCGGCGGCTGGGCCTGACCGGTGCTCTGGGCACCGAGGCCGAGTGCGTCGACGGGGTGTACACGGGACGGTTGAACGGGGACCTGCTGCACGGTCCGGCCAAGGCCGTGGCGGTGCGCGCCCTCGCCCACAGGGAGGGGTGGGACCTGGCGTCCTGCTCCGCCTACAGCGACTCCTCCAACGACCTGCCGCTGCTGTCCCTGGTGGGGCGTCCGCACGCGGTCAACCCGGACACCGACCTGCGCAGGTACGCCCGCACGCACGGGTGGCCGGTGCACGACTTCCGGCGGCACCGGAACGCGCTGCGGGTGGCCGTCCCGGCCGCCGTGGGCGCGGTCGCCGGTGCCGTGGCGCTGCGCGCGGTCAGACAGAGACGGACCGGCTGAACCGG']\n",
    "import math\n",
    "from random import seed\n",
    "from random import randint\n",
    "\n",
    "G1 = 'CCCGACACCGAAGGGCCGCTTCCCCCACCCAAG'\n",
    "G2 = 'CCAGGAGAGAACCGTGTCACACGACGCCGTGTCCCCGAACGCGCGCGGGGCCGCCTTC'\n",
    "G3 = 'TTCGACGTGGACAACACCCTGATGCGGGGTGCGTCGATCTACCACTTCGCCCGGGGCCTGGCCTCCCGGGACCTGTTCACCACCCGCGACCTGATGCGGTTCGCGTGGGGGCAGACGGTGTTCCGGGTGACCGGCAGCGAGCAGCCCGAGCACATCAACGCCGCGCGTGAGGCCGCGCTGGCGTTCGTGGCCGGACACGACGTGAACGATCTGGTGGCGCTCTGCGAGGAGATCTACGACGACACCATGGCCGACAGGATCTGGGAGGGCACCCGGGCGCTCGTCCAGGGGCACCTGGACGCCGGGCGGCCGGTGTGGCTGGTGACCGCGACGCCGGTGGAGCTGGCCCAGATCATCCGGCGGCGGCTGGGCCTGACCGGTGCTCTGGGCACCGAGGCCGAGTGCGTCGACGGGGTGTACACGGGACGGTTGAACGGGGACCTGCTGCACGGTCCGGCCAAGGCCGTGGCGGTGCGCGCCCTCGCCCACAGGGAGGGGTGGGACCTGGCGTCCTGCTCCGCCTACAGCGACTCCTCCAACGACCTGCCGCTGCTGTCCCTGGTGGGGCGTCCGCACGCGGTCAACCCGGACACCGACCTGCGCAGGTACGCCCGCACGCACGGGTGGCCGGTGCACGACTTCCGGCGGCACCGGAACGCGCTGCGGGTGGCCGTCCCGGCCGCCGTGGGCGCGGTCGCCGGTGCCGTGGCGCTGCGCGCGGTCAGACAGAGACGGACCGGCTGAACCGG'\n",
    "LGR = [G1,G2,G3]\n",
    "LN = [5,8,3]\n",
    "Ln = 10\n",
    "GS = []\n",
    "for j in range(len(LGR)):\n",
    "    g = LGR[j]\n",
    "    k = 0\n",
    "    GS.append(j)\n",
    "    while k < LN[j]:\n",
    "        i = randint(1,(len(g)-Ln))\n",
    "        GS.append(cutout(g,i,Ln))\n",
    "        k += 1\n",
    "print(GS)"
   ]
  },
  {
   "cell_type": "code",
   "execution_count": 23,
   "metadata": {},
   "outputs": [],
   "source": [
    "import math\n",
    "from random import seed\n",
    "from random import randint\n",
    "# Al ingresar un conjunto de genomas, este nos arroja un metagenoma con varios reads tomados de los genomas iniciales\n",
    "# para esto se le entrega el numero de reads deseados por cada genoma y la longitud.\n",
    "def CAMISIM_1(LGR,LN,Ln):\n",
    "    GS = []\n",
    "    for j in range(len(LGR)):\n",
    "        g = LGR[j] #cada genoma de LGR\n",
    "        k = 0\n",
    "        GS.append(j) #ingresa el numero del genoma a las lista final GS\n",
    "        while k < LN[j]:\n",
    "            i = randint(1,(len(g)-Ln)) #toma un valor inicial aleatorio, para cortar los reads, entre 1 y la longitud del genoma menos la longitud del read deseado\n",
    "            GS.append(cutout(g,i,Ln))  # funcion para cortar el genoma 'g', iniciando desde la pocision 'i',y de lonjitud 'Ln'\n",
    "            k += 1\n",
    "    return(GS)\n",
    "    "
   ]
  },
  {
   "cell_type": "code",
   "execution_count": 25,
   "metadata": {},
   "outputs": [
    {
     "data": {
      "text/plain": [
       "[0,\n",
       " 'ACCGAAGGGC',\n",
       " 'AAGGGCCGCT',\n",
       " 'TTCCCCCACC',\n",
       " 'GAAGGGCCGC',\n",
       " 'CGAAGGGCCG',\n",
       " 1,\n",
       " 'GCGCGCGGGG',\n",
       " 'ACGACGCCGT',\n",
       " 'GAGAACCGTG',\n",
       " 'GGGCCGCCTT',\n",
       " 'CGCGCGCGGG',\n",
       " 'TCCCCGAACG',\n",
       " 'AACGCGCGCG',\n",
       " 'CGGGGCCGCC',\n",
       " 2,\n",
       " 'CCGTCCCGGC',\n",
       " 'CACCACCCGC',\n",
       " 'TCCCGGGACC']"
      ]
     },
     "execution_count": 25,
     "metadata": {},
     "output_type": "execute_result"
    }
   ],
   "source": [
    "G1 = 'CCCGACACCGAAGGGCCGCTTCCCCCACCCAAG'\n",
    "G2 = 'CCAGGAGAGAACCGTGTCACACGACGCCGTGTCCCCGAACGCGCGCGGGGCCGCCTTC'\n",
    "G3 = 'TTCGACGTGGACAACACCCTGATGCGGGGTGCGTCGATCTACCACTTCGCCCGGGGCCTGGCCTCCCGGGACCTGTTCACCACCCGCGACCTGATGCGGTTCGCGTGGGGGCAGACGGTGTTCCGGGTGACCGGCAGCGAGCAGCCCGAGCACATCAACGCCGCGCGTGAGGCCGCGCTGGCGTTCGTGGCCGGACACGACGTGAACGATCTGGTGGCGCTCTGCGAGGAGATCTACGACGACACCATGGCCGACAGGATCTGGGAGGGCACCCGGGCGCTCGTCCAGGGGCACCTGGACGCCGGGCGGCCGGTGTGGCTGGTGACCGCGACGCCGGTGGAGCTGGCCCAGATCATCCGGCGGCGGCTGGGCCTGACCGGTGCTCTGGGCACCGAGGCCGAGTGCGTCGACGGGGTGTACACGGGACGGTTGAACGGGGACCTGCTGCACGGTCCGGCCAAGGCCGTGGCGGTGCGCGCCCTCGCCCACAGGGAGGGGTGGGACCTGGCGTCCTGCTCCGCCTACAGCGACTCCTCCAACGACCTGCCGCTGCTGTCCCTGGTGGGGCGTCCGCACGCGGTCAACCCGGACACCGACCTGCGCAGGTACGCCCGCACGCACGGGTGGCCGGTGCACGACTTCCGGCGGCACCGGAACGCGCTGCGGGTGGCCGTCCCGGCCGCCGTGGGCGCGGTCGCCGGTGCCGTGGCGCTGCGCGCGGTCAGACAGAGACGGACCGGCTGAACCGG'\n",
    "#crear LGR en una funcion \n",
    "LGR = [G1,G2,G3]\n",
    "LN = [5,8,3]\n",
    "Ln = 10\n",
    "CAMISIM_1(LGR,LN,Ln)"
   ]
  },
  {
   "cell_type": "code",
   "execution_count": null,
   "metadata": {},
   "outputs": [],
   "source": []
  },
  {
   "cell_type": "markdown",
   "metadata": {},
   "source": [
    "### Ideas de difinición\n",
    "* idea 1 - promedio\n",
    "* idea 2 - lista de N50 para varios genomas, y luego tomar el N50 de esa lista\n",
    "\n",
    "\n",
    "\n",
    "¿tamaño aproximado de los genes de bacterias?"
   ]
  },
  {
   "cell_type": "code",
   "execution_count": null,
   "metadata": {},
   "outputs": [],
   "source": [
    "#"
   ]
  },
  {
   "cell_type": "code",
   "execution_count": null,
   "metadata": {},
   "outputs": [],
   "source": []
  },
  {
   "cell_type": "code",
   "execution_count": null,
   "metadata": {},
   "outputs": [],
   "source": []
  },
  {
   "cell_type": "code",
   "execution_count": null,
   "metadata": {},
   "outputs": [],
   "source": []
  },
  {
   "cell_type": "code",
   "execution_count": null,
   "metadata": {},
   "outputs": [],
   "source": []
  },
  {
   "cell_type": "markdown",
   "metadata": {},
   "source": [
    "N50_Camila...\n",
    "queremos estimar el tamaño del genoma de cada taxon "
   ]
  },
  {
   "cell_type": "code",
   "execution_count": 24,
   "metadata": {},
   "outputs": [
    {
     "ename": "SyntaxError",
     "evalue": "unexpected EOF while parsing (<ipython-input-24-43e1450a47e0>, line 1)",
     "output_type": "error",
     "traceback": [
      "\u001b[0;36m  File \u001b[0;32m\"<ipython-input-24-43e1450a47e0>\"\u001b[0;36m, line \u001b[0;32m1\u001b[0m\n\u001b[0;31m    def N50_Metagenomico():\u001b[0m\n\u001b[0m                           ^\u001b[0m\n\u001b[0;31mSyntaxError\u001b[0m\u001b[0;31m:\u001b[0m unexpected EOF while parsing\n"
     ]
    }
   ],
   "source": [
    "def N50_Metagenomico():\n",
    "    "
   ]
  },
  {
   "cell_type": "code",
   "execution_count": null,
   "metadata": {},
   "outputs": [],
   "source": []
  },
  {
   "cell_type": "code",
   "execution_count": null,
   "metadata": {},
   "outputs": [],
   "source": []
  }
 ],
 "metadata": {
  "kernelspec": {
   "display_name": "Python 3 (ipykernel)",
   "language": "python",
   "name": "python3"
  },
  "language_info": {
   "codemirror_mode": {
    "name": "ipython",
    "version": 3
   },
   "file_extension": ".py",
   "mimetype": "text/x-python",
   "name": "python",
   "nbconvert_exporter": "python",
   "pygments_lexer": "ipython3",
   "version": "3.7.6"
  }
 },
 "nbformat": 4,
 "nbformat_minor": 4
}
