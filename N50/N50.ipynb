{
 "cells": [
  {
   "cell_type": "code",
   "execution_count": null,
   "metadata": {},
   "outputs": [],
   "source": [
    "#leer el archivo\n",
    "#separar por secuencia (>)\n",
    "#crear lista de caracteres sin saltos de linea\n",
    "#calcular la longitud de cada secuencia\n",
    "#retornan las longitudes en una lista \n",
    "\n",
    "#definicion + ejemplo"
   ]
  },
  {
   "cell_type": "code",
   "execution_count": 41,
   "metadata": {},
   "outputs": [
    {
     "name": "stdout",
     "output_type": "stream",
     "text": [
      "[840, 429, 298, 254, 235, 194, 150] assembly size = 2400 n50 = 429\n"
     ]
    }
   ],
   "source": [
    "#Calcular N50\n",
    "\n",
    "def N50():\n",
    "    with open(\"ejemplo.fasta\") as f:\n",
    "        dics = {}\n",
    "        lista = []\n",
    "        for line in f:\n",
    "            line = line.rstrip()\n",
    "            if line.startswith('>'):\n",
    "                line1 = line.split()\n",
    "                suma = 0\n",
    "            else:\n",
    "                suma += len(line)\n",
    "                dics[line1[0]] = suma\n",
    "                \n",
    "    for key, value in dics.items():\n",
    "        lista.append(value)\n",
    "        lista.sort(reverse=True)\n",
    "    sumalista=sum(lista)\n",
    "    sumlista=0\n",
    "    for i in range(len(lista)):\n",
    "        sumlista += lista[i]\n",
    "        if sumlista >=  (sumalista/2):\n",
    "            n50=lista[i]\n",
    "            break\n",
    "    print(lista,\"assembly size =\",sumalista,\"n50 =\",n50)\n",
    "\n",
    "    \n",
    "#.sort (ordenar de mayor menor)\n",
    "#sumar todas las longitudes \n",
    "#\"partir al medio\""
   ]
  },
  {
   "cell_type": "code",
   "execution_count": null,
   "metadata": {},
   "outputs": [],
   "source": [
    "#para que sirve el n50 en genomas ->para que sirve en metagenomas"
   ]
  }
 ],
 "metadata": {
  "kernelspec": {
   "display_name": "Python 3 (ipykernel)",
   "language": "python",
   "name": "python3"
  },
  "language_info": {
   "codemirror_mode": {
    "name": "ipython",
    "version": 3
   },
   "file_extension": ".py",
   "mimetype": "text/x-python",
   "name": "python",
   "nbconvert_exporter": "python",
   "pygments_lexer": "ipython3",
   "version": "3.7.6"
  }
 },
 "nbformat": 4,
 "nbformat_minor": 4
}
