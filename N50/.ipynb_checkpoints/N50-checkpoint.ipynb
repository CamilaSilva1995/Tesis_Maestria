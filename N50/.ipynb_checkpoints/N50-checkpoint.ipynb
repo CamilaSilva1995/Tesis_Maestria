{
 "cells": [
  {
   "cell_type": "markdown",
   "metadata": {},
   "source": [
    "# N50 para genómica"
   ]
  },
  {
   "cell_type": "markdown",
   "metadata": {},
   "source": [
    "1. Leer el archivo\n",
    "2. Separar por secuencia (>)\n",
    "3. Crear lista de caracteres sin saltos de linea\n",
    "4. Calcular la longitud de cada secuencia\n",
    "5. Retornan las longitudes en una lista \n",
    "6. definicion + ejemplo"
   ]
  },
  {
   "cell_type": "code",
   "execution_count": 26,
   "metadata": {},
   "outputs": [],
   "source": [
    "def N50_Genomico(): # definicion para calcular el N50 de un archivo fasta\n",
    "    with open(\"ejemplo.fasta\") as f: \n",
    "        # lectura del archivo .fasta como f\n",
    "        dics = {}\n",
    "        lista = []\n",
    "        for line in f: \n",
    "            #para cada linea del archivo leido elimina espacios\n",
    "            line = line.rstrip() \n",
    "            if line.startswith('>'):\n",
    "                # si la linea comienza con '>'\n",
    "                line1 = line.split()\n",
    "                # divide la cadena 'str' y lo convierte en una lista\n",
    "                suma = 0\n",
    "            else:\n",
    "                suma += len(line)\n",
    "                dics[line1[0]] = suma\n",
    "                # se crea un diccionario por cada read, con el nombre como 'key' y la longitud del read como 'value'\n",
    "                \n",
    "    for key, value in dics.items():\n",
    "        lista.append(value) # se crea la lista con las logitudes de cada reads\n",
    "        lista.sort(reverse=True) # se ordena de mayor a menor \n",
    "    sumalista=sum(lista) # se suman todas las longitudes de los reads \n",
    "    sumlista=0\n",
    "    for i in range(len(lista)):\n",
    "        sumlista += lista[i] # se suman las longitudes una por una para llegar al 50% segun la definicion de la medida N50\n",
    "        if sumlista >=  (sumalista/2):\n",
    "            # el N50 toma la posicion que llega al 50% de la longitud total\n",
    "            n50=lista[i]\n",
    "            break\n",
    "    print(lista,\"assembly size =\",sumalista,\"n50 =\",n50)"
   ]
  },
  {
   "cell_type": "code",
   "execution_count": 27,
   "metadata": {},
   "outputs": [
    {
     "name": "stdout",
     "output_type": "stream",
     "text": [
      "[840, 429, 298, 254, 235, 194, 150] assembly size = 2400 n50 = 429\n"
     ]
    }
   ],
   "source": [
    "N50_Genomico()"
   ]
  },
  {
   "cell_type": "code",
   "execution_count": null,
   "metadata": {},
   "outputs": [],
   "source": [
    "#para que sirve el n50 en genomas ->para que sirve en metagenomas"
   ]
  },
  {
   "cell_type": "markdown",
   "metadata": {},
   "source": [
    "# N50 para metagenómica"
   ]
  },
  {
   "cell_type": "code",
   "execution_count": null,
   "metadata": {},
   "outputs": [],
   "source": []
  },
  {
   "cell_type": "code",
   "execution_count": 24,
   "metadata": {},
   "outputs": [
    {
     "ename": "SyntaxError",
     "evalue": "unexpected EOF while parsing (<ipython-input-24-43e1450a47e0>, line 1)",
     "output_type": "error",
     "traceback": [
      "\u001b[0;36m  File \u001b[0;32m\"<ipython-input-24-43e1450a47e0>\"\u001b[0;36m, line \u001b[0;32m1\u001b[0m\n\u001b[0;31m    def N50_Metagenomico():\u001b[0m\n\u001b[0m                           ^\u001b[0m\n\u001b[0;31mSyntaxError\u001b[0m\u001b[0;31m:\u001b[0m unexpected EOF while parsing\n"
     ]
    }
   ],
   "source": [
    "def N50_Metagenomico():\n",
    "    "
   ]
  },
  {
   "cell_type": "code",
   "execution_count": null,
   "metadata": {},
   "outputs": [],
   "source": []
  },
  {
   "cell_type": "code",
   "execution_count": null,
   "metadata": {},
   "outputs": [],
   "source": []
  },
  {
   "cell_type": "code",
   "execution_count": null,
   "metadata": {},
   "outputs": [],
   "source": []
  }
 ],
 "metadata": {
  "kernelspec": {
   "display_name": "Python 3 (ipykernel)",
   "language": "python",
   "name": "python3"
  },
  "language_info": {
   "codemirror_mode": {
    "name": "ipython",
    "version": 3
   },
   "file_extension": ".py",
   "mimetype": "text/x-python",
   "name": "python",
   "nbconvert_exporter": "python",
   "pygments_lexer": "ipython3",
   "version": "3.7.6"
  }
 },
 "nbformat": 4,
 "nbformat_minor": 4
}
