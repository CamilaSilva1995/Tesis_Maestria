{
 "cells": [
  {
   "cell_type": "markdown",
   "metadata": {},
   "source": [
    "# CAMISIM\n",
    "#### Crear un archivo de genomas como CAMISIM, dado el documento 'ejemplo.fasta'\n",
    "A este script le deben entrar:\n",
    "* Una lista de genomas de referencia\n",
    "* Una lista de enteros $N_{i}$ que nos diga el número de 'Reads' por cada genoma nuevo.\n",
    "* Una lista de enteros $n_{i}$ que nos diga el tamaño de los 'Reads' \n",
    "queremos que el script nos arroje una lista de genomas que incluyan una lista de reads.\n",
    "\n",
    "Esto con el fin de comprender mas a fondo el funcionamiento de CAMISIM, y tambien poder generar datos de ejemplo para probar la medida N50."
   ]
  },
  {
   "cell_type": "code",
   "execution_count": 5,
   "metadata": {},
   "outputs": [],
   "source": [
    "ejem = open('/home/csilva/GIT/Tesis_Maestria/ejemplo.fasta','r')\n",
    "cont = ejem.read()"
   ]
  },
  {
   "cell_type": "code",
   "execution_count": 6,
   "metadata": {},
   "outputs": [
    {
     "data": {
      "text/plain": [
       "'>S0C0\\nCTGAACTCATAACGCTGCTATTGTTGGGAGATTGGAACATTCCCGCTCCTAACCCGGTAA\\nGTATGGCACCTGGAATTATATGATAGAAGCTAGCTGATGCTGAAAGGGTAGAAAAATAGA\\nGCAAGCCCACACCAGTAATAGTCAAACCCGTTGTGGTCAAGAATACAGGGCCGAATTTAT\\nCTGAGGCATTACCGCTTATTGGTGCTGTGATGGCCATTGTGATGGGAAAGATCAT\\n>S0C1\\nTTGTGCTATTTTCCACAGGGTATCACCGGGCTGAACTGTATATGTTTTGCCGTTTCCGCC\\nTCCGGCGCTGTTGCTTTCGGTAGCGGGTTTGAAAGCGGGAACCGCGTCTGTTTGGTAGCG\\nGCTGTATATATGCACCGGGGTACCGATAGGTATTTGGGGGAAAAGTTCTTCGACGTGGTG\\nGTTATGCATACGGATACAGCCCAGCGATACGGCCTGCCCGATGGATGAAGGGTTGTTGTT\\nGCCATGAATACCGTAATTACCGCCGGGGATGGTTAGTCCCATCCAGCGGGTTCCCAGA\\n>S0C2\\nATCCCGGGGCAAGGCTTTGGCCCAGTAGGCCTAGATGAACCCCTTTTTCCTGATAACTTA\\nAGTGTCTCATTAATTATCTCTGCCCCCTTTGCCCCCTTTGATGGCAGCCCTGACACATCA\\nTTTAACGTTCCTTTGTTCGAAGTTCCAGGTGTCCCGGGAAACCTAATTATTGCTGTTAGT\\nTTACTGATTGCTCAATTCTTTATTGAAAGAGCAGGCGTCGGGACTCCCAACGGAGATGGT\\nTCAAAGGTCAATACTACTGTAAGTCTCGCCGAGGGAGGGGTCTTCTATGTCGTGGCCGTT\\nTAAATCGAGATTATCTCCGAGGAGTTCCCCCCCCCCAACTAGGGCCTGTTCAAACCCGCC\\nTTTGAGTTCAACCGTTCTGAAGTCTTGGGATTATGGTTTCAAGCGCCTTGTACCTCTTCT\\nGGAGTATCC\\n>S0C3\\nAACGCATCTGTTACCGCTGGGTATATAGACGCGCAATATGACGAATATATCCTCAATGAA\\nGTTGATGTGTCTGATCAGCGTGTATTCCAGAATACTCCCGACTGGTCTGCGAGTGGTGTG\\nTTTACATATAATACGCCTCTTGGGGGTGGTGATTTGAATGTTGCGACCACCATTTCATAC\\nAAAGGGGATTCAAG\\n>S0C4\\nGAGTATTATTTTTCTTGATCATTTCTTTCACCTACAATAACTTTATCGACAAATTAAGGT\\nTCTTTCCAACTTATTTTAATCTATTTTAGAATATAGTACCAGTTGATCAAGGAAAATGTT\\nGGTTAGCATAAGTCTCCACCCTAAACACTCCAGTCACAGCTTTGACAATGGCGTTATAGA\\nGTAAGCTTCACATAGGTTGTCAAATCAGCAGCGATAAACTTAATTGCTTGTAGTTCTCTT\\nTTCAGAGAAAAAGG\\n>S0C5\\nATAGATCCAGAATTTGAAATAAGCAATAGTAGAGGATTTGATTATCCGTTAATAGAATCA\\nGATAAAATCTATTATAGAGGCTTGTTTTTTGGAAAATCCTCAATCTTTGCATTGTATTGT\\nGGATTTACCGATAAGGAGAGCATAGAGAAG\\n>S0C6\\nCCCGACACCGAAGGGCCGCTTCCCCCACCCAAGCCAGGAGAGAACCGTGTCACACGACGC\\nCGTGTCCCCGAACGCGCGCGGGGCCGCCTTCTTCGACGTGGACAACACCCTGATGCGGGG\\nTGCGTCGATCTACCACTTCGCCCGGGGCCTGGCCTCCCGGGACCTGTTCACCACCCGCGA\\nCCTGATGCGGTTCGCGTGGGGGCAGACGGTGTTCCGGGTGACCGGCAGCGAGCAGCCCGA\\nGCACATCAACGCCGCGCGTGAGGCCGCGCTGGCGTTCGTGGCCGGACACGACGTGAACGA\\nTCTGGTGGCGCTCTGCGAGGAGATCTACGACGACACCATGGCCGACAGGATCTGGGAGGG\\nCACCCGGGCGCTCGTCCAGGGGCACCTGGACGCCGGGCGGCCGGTGTGGCTGGTGACCGC\\nGACGCCGGTGGAGCTGGCCCAGATCATCCGGCGGCGGCTGGGCCTGACCGGTGCTCTGGG\\nCACCGAGGCCGAGTGCGTCGACGGGGTGTACACGGGACGGTTGAACGGGGACCTGCTGCA\\nCGGTCCGGCCAAGGCCGTGGCGGTGCGCGCCCTCGCCCACAGGGAGGGGTGGGACCTGGC\\nGTCCTGCTCCGCCTACAGCGACTCCTCCAACGACCTGCCGCTGCTGTCCCTGGTGGGGCG\\nTCCGCACGCGGTCAACCCGGACACCGACCTGCGCAGGTACGCCCGCACGCACGGGTGGCC\\nGGTGCACGACTTCCGGCGGCACCGGAACGCGCTGCGGGTGGCCGTCCCGGCCGCCGTGGG\\nCGCGGTCGCCGGTGCCGTGGCGCTGCGCGCGGTCAGACAGAGACGGACCGGCTGAACCGG\\n'"
      ]
     },
     "execution_count": 6,
     "metadata": {},
     "output_type": "execute_result"
    }
   ],
   "source": [
    "cont"
   ]
  },
  {
   "cell_type": "code",
   "execution_count": 7,
   "metadata": {},
   "outputs": [
    {
     "name": "stdout",
     "output_type": "stream",
     "text": [
      "{'>S0C0': 'CTGAACTCATAACGCTGCTATTGTTGGGAGATTGGAACATTCCCGCTCCTAACCCGGTAAGTATGGCACCTGGAATTATATGATAGAAGCTAGCTGATGCTGAAAGGGTAGAAAAATAGAGCAAGCCCACACCAGTAATAGTCAAACCCGTTGTGGTCAAGAATACAGGGCCGAATTTATCTGAGGCATTACCGCTTATTGGTGCTGTGATGGCCATTGTGATGGGAAAGATCAT', '>S0C1': 'TTGTGCTATTTTCCACAGGGTATCACCGGGCTGAACTGTATATGTTTTGCCGTTTCCGCCTCCGGCGCTGTTGCTTTCGGTAGCGGGTTTGAAAGCGGGAACCGCGTCTGTTTGGTAGCGGCTGTATATATGCACCGGGGTACCGATAGGTATTTGGGGGAAAAGTTCTTCGACGTGGTGGTTATGCATACGGATACAGCCCAGCGATACGGCCTGCCCGATGGATGAAGGGTTGTTGTTGCCATGAATACCGTAATTACCGCCGGGGATGGTTAGTCCCATCCAGCGGGTTCCCAGA', '>S0C2': 'ATCCCGGGGCAAGGCTTTGGCCCAGTAGGCCTAGATGAACCCCTTTTTCCTGATAACTTAAGTGTCTCATTAATTATCTCTGCCCCCTTTGCCCCCTTTGATGGCAGCCCTGACACATCATTTAACGTTCCTTTGTTCGAAGTTCCAGGTGTCCCGGGAAACCTAATTATTGCTGTTAGTTTACTGATTGCTCAATTCTTTATTGAAAGAGCAGGCGTCGGGACTCCCAACGGAGATGGTTCAAAGGTCAATACTACTGTAAGTCTCGCCGAGGGAGGGGTCTTCTATGTCGTGGCCGTTTAAATCGAGATTATCTCCGAGGAGTTCCCCCCCCCCAACTAGGGCCTGTTCAAACCCGCCTTTGAGTTCAACCGTTCTGAAGTCTTGGGATTATGGTTTCAAGCGCCTTGTACCTCTTCTGGAGTATCC', '>S0C3': 'AACGCATCTGTTACCGCTGGGTATATAGACGCGCAATATGACGAATATATCCTCAATGAAGTTGATGTGTCTGATCAGCGTGTATTCCAGAATACTCCCGACTGGTCTGCGAGTGGTGTGTTTACATATAATACGCCTCTTGGGGGTGGTGATTTGAATGTTGCGACCACCATTTCATACAAAGGGGATTCAAG', '>S0C4': 'GAGTATTATTTTTCTTGATCATTTCTTTCACCTACAATAACTTTATCGACAAATTAAGGTTCTTTCCAACTTATTTTAATCTATTTTAGAATATAGTACCAGTTGATCAAGGAAAATGTTGGTTAGCATAAGTCTCCACCCTAAACACTCCAGTCACAGCTTTGACAATGGCGTTATAGAGTAAGCTTCACATAGGTTGTCAAATCAGCAGCGATAAACTTAATTGCTTGTAGTTCTCTTTTCAGAGAAAAAGG', '>S0C5': 'ATAGATCCAGAATTTGAAATAAGCAATAGTAGAGGATTTGATTATCCGTTAATAGAATCAGATAAAATCTATTATAGAGGCTTGTTTTTTGGAAAATCCTCAATCTTTGCATTGTATTGTGGATTTACCGATAAGGAGAGCATAGAGAAG', '>S0C6': 'CCCGACACCGAAGGGCCGCTTCCCCCACCCAAGCCAGGAGAGAACCGTGTCACACGACGCCGTGTCCCCGAACGCGCGCGGGGCCGCCTTCTTCGACGTGGACAACACCCTGATGCGGGGTGCGTCGATCTACCACTTCGCCCGGGGCCTGGCCTCCCGGGACCTGTTCACCACCCGCGACCTGATGCGGTTCGCGTGGGGGCAGACGGTGTTCCGGGTGACCGGCAGCGAGCAGCCCGAGCACATCAACGCCGCGCGTGAGGCCGCGCTGGCGTTCGTGGCCGGACACGACGTGAACGATCTGGTGGCGCTCTGCGAGGAGATCTACGACGACACCATGGCCGACAGGATCTGGGAGGGCACCCGGGCGCTCGTCCAGGGGCACCTGGACGCCGGGCGGCCGGTGTGGCTGGTGACCGCGACGCCGGTGGAGCTGGCCCAGATCATCCGGCGGCGGCTGGGCCTGACCGGTGCTCTGGGCACCGAGGCCGAGTGCGTCGACGGGGTGTACACGGGACGGTTGAACGGGGACCTGCTGCACGGTCCGGCCAAGGCCGTGGCGGTGCGCGCCCTCGCCCACAGGGAGGGGTGGGACCTGGCGTCCTGCTCCGCCTACAGCGACTCCTCCAACGACCTGCCGCTGCTGTCCCTGGTGGGGCGTCCGCACGCGGTCAACCCGGACACCGACCTGCGCAGGTACGCCCGCACGCACGGGTGGCCGGTGCACGACTTCCGGCGGCACCGGAACGCGCTGCGGGTGGCCGTCCCGGCCGCCGTGGGCGCGGTCGCCGGTGCCGTGGCGCTGCGCGCGGTCAGACAGAGACGGACCGGCTGAACCGG'}\n"
     ]
    }
   ],
   "source": [
    "# lectura de archivos .fasta\n",
    "# ingresa un archivo multifasta y arroja una lista con cada secuencia (contig)\n",
    "with open('/home/csilva/GIT/Tesis_Maestria/ejemplo.fasta','r') as f:\n",
    "    lines=f.read() # lectura decada linea del archivo\n",
    "    lines=lines.split('>') # identificador de '>'\n",
    "    lines=['>'+ x for x in lines[1:]] # lista con cada elemento que comienza con '>'\n",
    "    l = []\n",
    "    d = {}\n",
    "    for x in lines:\n",
    "        file_name=x.split('\\n')[0][1:] # quita los saltos de linea reemplazandolos con '\\n'\n",
    "        fil=open(file_name+'.fa','w')\n",
    "        fil.write(x)\n",
    "        fil.close()\n",
    "        x2 = x.replace(\"\\n\",\",\",1) # el primer '\\n' se reemplazapor una coma\n",
    "        x3 = x2.replace(\"\\n\",\"\") # los siguientes se quitan\n",
    "        l.append(x3) # lista con un contig en cada elemento y su identificador\n",
    "    # convertir la lista en un diccionario\n",
    "    for x in l:\n",
    "        x = x.split(',')\n",
    "        d[x[0]] = x[1] \n",
    "    print(d)\n"
   ]
  },
  {
   "cell_type": "code",
   "execution_count": 8,
   "metadata": {},
   "outputs": [],
   "source": [
    "def cutout(read,i,n_length): \n",
    "    cropped_read = read[i:i+n_length]\n",
    "    return(cropped_read)"
   ]
  },
  {
   "cell_type": "code",
   "execution_count": 9,
   "metadata": {},
   "outputs": [
    {
     "name": "stdout",
     "output_type": "stream",
     "text": [
      "{'>S0C0': ['ACTCA'], '>S0C1': ['CCACA'], '>S0C2': ['ATTAT'], '>S0C3': ['AGTGG'], '>S0C4': ['ATCAG'], '>S0C5': ['CTTGT'], '>S0C6': ['GGGTG']}\n"
     ]
    }
   ],
   "source": [
    "# se quiere convertir la lista en un diccionario\n",
    "# y luego recortar los reads \n",
    "import math\n",
    "from random import seed\n",
    "from random import randint\n",
    "d2 = {}\n",
    "ln = 5\n",
    "for key,value in d.items():\n",
    "    i = randint(1,(len(value)-ln)) # toma un valor inicial aleatorio, para cortar los reads, entre 1 y la longitud del genoma menos la longitud del read deseado\n",
    "    #d2[key] = value # esto nos convierte la lista de secuencias en un diccionario, donde la llave es el id,y el valor la secuencia\n",
    "    d2[key] = [cutout(value,i,ln)] # aqui unimos el paso anterior,recortando los reads al mismo tiempo\n",
    "print(d2)\n"
   ]
  },
  {
   "cell_type": "code",
   "execution_count": 10,
   "metadata": {},
   "outputs": [
    {
     "name": "stdout",
     "output_type": "stream",
     "text": [
      "[0, 'AGGGCCGCTT', 'AAGGGCCGCT', 'CCGCTTCCCC', 'TTCCCCCACC', 'CACCGAAGGG', 1, 'GGGGCCGCCT', 'CGCGGGGCCG', 'GCGCGGGGCC', 'CCGTGTCCCC', 'GAACCGTGTC', 'AGAGAACCGT', 'GGCCGCCTTC', 'GAGAACCGTG', 2, 'AGCCCGAGCA', 'CAACGCCGCG', 'GGCACCCGGG']\n"
     ]
    }
   ],
   "source": [
    "#LGR = ['CCCGACACCGAAGGGCCGCTTCCCCCACCCAAG','CCAGGAGAGAACCGTGTCACACGACGCCGTGTCCCCGAACGCGCGCGGGGCCGCCTTC','TTCGACGTGGACAACACCCTGATGCGGGGTGCGTCGATCTACCACTTCGCCCGGGGCCTGGCCTCCCGGGACCTGTTCACCACCCGCGACCTGATGCGGTTCGCGTGGGGGCAGACGGTGTTCCGGGTGACCGGCAGCGAGCAGCCCGAGCACATCAACGCCGCGCGTGAGGCCGCGCTGGCGTTCGTGGCCGGACACGACGTGAACGATCTGGTGGCGCTCTGCGAGGAGATCTACGACGACACCATGGCCGACAGGATCTGGGAGGGCACCCGGGCGCTCGTCCAGGGGCACCTGGACGCCGGGCGGCCGGTGTGGCTGGTGACCGCGACGCCGGTGGAGCTGGCCCAGATCATCCGGCGGCGGCTGGGCCTGACCGGTGCTCTGGGCACCGAGGCCGAGTGCGTCGACGGGGTGTACACGGGACGGTTGAACGGGGACCTGCTGCACGGTCCGGCCAAGGCCGTGGCGGTGCGCGCCCTCGCCCACAGGGAGGGGTGGGACCTGGCGTCCTGCTCCGCCTACAGCGACTCCTCCAACGACCTGCCGCTGCTGTCCCTGGTGGGGCGTCCGCACGCGGTCAACCCGGACACCGACCTGCGCAGGTACGCCCGCACGCACGGGTGGCCGGTGCACGACTTCCGGCGGCACCGGAACGCGCTGCGGGTGGCCGTCCCGGCCGCCGTGGGCGCGGTCGCCGGTGCCGTGGCGCTGCGCGCGGTCAGACAGAGACGGACCGGCTGAACCGG']\n",
    "import math\n",
    "from random import seed\n",
    "from random import randint\n",
    "\n",
    "# G1,G2,G3 que ingrese como archivo \n",
    "G1 = 'CCCGACACCGAAGGGCCGCTTCCCCCACCCAAG'\n",
    "G2 = 'CCAGGAGAGAACCGTGTCACACGACGCCGTGTCCCCGAACGCGCGCGGGGCCGCCTTC'\n",
    "G3 = 'TTCGACGTGGACAACACCCTGATGCGGGGTGCGTCGATCTACCACTTCGCCCGGGGCCTGGCCTCCCGGGACCTGTTCACCACCCGCGACCTGATGCGGTTCGCGTGGGGGCAGACGGTGTTCCGGGTGACCGGCAGCGAGCAGCCCGAGCACATCAACGCCGCGCGTGAGGCCGCGCTGGCGTTCGTGGCCGGACACGACGTGAACGATCTGGTGGCGCTCTGCGAGGAGATCTACGACGACACCATGGCCGACAGGATCTGGGAGGGCACCCGGGCGCTCGTCCAGGGGCACCTGGACGCCGGGCGGCCGGTGTGGCTGGTGACCGCGACGCCGGTGGAGCTGGCCCAGATCATCCGGCGGCGGCTGGGCCTGACCGGTGCTCTGGGCACCGAGGCCGAGTGCGTCGACGGGGTGTACACGGGACGGTTGAACGGGGACCTGCTGCACGGTCCGGCCAAGGCCGTGGCGGTGCGCGCCCTCGCCCACAGGGAGGGGTGGGACCTGGCGTCCTGCTCCGCCTACAGCGACTCCTCCAACGACCTGCCGCTGCTGTCCCTGGTGGGGCGTCCGCACGCGGTCAACCCGGACACCGACCTGCGCAGGTACGCCCGCACGCACGGGTGGCCGGTGCACGACTTCCGGCGGCACCGGAACGCGCTGCGGGTGGCCGTCCCGGCCGCCGTGGGCGCGGTCGCCGGTGCCGTGGCGCTGCGCGCGGTCAGACAGAGACGGACCGGCTGAACCGG'\n",
    "LGR = [G1,G2,G3]\n",
    "LN = [5,8,3] #cambiar por una aleatorio log-normal \n",
    "Ln = 10\n",
    "GS = []\n",
    "for j in range(len(LGR)):\n",
    "    g = LGR[j]\n",
    "    k = 0\n",
    "    GS.append(j)\n",
    "    while k < LN[j]:\n",
    "        i = randint(1,(len(g)-Ln))\n",
    "        GS.append(cutout(g,i,Ln))\n",
    "        k += 1\n",
    "print(GS)"
   ]
  },
  {
   "cell_type": "code",
   "execution_count": 20,
   "metadata": {},
   "outputs": [
    {
     "name": "stdout",
     "output_type": "stream",
     "text": [
      "{'>S0C0': ['GCAAG'], '>S0C1': ['CATAC'], '>S0C2': ['ACATC'], '>S0C3': ['GATCA'], '>S0C4': ['AGCAG'], '>S0C5': ['ATTTA'], '>S0C6': ['CACTT']}\n"
     ]
    }
   ],
   "source": [
    "# se quiere convertir la lista en un diccionario\n",
    "# y luego recortar los reads \n",
    "import math\n",
    "import random\n",
    "from random import seed\n",
    "from random import randint\n",
    "\n",
    "d2 = {}\n",
    "ln = 5\n",
    "for key,value in d.items():\n",
    "    i = randint(1,(len(value)-ln)) # toma un valor inicial aleatorio, para cortar los reads, entre 1 y la longitud del genoma menos la longitud del read deseado\n",
    "    #d2[key] = value # esto nos convierte la lista de secuencias en un diccionario, donde la llave es el id,y el valor la secuencia\n",
    "    d2[key] = [cutout(value,i,ln)] # aqui unimos el paso anterior,recortando los reads al mismo tiempo\n",
    "print(d2)\n"
   ]
  },
  {
   "cell_type": "code",
   "execution_count": 38,
   "metadata": {},
   "outputs": [],
   "source": [
    "def contig(diccionario,longitud):\n",
    "    d3 = {}\n",
    "    contig = random.choice(list(diccionario.values())) # escoje un contig al azar \n",
    "    i = randint(1,(len(value)-longitud)) # toma una pocision de inicio al azar\n",
    "    d3[key] = [cutout(contig,i,longitud)]  # para el contig dado anteriormente, se corta desde la pocision i de lonjitud ln\n",
    "    print(d3,contig)"
   ]
  },
  {
   "cell_type": "code",
   "execution_count": 71,
   "metadata": {},
   "outputs": [
    {
     "name": "stdout",
     "output_type": "stream",
     "text": [
      "{'>S0C6': ['TAGAT']} ATCCCGGGGCAAGGCTTTGGCCCAGTAGGCCTAGATGAACCCCTTTTTCCTGATAACTTAAGTGTCTCATTAATTATCTCTGCCCCCTTTGCCCCCTTTGATGGCAGCCCTGACACATCATTTAACGTTCCTTTGTTCGAAGTTCCAGGTGTCCCGGGAAACCTAATTATTGCTGTTAGTTTACTGATTGCTCAATTCTTTATTGAAAGAGCAGGCGTCGGGACTCCCAACGGAGATGGTTCAAAGGTCAATACTACTGTAAGTCTCGCCGAGGGAGGGGTCTTCTATGTCGTGGCCGTTTAAATCGAGATTATCTCCGAGGAGTTCCCCCCCCCCAACTAGGGCCTGTTCAAACCCGCCTTTGAGTTCAACCGTTCTGAAGTCTTGGGATTATGGTTTCAAGCGCCTTGTACCTCTTCTGGAGTATCC\n"
     ]
    }
   ],
   "source": [
    "contig(d,5)  # por que no cambia la llave???"
   ]
  },
  {
   "cell_type": "code",
   "execution_count": 72,
   "metadata": {},
   "outputs": [
    {
     "data": {
      "text/plain": [
       "<function __main__.contig(diccionario, longitud)>"
      ]
     },
     "execution_count": 72,
     "metadata": {},
     "output_type": "execute_result"
    }
   ],
   "source": [
    "contig"
   ]
  },
  {
   "cell_type": "code",
   "execution_count": 37,
   "metadata": {},
   "outputs": [
    {
     "name": "stdout",
     "output_type": "stream",
     "text": [
      "{'>S0C6': ['CCGGG']} CCCGACACCGAAGGGCCGCTTCCCCCACCCAAGCCAGGAGAGAACCGTGTCACACGACGCCGTGTCCCCGAACGCGCGCGGGGCCGCCTTCTTCGACGTGGACAACACCCTGATGCGGGGTGCGTCGATCTACCACTTCGCCCGGGGCCTGGCCTCCCGGGACCTGTTCACCACCCGCGACCTGATGCGGTTCGCGTGGGGGCAGACGGTGTTCCGGGTGACCGGCAGCGAGCAGCCCGAGCACATCAACGCCGCGCGTGAGGCCGCGCTGGCGTTCGTGGCCGGACACGACGTGAACGATCTGGTGGCGCTCTGCGAGGAGATCTACGACGACACCATGGCCGACAGGATCTGGGAGGGCACCCGGGCGCTCGTCCAGGGGCACCTGGACGCCGGGCGGCCGGTGTGGCTGGTGACCGCGACGCCGGTGGAGCTGGCCCAGATCATCCGGCGGCGGCTGGGCCTGACCGGTGCTCTGGGCACCGAGGCCGAGTGCGTCGACGGGGTGTACACGGGACGGTTGAACGGGGACCTGCTGCACGGTCCGGCCAAGGCCGTGGCGGTGCGCGCCCTCGCCCACAGGGAGGGGTGGGACCTGGCGTCCTGCTCCGCCTACAGCGACTCCTCCAACGACCTGCCGCTGCTGTCCCTGGTGGGGCGTCCGCACGCGGTCAACCCGGACACCGACCTGCGCAGGTACGCCCGCACGCACGGGTGGCCGGTGCACGACTTCCGGCGGCACCGGAACGCGCTGCGGGTGGCCGTCCCGGCCGCCGTGGGCGCGGTCGCCGGTGCCGTGGCGCTGCGCGCGGTCAGACAGAGACGGACCGGCTGAACCGG\n",
      "{'>S0C6': ['']} ATAGATCCAGAATTTGAAATAAGCAATAGTAGAGGATTTGATTATCCGTTAATAGAATCAGATAAAATCTATTATAGAGGCTTGTTTTTTGGAAAATCCTCAATCTTTGCATTGTATTGTGGATTTACCGATAAGGAGAGCATAGAGAAG\n",
      "{'>S0C6': ['AAGCT']} CTGAACTCATAACGCTGCTATTGTTGGGAGATTGGAACATTCCCGCTCCTAACCCGGTAAGTATGGCACCTGGAATTATATGATAGAAGCTAGCTGATGCTGAAAGGGTAGAAAAATAGAGCAAGCCCACACCAGTAATAGTCAAACCCGTTGTGGTCAAGAATACAGGGCCGAATTTATCTGAGGCATTACCGCTTATTGGTGCTGTGATGGCCATTGTGATGGGAAAGATCAT\n",
      "{'>S0C6': ['CTGTA']} TTGTGCTATTTTCCACAGGGTATCACCGGGCTGAACTGTATATGTTTTGCCGTTTCCGCCTCCGGCGCTGTTGCTTTCGGTAGCGGGTTTGAAAGCGGGAACCGCGTCTGTTTGGTAGCGGCTGTATATATGCACCGGGGTACCGATAGGTATTTGGGGGAAAAGTTCTTCGACGTGGTGGTTATGCATACGGATACAGCCCAGCGATACGGCCTGCCCGATGGATGAAGGGTTGTTGTTGCCATGAATACCGTAATTACCGCCGGGGATGGTTAGTCCCATCCAGCGGGTTCCCAGA\n",
      "{'>S0C6': ['AGGAT']} ATAGATCCAGAATTTGAAATAAGCAATAGTAGAGGATTTGATTATCCGTTAATAGAATCAGATAAAATCTATTATAGAGGCTTGTTTTTTGGAAAATCCTCAATCTTTGCATTGTATTGTGGATTTACCGATAAGGAGAGCATAGAGAAG\n",
      "None\n"
     ]
    }
   ],
   "source": [
    "# ahora hagamoslo aleatoreamente\n",
    "import math\n",
    "import random\n",
    "d3 = {}\n",
    "ln = 5 # longitud de los cortes de reads \n",
    "J = 5 # numero de reads \n",
    "for j in range(J):\n",
    "    d3 = contig(d,ln)\n",
    "    j += 1\n",
    "print(d3)  \n",
    "    "
   ]
  },
  {
   "cell_type": "code",
   "execution_count": 26,
   "metadata": {},
   "outputs": [
    {
     "data": {
      "text/plain": [
       "<function __main__.contig(diccionario, longitud)>"
      ]
     },
     "execution_count": 26,
     "metadata": {},
     "output_type": "execute_result"
    }
   ],
   "source": [
    "contig"
   ]
  },
  {
   "cell_type": "code",
   "execution_count": 27,
   "metadata": {},
   "outputs": [],
   "source": [
    "#Funcion que reciba un genoma y genere reads"
   ]
  },
  {
   "cell_type": "code",
   "execution_count": 29,
   "metadata": {},
   "outputs": [],
   "source": [
    "import math\n",
    "from random import seed\n",
    "from random import randint\n",
    "# Al ingresar un conjunto de genomas, este nos arroja un metagenoma con varios reads tomados de los genomas iniciales\n",
    "# para esto se le entrega el numero de reads deseados por cada genoma y la longitud.\n",
    "def CAMISIM_1(LGR,LN,Ln):\n",
    "    GS = []\n",
    "    for j in range(len(LGR)):\n",
    "        g = LGR[j] #cada genoma de LGR\n",
    "        k = 0\n",
    "        GS.append(j) #ingresa el numero del genoma a las lista final GS\n",
    "        while k < LN[j]:\n",
    "            i = randint(1,(len(g)-Ln)) #toma un valor inicial aleatorio, para cortar los reads, entre 1 y la longitud del genoma menos la longitud del read deseado\n",
    "            GS.append(cutout(g,i,Ln))  # funcion para cortar el genoma 'g', iniciando desde la pocision 'i',y de lonjitud 'Ln'\n",
    "            k += 1\n",
    "    return(GS)\n",
    "    "
   ]
  },
  {
   "cell_type": "code",
   "execution_count": 30,
   "metadata": {},
   "outputs": [
    {
     "data": {
      "text/plain": [
       "[0,\n",
       " 'GCCGCTTCCC',\n",
       " 'TTCCCCCACC',\n",
       " 'CCGCTTCCCC',\n",
       " 'CCCCACCCAA',\n",
       " 'ACCGAAGGGC',\n",
       " 1,\n",
       " 'CGTGTCCCCG',\n",
       " 'AACCGTGTCA',\n",
       " 'TGTCCCCGAA',\n",
       " 'TGTCCCCGAA',\n",
       " 'TGTCACACGA',\n",
       " 'GACGCCGTGT',\n",
       " 'GGGGCCGCCT',\n",
       " 'AACGCGCGCG',\n",
       " 2,\n",
       " 'AACGCGCTGC',\n",
       " 'GAACGATCTG',\n",
       " 'CCGCGCGTGA']"
      ]
     },
     "execution_count": 30,
     "metadata": {},
     "output_type": "execute_result"
    }
   ],
   "source": [
    "G1 = 'CCCGACACCGAAGGGCCGCTTCCCCCACCCAAG'\n",
    "G2 = 'CCAGGAGAGAACCGTGTCACACGACGCCGTGTCCCCGAACGCGCGCGGGGCCGCCTTC'\n",
    "G3 = 'TTCGACGTGGACAACACCCTGATGCGGGGTGCGTCGATCTACCACTTCGCCCGGGGCCTGGCCTCCCGGGACCTGTTCACCACCCGCGACCTGATGCGGTTCGCGTGGGGGCAGACGGTGTTCCGGGTGACCGGCAGCGAGCAGCCCGAGCACATCAACGCCGCGCGTGAGGCCGCGCTGGCGTTCGTGGCCGGACACGACGTGAACGATCTGGTGGCGCTCTGCGAGGAGATCTACGACGACACCATGGCCGACAGGATCTGGGAGGGCACCCGGGCGCTCGTCCAGGGGCACCTGGACGCCGGGCGGCCGGTGTGGCTGGTGACCGCGACGCCGGTGGAGCTGGCCCAGATCATCCGGCGGCGGCTGGGCCTGACCGGTGCTCTGGGCACCGAGGCCGAGTGCGTCGACGGGGTGTACACGGGACGGTTGAACGGGGACCTGCTGCACGGTCCGGCCAAGGCCGTGGCGGTGCGCGCCCTCGCCCACAGGGAGGGGTGGGACCTGGCGTCCTGCTCCGCCTACAGCGACTCCTCCAACGACCTGCCGCTGCTGTCCCTGGTGGGGCGTCCGCACGCGGTCAACCCGGACACCGACCTGCGCAGGTACGCCCGCACGCACGGGTGGCCGGTGCACGACTTCCGGCGGCACCGGAACGCGCTGCGGGTGGCCGTCCCGGCCGCCGTGGGCGCGGTCGCCGGTGCCGTGGCGCTGCGCGCGGTCAGACAGAGACGGACCGGCTGAACCGG'\n",
    "#crear LGR en una funcion \n",
    "LGR = [G1,G2,G3]\n",
    "LN = [5,8,3]\n",
    "Ln = 10\n",
    "CAMISIM_1(LGR,LN,Ln)"
   ]
  },
  {
   "cell_type": "markdown",
   "metadata": {},
   "source": [
    "### Poner todo en funciones"
   ]
  },
  {
   "cell_type": "code",
   "execution_count": 34,
   "metadata": {},
   "outputs": [],
   "source": [
    "# funcion para lectura de archivos\n",
    "# ingresa un archivo multifasta y arroja una lista con cada secuencia (contig)\n",
    "\n",
    "def lectura_archivos(File):\n",
    "    with open(File,'r') as f:\n",
    "        lines=f.read() # lectura decada linea del archivo\n",
    "        lines=lines.split('>') # identificador de '>'\n",
    "        lines=['>'+ x for x in lines[1:]] # lista con cada elemento que comienza con '>'\n",
    "        l = []\n",
    "        d = {}\n",
    "        for x in lines:\n",
    "            file_name=x.split('\\n')[0][1:] # quita los saltos de linea reemplazandolos con '\\n'\n",
    "            fil=open(file_name+'.fa','w')\n",
    "            fil.write(x)\n",
    "            fil.close()\n",
    "            x2 = x.replace(\"\\n\",\",\",1) # el primer '\\n' se reemplazapor una coma\n",
    "            x3 = x2.replace(\"\\n\",\"\") # los siguientes se quitan\n",
    "            l.append(x3) # lista con un contig en cada elemento y su identificador\n",
    "        # convertir la lista en un diccionario\n",
    "        for x in l:\n",
    "            x = x.split(',')\n",
    "            d[x[0]] = x[1] \n",
    "        print(d)"
   ]
  },
  {
   "cell_type": "code",
   "execution_count": 35,
   "metadata": {},
   "outputs": [
    {
     "name": "stdout",
     "output_type": "stream",
     "text": [
      "{'>S0C0': 'CTGAACTCATAACGCTGCTATTGTTGGGAGATTGGAACATTCCCGCTCCTAACCCGGTAAGTATGGCACCTGGAATTATATGATAGAAGCTAGCTGATGCTGAAAGGGTAGAAAAATAGAGCAAGCCCACACCAGTAATAGTCAAACCCGTTGTGGTCAAGAATACAGGGCCGAATTTATCTGAGGCATTACCGCTTATTGGTGCTGTGATGGCCATTGTGATGGGAAAGATCAT', '>S0C1': 'TTGTGCTATTTTCCACAGGGTATCACCGGGCTGAACTGTATATGTTTTGCCGTTTCCGCCTCCGGCGCTGTTGCTTTCGGTAGCGGGTTTGAAAGCGGGAACCGCGTCTGTTTGGTAGCGGCTGTATATATGCACCGGGGTACCGATAGGTATTTGGGGGAAAAGTTCTTCGACGTGGTGGTTATGCATACGGATACAGCCCAGCGATACGGCCTGCCCGATGGATGAAGGGTTGTTGTTGCCATGAATACCGTAATTACCGCCGGGGATGGTTAGTCCCATCCAGCGGGTTCCCAGA', '>S0C2': 'ATCCCGGGGCAAGGCTTTGGCCCAGTAGGCCTAGATGAACCCCTTTTTCCTGATAACTTAAGTGTCTCATTAATTATCTCTGCCCCCTTTGCCCCCTTTGATGGCAGCCCTGACACATCATTTAACGTTCCTTTGTTCGAAGTTCCAGGTGTCCCGGGAAACCTAATTATTGCTGTTAGTTTACTGATTGCTCAATTCTTTATTGAAAGAGCAGGCGTCGGGACTCCCAACGGAGATGGTTCAAAGGTCAATACTACTGTAAGTCTCGCCGAGGGAGGGGTCTTCTATGTCGTGGCCGTTTAAATCGAGATTATCTCCGAGGAGTTCCCCCCCCCCAACTAGGGCCTGTTCAAACCCGCCTTTGAGTTCAACCGTTCTGAAGTCTTGGGATTATGGTTTCAAGCGCCTTGTACCTCTTCTGGAGTATCC', '>S0C3': 'AACGCATCTGTTACCGCTGGGTATATAGACGCGCAATATGACGAATATATCCTCAATGAAGTTGATGTGTCTGATCAGCGTGTATTCCAGAATACTCCCGACTGGTCTGCGAGTGGTGTGTTTACATATAATACGCCTCTTGGGGGTGGTGATTTGAATGTTGCGACCACCATTTCATACAAAGGGGATTCAAG', '>S0C4': 'GAGTATTATTTTTCTTGATCATTTCTTTCACCTACAATAACTTTATCGACAAATTAAGGTTCTTTCCAACTTATTTTAATCTATTTTAGAATATAGTACCAGTTGATCAAGGAAAATGTTGGTTAGCATAAGTCTCCACCCTAAACACTCCAGTCACAGCTTTGACAATGGCGTTATAGAGTAAGCTTCACATAGGTTGTCAAATCAGCAGCGATAAACTTAATTGCTTGTAGTTCTCTTTTCAGAGAAAAAGG', '>S0C5': 'ATAGATCCAGAATTTGAAATAAGCAATAGTAGAGGATTTGATTATCCGTTAATAGAATCAGATAAAATCTATTATAGAGGCTTGTTTTTTGGAAAATCCTCAATCTTTGCATTGTATTGTGGATTTACCGATAAGGAGAGCATAGAGAAG', '>S0C6': 'CCCGACACCGAAGGGCCGCTTCCCCCACCCAAGCCAGGAGAGAACCGTGTCACACGACGCCGTGTCCCCGAACGCGCGCGGGGCCGCCTTCTTCGACGTGGACAACACCCTGATGCGGGGTGCGTCGATCTACCACTTCGCCCGGGGCCTGGCCTCCCGGGACCTGTTCACCACCCGCGACCTGATGCGGTTCGCGTGGGGGCAGACGGTGTTCCGGGTGACCGGCAGCGAGCAGCCCGAGCACATCAACGCCGCGCGTGAGGCCGCGCTGGCGTTCGTGGCCGGACACGACGTGAACGATCTGGTGGCGCTCTGCGAGGAGATCTACGACGACACCATGGCCGACAGGATCTGGGAGGGCACCCGGGCGCTCGTCCAGGGGCACCTGGACGCCGGGCGGCCGGTGTGGCTGGTGACCGCGACGCCGGTGGAGCTGGCCCAGATCATCCGGCGGCGGCTGGGCCTGACCGGTGCTCTGGGCACCGAGGCCGAGTGCGTCGACGGGGTGTACACGGGACGGTTGAACGGGGACCTGCTGCACGGTCCGGCCAAGGCCGTGGCGGTGCGCGCCCTCGCCCACAGGGAGGGGTGGGACCTGGCGTCCTGCTCCGCCTACAGCGACTCCTCCAACGACCTGCCGCTGCTGTCCCTGGTGGGGCGTCCGCACGCGGTCAACCCGGACACCGACCTGCGCAGGTACGCCCGCACGCACGGGTGGCCGGTGCACGACTTCCGGCGGCACCGGAACGCGCTGCGGGTGGCCGTCCCGGCCGCCGTGGGCGCGGTCGCCGGTGCCGTGGCGCTGCGCGCGGTCAGACAGAGACGGACCGGCTGAACCGG'}\n"
     ]
    }
   ],
   "source": [
    "Archivo = '/home/csilva/GIT/Tesis_Maestria/ejemplo.fasta'\n",
    "lectura_archivos(Archivo)"
   ]
  },
  {
   "cell_type": "code",
   "execution_count": 36,
   "metadata": {},
   "outputs": [],
   "source": [
    "# funcion para cortar reads, dado una pocision de inicio y una longitud de corte\n",
    "def cutout(read,i,n_length): \n",
    "    cropped_read = read[i:i+n_length]\n",
    "    return(cropped_read)"
   ]
  },
  {
   "cell_type": "code",
   "execution_count": 80,
   "metadata": {},
   "outputs": [],
   "source": [
    "# funcion para cortar los reads aleatoriamente\n",
    "import math\n",
    "import random\n",
    "from random import seed\n",
    "from random import randint\n",
    "# Al ingresar un conjunto de genomas, este nos arroja un metagenoma con varios reads tomados de los genomas iniciales\n",
    "# para esto se le entrega el numero de reads deseados por cada genoma y la longitud.\n",
    "def CAMISIM_1(diccionario,longitud,num_cortes):\n",
    "    dic = {}\n",
    "    for j in dic:\n",
    "        g = LGR[j] \n",
    "        k = 0\n",
    "        dic[key] = [cutout(contig,i,longitud)]\n",
    "        while k < num_cortes:\n",
    "            contig = random.choice(list(diccionario.values())) # escoje un contig al azar \n",
    "            i = randint(1,(len(value)-longitud)) # toma una pocision de inicio al azar\n",
    "            dic[key] = [cutout(contig,i,longitud)]  # para el contig dado anteriormente, se corta desde la pocision i de lonjitud ln\n",
    "            k += 1\n",
    "    return(dic)\n",
    "\n",
    "    "
   ]
  },
  {
   "cell_type": "code",
   "execution_count": 81,
   "metadata": {},
   "outputs": [
    {
     "data": {
      "text/plain": [
       "{}"
      ]
     },
     "execution_count": 81,
     "metadata": {},
     "output_type": "execute_result"
    }
   ],
   "source": [
    "CAMISIM_1(d,5,10)"
   ]
  },
  {
   "cell_type": "code",
   "execution_count": 74,
   "metadata": {},
   "outputs": [
    {
     "data": {
      "text/plain": [
       "{'>S0C0': 'CTGAACTCATAACGCTGCTATTGTTGGGAGATTGGAACATTCCCGCTCCTAACCCGGTAAGTATGGCACCTGGAATTATATGATAGAAGCTAGCTGATGCTGAAAGGGTAGAAAAATAGAGCAAGCCCACACCAGTAATAGTCAAACCCGTTGTGGTCAAGAATACAGGGCCGAATTTATCTGAGGCATTACCGCTTATTGGTGCTGTGATGGCCATTGTGATGGGAAAGATCAT',\n",
       " '>S0C1': 'TTGTGCTATTTTCCACAGGGTATCACCGGGCTGAACTGTATATGTTTTGCCGTTTCCGCCTCCGGCGCTGTTGCTTTCGGTAGCGGGTTTGAAAGCGGGAACCGCGTCTGTTTGGTAGCGGCTGTATATATGCACCGGGGTACCGATAGGTATTTGGGGGAAAAGTTCTTCGACGTGGTGGTTATGCATACGGATACAGCCCAGCGATACGGCCTGCCCGATGGATGAAGGGTTGTTGTTGCCATGAATACCGTAATTACCGCCGGGGATGGTTAGTCCCATCCAGCGGGTTCCCAGA',\n",
       " '>S0C2': 'ATCCCGGGGCAAGGCTTTGGCCCAGTAGGCCTAGATGAACCCCTTTTTCCTGATAACTTAAGTGTCTCATTAATTATCTCTGCCCCCTTTGCCCCCTTTGATGGCAGCCCTGACACATCATTTAACGTTCCTTTGTTCGAAGTTCCAGGTGTCCCGGGAAACCTAATTATTGCTGTTAGTTTACTGATTGCTCAATTCTTTATTGAAAGAGCAGGCGTCGGGACTCCCAACGGAGATGGTTCAAAGGTCAATACTACTGTAAGTCTCGCCGAGGGAGGGGTCTTCTATGTCGTGGCCGTTTAAATCGAGATTATCTCCGAGGAGTTCCCCCCCCCCAACTAGGGCCTGTTCAAACCCGCCTTTGAGTTCAACCGTTCTGAAGTCTTGGGATTATGGTTTCAAGCGCCTTGTACCTCTTCTGGAGTATCC',\n",
       " '>S0C3': 'AACGCATCTGTTACCGCTGGGTATATAGACGCGCAATATGACGAATATATCCTCAATGAAGTTGATGTGTCTGATCAGCGTGTATTCCAGAATACTCCCGACTGGTCTGCGAGTGGTGTGTTTACATATAATACGCCTCTTGGGGGTGGTGATTTGAATGTTGCGACCACCATTTCATACAAAGGGGATTCAAG',\n",
       " '>S0C4': 'GAGTATTATTTTTCTTGATCATTTCTTTCACCTACAATAACTTTATCGACAAATTAAGGTTCTTTCCAACTTATTTTAATCTATTTTAGAATATAGTACCAGTTGATCAAGGAAAATGTTGGTTAGCATAAGTCTCCACCCTAAACACTCCAGTCACAGCTTTGACAATGGCGTTATAGAGTAAGCTTCACATAGGTTGTCAAATCAGCAGCGATAAACTTAATTGCTTGTAGTTCTCTTTTCAGAGAAAAAGG',\n",
       " '>S0C5': 'ATAGATCCAGAATTTGAAATAAGCAATAGTAGAGGATTTGATTATCCGTTAATAGAATCAGATAAAATCTATTATAGAGGCTTGTTTTTTGGAAAATCCTCAATCTTTGCATTGTATTGTGGATTTACCGATAAGGAGAGCATAGAGAAG',\n",
       " '>S0C6': 'CCCGACACCGAAGGGCCGCTTCCCCCACCCAAGCCAGGAGAGAACCGTGTCACACGACGCCGTGTCCCCGAACGCGCGCGGGGCCGCCTTCTTCGACGTGGACAACACCCTGATGCGGGGTGCGTCGATCTACCACTTCGCCCGGGGCCTGGCCTCCCGGGACCTGTTCACCACCCGCGACCTGATGCGGTTCGCGTGGGGGCAGACGGTGTTCCGGGTGACCGGCAGCGAGCAGCCCGAGCACATCAACGCCGCGCGTGAGGCCGCGCTGGCGTTCGTGGCCGGACACGACGTGAACGATCTGGTGGCGCTCTGCGAGGAGATCTACGACGACACCATGGCCGACAGGATCTGGGAGGGCACCCGGGCGCTCGTCCAGGGGCACCTGGACGCCGGGCGGCCGGTGTGGCTGGTGACCGCGACGCCGGTGGAGCTGGCCCAGATCATCCGGCGGCGGCTGGGCCTGACCGGTGCTCTGGGCACCGAGGCCGAGTGCGTCGACGGGGTGTACACGGGACGGTTGAACGGGGACCTGCTGCACGGTCCGGCCAAGGCCGTGGCGGTGCGCGCCCTCGCCCACAGGGAGGGGTGGGACCTGGCGTCCTGCTCCGCCTACAGCGACTCCTCCAACGACCTGCCGCTGCTGTCCCTGGTGGGGCGTCCGCACGCGGTCAACCCGGACACCGACCTGCGCAGGTACGCCCGCACGCACGGGTGGCCGGTGCACGACTTCCGGCGGCACCGGAACGCGCTGCGGGTGGCCGTCCCGGCCGCCGTGGGCGCGGTCGCCGGTGCCGTGGCGCTGCGCGCGGTCAGACAGAGACGGACCGGCTGAACCGG'}"
      ]
     },
     "execution_count": 74,
     "metadata": {},
     "output_type": "execute_result"
    }
   ],
   "source": [
    "d"
   ]
  },
  {
   "cell_type": "code",
   "execution_count": null,
   "metadata": {},
   "outputs": [],
   "source": [
    "import math\n",
    "import random\n",
    "from random import seed\n",
    "from random import randint\n",
    "\n",
    "class CAMISIM_CAMI:\n",
    "    \n",
    "    \n",
    "    \n",
    "    def lectura_archivos(File):\n",
    "        \n",
    "    \n",
    "    def cutout(read,i,n_length): \n",
    "        \n",
    "    \n",
    "    def CAMISIM_1(diccionario,longitud,num_cortes):\n",
    "    \n",
    "    \n",
    "    "
   ]
  },
  {
   "cell_type": "code",
   "execution_count": null,
   "metadata": {},
   "outputs": [],
   "source": [
    "import random\n",
    "\n",
    "class UNO:\n",
    "    def __init__(self,numJug):\n",
    "        self.mazo=[]\n",
    "        self.pila=[]\n",
    "        self.numJugadores = numJug\n",
    "        self.jugadorActivo = 0\n",
    "        self.vamosDerecho = 1 #Puede ser 1 ó -1 dependiendo de las reversas\n",
    "        self.cuantosToma2Llevamos = 0\n",
    "        self.ultimoColorElegido = \"\"\n",
    "        self.jugadorAnteriorRobo = False\n",
    "        #Crear el mazo\n",
    "        for c in [\"Azul\", \"Rojo\", \"Verde\", \"Amarillo\"]:\n",
    "            for n in range(10):\n",
    "                self.mazo.append((c,str(n)))\n",
    "            for n in range(1,10):\n",
    "                self.mazo.append((c,str(n)))\n",
    "            for i in range(2):\n",
    "                self.mazo.append((c,\"Reversa\"))\n",
    "                self.mazo.append((c,\"Salto\"))\n",
    "                self.mazo.append((c,\"Toma 2\"))\n",
    "        for i in range(4):\n",
    "            self.mazo.append((\"Negro\",\"Cambio\"))\n",
    "            self.mazo.append((\"Negro\",\"Toma 4\"))\n",
    "        random.shuffle(self.mazo)\n",
    "        #Para no empezar con carta especial\n",
    "        uColor,uNumero = self.mazo[-1]\n",
    "        while uColor == \"Negro\" or uNumero in [\"Reversa\", \"Salto\", \"Toma 2\"]:\n",
    "            random.shuffle(self.mazo)\n",
    "            uColor,uNumero = self.mazo[-1]\n",
    "        self.pila.append(self.mazo.pop())\n",
    "        \n",
    "        self.jugador = [self.reparte(7) for i in range(numJug)]\n",
    "\n",
    "    def reparte(self, k): #Agarra las primeras k cartas, las regresa y las quita del mazo\n",
    "        repartidas = self.mazo[-k:]\n",
    "        self.mazo = self.mazo[:-k]\n",
    "        return repartidas\n",
    "    \n",
    "    def rellena(self): #Esto es para cuando se acaban las cartas de mazo, lo rellena con lo de la pila\n",
    "        self.mazo = self.pila[:-1]\n",
    "        self.pila = self.pila[-1:]\n",
    "        random.shuffle(self.mazo)\n",
    "\n",
    "    def haz_jugada(self):\n",
    "        uColor,uNumero = self.pila[-1]\n",
    "        print(f'Última carta: {uColor} {uNumero}')\n",
    "        print(f'Le toca a {self.jugadorActivo}')\n",
    "        print(self.jugador[self.jugadorActivo])\n",
    "        #Cuando me toca robar 4\n",
    "        if uColor == 'Negro' and uNumero == \"Toma 4\" and self.jugadorAnteriorRobo == False:\n",
    "            print(\"Robas 4\")\n",
    "            for i in range(4):\n",
    "                self.roba()\n",
    "            self.jugadorAnteriorRobo = True\n",
    "            self.jugadorActivo = (self.jugadorActivo+self.vamosDerecho)%self.numJugadores\n",
    "            return False\n",
    "        #Calcula posibilidades\n",
    "        P = self.posibilidades()\n",
    "        #Cuando me toca robar 2\n",
    "        if uNumero == \"Toma 2\" and self.jugadorAnteriorRobo == False and P == []:\n",
    "            print(\"Robas\",2*self.cuantosToma2Llevamos)\n",
    "            for i in range(2*self.cuantosToma2Llevamos):\n",
    "                self.roba()\n",
    "            self.jugadorAnteriorRobo = True\n",
    "            self.jugadorActivo = (self.jugadorActivo+self.vamosDerecho)%self.numJugadores\n",
    "            self.cuantosToma2Llevamos = 0\n",
    "            return False\n",
    "        #Robar hasta que pueda hacer algo\n",
    "        while P==[]:\n",
    "            print(\"No puedes hacer nada, robas\")\n",
    "            self.roba()\n",
    "            print(self.jugador[self.jugadorActivo][-1])\n",
    "            P = self.posibilidades()\n",
    "        #Elegir qué hacer\n",
    "        print(\"Posibilidades:\")\n",
    "        for i,j in enumerate(P):\n",
    "            print(f\"{i}. {self.jugador[self.jugadorActivo][j]}\")\n",
    "        e = int(input())\n",
    "        #Hacerlo\n",
    "        if self.tira_carta(P[e]):\n",
    "            return True\n",
    "        self.jugadorActivo = (self.jugadorActivo+self.vamosDerecho)%self.numJugadores\n",
    "        #Si hay salto, saltarse un jugador\n",
    "        uColor,uNumero = self.pila[-1]\n",
    "        if uNumero == \"Salto\":\n",
    "            print(\"Nos saltamos un jugador!\")\n",
    "            self.jugadorActivo = (self.jugadorActivo+self.vamosDerecho)%self.numJugadores\n",
    "        return False\n",
    "        \n",
    "    def posibilidades(self): #Las posibilidades asumiendo que sí le toca tirar al jugador activo\n",
    "        uColor,uNumero = self.pila[-1]\n",
    "        P=[] #Lista de posibilidades\n",
    "        if uColor == 'Negro' and uNumero == \"Cambio\":\n",
    "            for i,(color,numero) in enumerate(self.jugador[self.jugadorActivo]):\n",
    "                if color == self.ultimoColorElegido:\n",
    "                    P.append(i)\n",
    "                elif color == \"Negro\":\n",
    "                    P.append(i)\n",
    "            return P\n",
    "        if uColor == 'Negro' and uNumero == \"Toma 4\":\n",
    "            if self.jugadorAnteriorRobo:\n",
    "                self.jugadorAnteriorRobo = False\n",
    "                for i,(color,numero) in enumerate(self.jugador[self.jugadorActivo]):\n",
    "                    if color == self.ultimoColorElegido:\n",
    "                        P.append(i)\n",
    "                    elif color == \"Negro\":\n",
    "                        P.append(i)\n",
    "                return P\n",
    "            else:\n",
    "                return []\n",
    "        if uNumero == \"Toma 2\":\n",
    "            if self.jugadorAnteriorRobo:\n",
    "                self.jugadorAnteriorRobo = False\n",
    "                for i,(color,numero) in enumerate(self.jugador[self.jugadorActivo]):\n",
    "                    if (color == uColor) or (numero == uNumero):\n",
    "                        P.append(i)\n",
    "                    elif color == \"Negro\":\n",
    "                        P.append(i)\n",
    "                return P\n",
    "            else:\n",
    "                for i,(color,numero) in enumerate(self.jugador[self.jugadorActivo]):\n",
    "                    if numero == \"Toma 2\":\n",
    "                        P.append(i)\n",
    "                return P\n",
    "        #Asumiendo que la uCarta es normal\n",
    "        for i,(color,numero) in enumerate(self.jugador[self.jugadorActivo]):\n",
    "            if (color == uColor) or (numero == uNumero):\n",
    "                P.append(i)\n",
    "            elif color == \"Negro\":\n",
    "                P.append(i)\n",
    "        return P\n",
    "\n",
    "    def roba(self):\n",
    "        if self.mazo == []:\n",
    "            print(\"El mazo está vacío! Hay que rellenarlo.\")\n",
    "            self.rellena()\n",
    "            if mazo == []:\n",
    "                print(\"Se supone que esto nunca iba a pasar... Probablemente viene un error!\")\n",
    "        self.jugador[self.jugadorActivo] += self.reparte(1)\n",
    "        print(\"Robaste\",self.jugador[self.jugadorActivo][-1])\n",
    "\n",
    "    def tira_carta(self,i_carta): #Regresa Verdadero cuando el juego termina\n",
    "        print(\"Voy a intentar jugar mi carta número\",i_carta)\n",
    "        self.jugadorAnteriorRobo = False\n",
    "        #i = self.jugador[self.jugadorActivo].index(carta) #índice de la carta que vamos a jugar en la mano del jugador\n",
    "        carta = self.jugador[self.jugadorActivo].pop(i_carta) #Le quitamos la carta\n",
    "        print(\"Es la carta\",carta)\n",
    "        self.pila.append(carta) #La agregamos a la pila\n",
    "        if len(self.jugador[self.jugadorActivo])==1:\n",
    "            print(\"UUUUNNNNOOOO!!!!\")\n",
    "        if len(self.jugador[self.jugadorActivo])==0:\n",
    "            print(\"GANASTE!!!\")\n",
    "            return True\n",
    "        if carta[0] == 'Negro':\n",
    "            print(\"Qué color quieres? (Azul, Rojo, Verde, Amarillo)\")\n",
    "            nuevo_color = ''\n",
    "            while nuevo_color not in [\"Azul\",'Rojo','Verde','Amarillo']:\n",
    "                nuevo_color = input()\n",
    "            self.ultimoColorElegido = nuevo_color\n",
    "        if carta[1] == \"Reversa\":\n",
    "            print(\"Cambio de dirección!\")\n",
    "            self.vamosDerecho *= -1\n",
    "        if carta[1] == \"Toma 2\":\n",
    "            self.cuantosToma2Llevamos += 1\n",
    "        return False"
   ]
  }
 ],
 "metadata": {
  "kernelspec": {
   "display_name": "Python 3 (ipykernel)",
   "language": "python",
   "name": "python3"
  },
  "language_info": {
   "codemirror_mode": {
    "name": "ipython",
    "version": 3
   },
   "file_extension": ".py",
   "mimetype": "text/x-python",
   "name": "python",
   "nbconvert_exporter": "python",
   "pygments_lexer": "ipython3",
   "version": "3.7.6"
  }
 },
 "nbformat": 4,
 "nbformat_minor": 4
}
