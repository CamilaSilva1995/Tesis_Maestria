{
 "cells": [
  {
   "cell_type": "markdown",
   "metadata": {},
   "source": [
    "# CAMISIM\n",
    "Esta clase se compone de tres funciones, las cuales:\n",
    " * Lee uno o varios archivos .fasta los cuales contienen genomas con uno o varios contigs.\n",
    " * Corta un read (secuencia genomica) de un tamaño dado y desde una posición aleatoria dada.\n",
    " * Crea un diccionario de reads de varios metagenomicos.\n"
   ]
  },
  {
   "cell_type": "code",
   "execution_count": 1,
   "metadata": {},
   "outputs": [],
   "source": [
    "import math\n",
    "import random\n",
    "from random import seed\n",
    "from random import randint\n",
    "\n",
    "class CAMISIM_CAMI:\n",
    "    def __init__(self):\n",
    "        self.dic = {}\n",
    "        self.list = []\n",
    "        \n",
    "    # funcion para lectura de archivos\n",
    "    # ingresa un archivo multifasta y arroja una lista con cada secuencia (contig)\n",
    "    def lectura_genoma(self,File):\n",
    "        with open(File,'r') as f:\n",
    "            lines=f.read() # lectura decada linea del archivo\n",
    "            lines=lines.split('>') # identificador de '>'\n",
    "            lines=['>'+ x for x in lines[1:]] # lista con cada elemento que comienza con '>'\n",
    "            for x in lines:\n",
    "                file_name=x.split('\\n')[0][1:] # quita los saltos de linea reemplazandolos con '\\n'\n",
    "                fil=open(file_name+'.fa','w')\n",
    "                fil.write(x)\n",
    "                fil.close()\n",
    "                x2 = x.replace(\"\\n\",\",\",1) # el primer '\\n' se reemplazapor una coma\n",
    "                x3 = x2.replace(\"\\n\",\"\") # los siguientes se quitan\n",
    "                self.list.append(x3) # lista con un contig en cada elemento y su identificador\n",
    "            # convertir la lista en un diccionario\n",
    "            for x in self.list:\n",
    "                x = x.split(',')\n",
    "                self.dic[x[0]] = x[1] \n",
    "            \n",
    "            return(f\"diccionario de genomas {self.dic}\")\n",
    "    \n",
    "        \n",
    "    # funcion para cortar reads, dado una pocision de inicio y una longitud de corte\n",
    "    def cutout(self,read,i,n_length): \n",
    "        cropped_read = read[i:i+n_length]\n",
    "        return(cropped_read) \n",
    "        \n",
    "    \n",
    "    #def CAMISIM_1(diccionario,longitud,num_cortes):\n",
    "    \n",
    "    \n",
    "    "
   ]
  },
  {
   "cell_type": "code",
   "execution_count": null,
   "metadata": {},
   "outputs": [],
   "source": [
    "n = 10 # número de genomas\n",
    "diccionario_reads_metagenoma = {}\n",
    "for i in range(n):\n",
    "    k = 0\n",
    "    \n",
    "    \n",
    "    "
   ]
  },
  {
   "cell_type": "code",
   "execution_count": null,
   "metadata": {},
   "outputs": [],
   "source": [
    "# G1,G2,G3 que ingrese como archivo \n",
    "G1 = 'CCCGACACCGAAGGGCCGCTTCCCCCACCCAAG'\n",
    "G2 = 'CCAGGAGAGAACCGTGTCACACGACGCCGTGTCCCCGAACGCGCGCGGGGCCGCCTTC'\n",
    "G3 = 'TTCGACGTGGACAACACCCTGATGCGGGGTGCGTCGATCTACCACTTCGCCCGGGGCCTGGCCTCCCGGGACCTGTTCACCACCCGCGACCTGATGCGGTTCGCGTGGGGGCAGACGGTGTTCCGGGTGACCGGCAGCGAGCAGCCCGAGCACATCAACGCCGCGCGTGAGGCCGCGCTGGCGTTCGTGGCCGGACACGACGTGAACGATCTGGTGGCGCTCTGCGAGGAGATCTACGACGACACCATGGCCGACAGGATCTGGGAGGGCACCCGGGCGCTCGTCCAGGGGCACCTGGACGCCGGGCGGCCGGTGTGGCTGGTGACCGCGACGCCGGTGGAGCTGGCCCAGATCATCCGGCGGCGGCTGGGCCTGACCGGTGCTCTGGGCACCGAGGCCGAGTGCGTCGACGGGGTGTACACGGGACGGTTGAACGGGGACCTGCTGCACGGTCCGGCCAAGGCCGTGGCGGTGCGCGCCCTCGCCCACAGGGAGGGGTGGGACCTGGCGTCCTGCTCCGCCTACAGCGACTCCTCCAACGACCTGCCGCTGCTGTCCCTGGTGGGGCGTCCGCACGCGGTCAACCCGGACACCGACCTGCGCAGGTACGCCCGCACGCACGGGTGGCCGGTGCACGACTTCCGGCGGCACCGGAACGCGCTGCGGGTGGCCGTCCCGGCCGCCGTGGGCGCGGTCGCCGGTGCCGTGGCGCTGCGCGCGGTCAGACAGAGACGGACCGGCTGAACCGG'\n",
    "LGR = [G1,G2,G3]\n",
    "LN = [5,8,3] #cambiar por una aleatorio log-normal \n",
    "Ln = 10\n",
    "GS = []\n",
    "for j in range(len(LGR)):\n",
    "    g = LGR[j]\n",
    "    k = 0\n",
    "    GS.append(j)\n",
    "    while k < LN[j]:\n",
    "        i = randint(1,(len(g)-Ln))\n",
    "        GS.append(cutout(g,i,Ln))\n",
    "        k += 1\n",
    "print(GS)"
   ]
  }
 ],
 "metadata": {
  "kernelspec": {
   "display_name": "Python 3 (ipykernel)",
   "language": "python",
   "name": "python3"
  },
  "language_info": {
   "codemirror_mode": {
    "name": "ipython",
    "version": 3
   },
   "file_extension": ".py",
   "mimetype": "text/x-python",
   "name": "python",
   "nbconvert_exporter": "python",
   "pygments_lexer": "ipython3",
   "version": "3.7.6"
  }
 },
 "nbformat": 4,
 "nbformat_minor": 4
}
