{
 "cells": [
  {
   "cell_type": "code",
   "execution_count": 1,
   "metadata": {},
   "outputs": [],
   "source": [
    "import math\n",
    "import random\n",
    "from random import seed\n",
    "from random import randint\n",
    "\n",
    "class CAMISIM_CAMI:\n",
    "    def __init__(self):\n",
    "        self.dic = {}\n",
    "        self.list = []\n",
    "        \n",
    "    # funcion para lectura de archivos\n",
    "    # ingresa un archivo multifasta y arroja una lista con cada secuencia (contig)\n",
    "    def lectura_archivos(self,File):\n",
    "        with open(File,'r') as f:\n",
    "            lines=f.read() # lectura decada linea del archivo\n",
    "            lines=lines.split('>') # identificador de '>'\n",
    "            lines=['>'+ x for x in lines[1:]] # lista con cada elemento que comienza con '>'\n",
    "            for x in lines:\n",
    "                file_name=x.split('\\n')[0][1:] # quita los saltos de linea reemplazandolos con '\\n'\n",
    "                fil=open(file_name+'.fa','w')\n",
    "                fil.write(x)\n",
    "                fil.close()\n",
    "                x2 = x.replace(\"\\n\",\",\",1) # el primer '\\n' se reemplazapor una coma\n",
    "                x3 = x2.replace(\"\\n\",\"\") # los siguientes se quitan\n",
    "                self.list.append(x3) # lista con un contig en cada elemento y su identificador\n",
    "            # convertir la lista en un diccionario\n",
    "            for x in self.list:\n",
    "                x = x.split(',')\n",
    "                self.dic[x[0]] = x[1] \n",
    "            \n",
    "            return(f\"diccionario de genomas {self.dic}\")\n",
    "    \n",
    "        \n",
    "    # funcion para cortar reads, dado una pocision de inicio y una longitud de corte\n",
    "    def cutout(self,read,i,n_length): \n",
    "        cropped_read = read[i:i+n_length]\n",
    "        return(cropped_read) \n",
    "        \n",
    "    \n",
    "    #def CAMISIM_1(diccionario,longitud,num_cortes):\n",
    "    \n",
    "    \n",
    "    "
   ]
  }
 ],
 "metadata": {
  "kernelspec": {
   "display_name": "Python 3 (ipykernel)",
   "language": "python",
   "name": "python3"
  },
  "language_info": {
   "codemirror_mode": {
    "name": "ipython",
    "version": 3
   },
   "file_extension": ".py",
   "mimetype": "text/x-python",
   "name": "python",
   "nbconvert_exporter": "python",
   "pygments_lexer": "ipython3",
   "version": "3.7.6"
  }
 },
 "nbformat": 4,
 "nbformat_minor": 4
}
