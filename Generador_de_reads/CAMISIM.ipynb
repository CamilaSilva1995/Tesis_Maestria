{
 "cells": [
  {
   "cell_type": "markdown",
   "metadata": {},
   "source": [
    "# CAMISIM\n",
    "#### Crear un archivo de genomas como CAMISIM, dado el documento 'ejemplo.fasta'\n",
    "A este script le deben entrar:\n",
    "* Una lista de genomas de referencia\n",
    "* Una lista de enteros $N_{i}$ que nos diga el número de 'Reads' por cada genoma nuevo.\n",
    "* Una lista de enteros $n_{i}$ que nos diga el tamaño de los 'Reads' \n",
    "queremos que el script nos arroje una lista de genomas que incluyan una lista de reads.\n",
    "\n",
    "Esto con el fin de comprender mas a fondo el funcionamiento de CAMISIM, y tambien poder generar datos de ejemplo para probar la medida N50."
   ]
  },
  {
   "cell_type": "code",
   "execution_count": 2,
   "metadata": {},
   "outputs": [],
   "source": [
    "ejem = open('ejemplo.fasta','r')\n",
    "cont = ejem.read()"
   ]
  },
  {
   "cell_type": "code",
   "execution_count": 3,
   "metadata": {},
   "outputs": [
    {
     "data": {
      "text/plain": [
       "'>S0C0\\nCTGAACTCATAACGCTGCTATTGTTGGGAGATTGGAACATTCCCGCTCCTAACCCGGTAA\\nGTATGGCACCTGGAATTATATGATAGAAGCTAGCTGATGCTGAAAGGGTAGAAAAATAGA\\nGCAAGCCCACACCAGTAATAGTCAAACCCGTTGTGGTCAAGAATACAGGGCCGAATTTAT\\nCTGAGGCATTACCGCTTATTGGTGCTGTGATGGCCATTGTGATGGGAAAGATCAT\\n>S0C1\\nTTGTGCTATTTTCCACAGGGTATCACCGGGCTGAACTGTATATGTTTTGCCGTTTCCGCC\\nTCCGGCGCTGTTGCTTTCGGTAGCGGGTTTGAAAGCGGGAACCGCGTCTGTTTGGTAGCG\\nGCTGTATATATGCACCGGGGTACCGATAGGTATTTGGGGGAAAAGTTCTTCGACGTGGTG\\nGTTATGCATACGGATACAGCCCAGCGATACGGCCTGCCCGATGGATGAAGGGTTGTTGTT\\nGCCATGAATACCGTAATTACCGCCGGGGATGGTTAGTCCCATCCAGCGGGTTCCCAGA\\n>S0C2\\nATCCCGGGGCAAGGCTTTGGCCCAGTAGGCCTAGATGAACCCCTTTTTCCTGATAACTTA\\nAGTGTCTCATTAATTATCTCTGCCCCCTTTGCCCCCTTTGATGGCAGCCCTGACACATCA\\nTTTAACGTTCCTTTGTTCGAAGTTCCAGGTGTCCCGGGAAACCTAATTATTGCTGTTAGT\\nTTACTGATTGCTCAATTCTTTATTGAAAGAGCAGGCGTCGGGACTCCCAACGGAGATGGT\\nTCAAAGGTCAATACTACTGTAAGTCTCGCCGAGGGAGGGGTCTTCTATGTCGTGGCCGTT\\nTAAATCGAGATTATCTCCGAGGAGTTCCCCCCCCCCAACTAGGGCCTGTTCAAACCCGCC\\nTTTGAGTTCAACCGTTCTGAAGTCTTGGGATTATGGTTTCAAGCGCCTTGTACCTCTTCT\\nGGAGTATCC\\n>S0C3\\nAACGCATCTGTTACCGCTGGGTATATAGACGCGCAATATGACGAATATATCCTCAATGAA\\nGTTGATGTGTCTGATCAGCGTGTATTCCAGAATACTCCCGACTGGTCTGCGAGTGGTGTG\\nTTTACATATAATACGCCTCTTGGGGGTGGTGATTTGAATGTTGCGACCACCATTTCATAC\\nAAAGGGGATTCAAG\\n>S0C4\\nGAGTATTATTTTTCTTGATCATTTCTTTCACCTACAATAACTTTATCGACAAATTAAGGT\\nTCTTTCCAACTTATTTTAATCTATTTTAGAATATAGTACCAGTTGATCAAGGAAAATGTT\\nGGTTAGCATAAGTCTCCACCCTAAACACTCCAGTCACAGCTTTGACAATGGCGTTATAGA\\nGTAAGCTTCACATAGGTTGTCAAATCAGCAGCGATAAACTTAATTGCTTGTAGTTCTCTT\\nTTCAGAGAAAAAGG\\n>S0C5\\nATAGATCCAGAATTTGAAATAAGCAATAGTAGAGGATTTGATTATCCGTTAATAGAATCA\\nGATAAAATCTATTATAGAGGCTTGTTTTTTGGAAAATCCTCAATCTTTGCATTGTATTGT\\nGGATTTACCGATAAGGAGAGCATAGAGAAG\\n'"
      ]
     },
     "execution_count": 3,
     "metadata": {},
     "output_type": "execute_result"
    }
   ],
   "source": [
    "cont"
   ]
  },
  {
   "cell_type": "code",
   "execution_count": 58,
   "metadata": {
    "collapsed": true,
    "jupyter": {
     "outputs_hidden": true
    }
   },
   "outputs": [
    {
     "name": "stdout",
     "output_type": "stream",
     "text": [
      "{'>S0C0': 'CTGAACTCATAACGCTGCTATTGTTGGGAGATTGGAACATTCCCGCTCCTAACCCGGTAAGTATGGCACCTGGAATTATATGATAGAAGCTAGCTGATGCTGAAAGGGTAGAAAAATAGAGCAAGCCCACACCAGTAATAGTCAAACCCGTTGTGGTCAAGAATACAGGGCCGAATTTATCTGAGGCATTACCGCTTATTGGTGCTGTGATGGCCATTGTGATGGGAAAGATCAT', '>S0C1': 'TTGTGCTATTTTCCACAGGGTATCACCGGGCTGAACTGTATATGTTTTGCCGTTTCCGCCTCCGGCGCTGTTGCTTTCGGTAGCGGGTTTGAAAGCGGGAACCGCGTCTGTTTGGTAGCGGCTGTATATATGCACCGGGGTACCGATAGGTATTTGGGGGAAAAGTTCTTCGACGTGGTGGTTATGCATACGGATACAGCCCAGCGATACGGCCTGCCCGATGGATGAAGGGTTGTTGTTGCCATGAATACCGTAATTACCGCCGGGGATGGTTAGTCCCATCCAGCGGGTTCCCAGA', '>S0C2': 'ATCCCGGGGCAAGGCTTTGGCCCAGTAGGCCTAGATGAACCCCTTTTTCCTGATAACTTAAGTGTCTCATTAATTATCTCTGCCCCCTTTGCCCCCTTTGATGGCAGCCCTGACACATCATTTAACGTTCCTTTGTTCGAAGTTCCAGGTGTCCCGGGAAACCTAATTATTGCTGTTAGTTTACTGATTGCTCAATTCTTTATTGAAAGAGCAGGCGTCGGGACTCCCAACGGAGATGGTTCAAAGGTCAATACTACTGTAAGTCTCGCCGAGGGAGGGGTCTTCTATGTCGTGGCCGTTTAAATCGAGATTATCTCCGAGGAGTTCCCCCCCCCCAACTAGGGCCTGTTCAAACCCGCCTTTGAGTTCAACCGTTCTGAAGTCTTGGGATTATGGTTTCAAGCGCCTTGTACCTCTTCTGGAGTATCC', '>S0C3': 'AACGCATCTGTTACCGCTGGGTATATAGACGCGCAATATGACGAATATATCCTCAATGAAGTTGATGTGTCTGATCAGCGTGTATTCCAGAATACTCCCGACTGGTCTGCGAGTGGTGTGTTTACATATAATACGCCTCTTGGGGGTGGTGATTTGAATGTTGCGACCACCATTTCATACAAAGGGGATTCAAG', '>S0C4': 'GAGTATTATTTTTCTTGATCATTTCTTTCACCTACAATAACTTTATCGACAAATTAAGGTTCTTTCCAACTTATTTTAATCTATTTTAGAATATAGTACCAGTTGATCAAGGAAAATGTTGGTTAGCATAAGTCTCCACCCTAAACACTCCAGTCACAGCTTTGACAATGGCGTTATAGAGTAAGCTTCACATAGGTTGTCAAATCAGCAGCGATAAACTTAATTGCTTGTAGTTCTCTTTTCAGAGAAAAAGG', '>S0C5': 'ATAGATCCAGAATTTGAAATAAGCAATAGTAGAGGATTTGATTATCCGTTAATAGAATCAGATAAAATCTATTATAGAGGCTTGTTTTTTGGAAAATCCTCAATCTTTGCATTGTATTGTGGATTTACCGATAAGGAGAGCATAGAGAAG'}\n"
     ]
    }
   ],
   "source": [
    "# lectura de archivos .fasta\n",
    "# ingresa un archivo multifasta y arroja una lista con cada secuencia (contig)\n",
    "with open('ejemplo.fasta','r') as f:\n",
    "    lines=f.read() # lectura decada linea del archivo\n",
    "    lines=lines.split('>') # identificador de '>'\n",
    "    lines=['>'+ x for x in lines[1:]] # lista con cada elemento que comienza con '>'\n",
    "    l = []\n",
    "    d = {}\n",
    "    for x in lines:\n",
    "        file_name=x.split('\\n')[0][1:] # quita los saltos de linea reemplazandolos con '\\n'\n",
    "        fil=open(file_name+'.fa','w')\n",
    "        fil.write(x)\n",
    "        fil.close()\n",
    "        x2 = x.replace(\"\\n\",\",\",1) # el primer '\\n' se reemplazapor una coma\n",
    "        x3 = x2.replace(\"\\n\",\"\") # los siguientes se quitan\n",
    "        l.append(x3) # lista con un contig en cada elemento y su identificador\n",
    "    # convertir la lista en un diccionario\n",
    "    for x in l:\n",
    "        x = x.split(',')\n",
    "        d[x[0]] = x[1] \n",
    "    print(d)\n"
   ]
  },
  {
   "cell_type": "code",
   "execution_count": 60,
   "metadata": {},
   "outputs": [],
   "source": [
    "def cutout(read,i,n_length): \n",
    "    cropped_read = read[i:i+n_length]\n",
    "    return(cropped_read)"
   ]
  },
  {
   "cell_type": "code",
   "execution_count": 61,
   "metadata": {},
   "outputs": [
    {
     "name": "stdout",
     "output_type": "stream",
     "text": [
      "{'>S0C0': ['AAGGG'], '>S0C1': ['GGCTG'], '>S0C2': ['AGTCT'], '>S0C3': ['ACTGG'], '>S0C4': ['TAAGT'], '>S0C5': ['TTTGC']}\n"
     ]
    }
   ],
   "source": [
    "# se quiere convertir la lista en un diccionario\n",
    "# y luego recortar los reads \n",
    "import math\n",
    "from random import seed\n",
    "from random import randint\n",
    "d2 = {}\n",
    "ln = 5\n",
    "for key,value in d.items():\n",
    "    i = randint(1,(len(value)-ln)) # toma un valor inicial aleatorio, para cortar los reads, entre 1 y la longitud del genoma menos la longitud del read deseado\n",
    "    #d2[key] = value # esto nos convierte la lista de secuencias en un diccionario, donde la llave es el id,y el valor la secuencia\n",
    "    d2[key] = [cutout(value,i,ln)] # aqui unimos el paso anterior,recortando los reads al mismo tiempo\n",
    "print(d2)\n"
   ]
  },
  {
   "cell_type": "code",
   "execution_count": 9,
   "metadata": {},
   "outputs": [
    {
     "name": "stdout",
     "output_type": "stream",
     "text": [
      "[0, 'CGAAGGGCCG', 'GCCGCTTCCC', 'GGGCCGCTTC', 'TCCCCCACCC', 'CCCCACCCAA', 1, 'CGCGGGGCCG', 'CACGACGCCG', 'CGAACGCGCG', 'CACGACGCCG', 'CGTGTCACAC', 'TGTCACACGA', 'AGAACCGTGT', 'AACCGTGTCA', 2, 'TGCGGGTGGC', 'GACACCATGG', 'TGAACGGGGA']\n"
     ]
    }
   ],
   "source": [
    "#LGR = ['CCCGACACCGAAGGGCCGCTTCCCCCACCCAAG','CCAGGAGAGAACCGTGTCACACGACGCCGTGTCCCCGAACGCGCGCGGGGCCGCCTTC','TTCGACGTGGACAACACCCTGATGCGGGGTGCGTCGATCTACCACTTCGCCCGGGGCCTGGCCTCCCGGGACCTGTTCACCACCCGCGACCTGATGCGGTTCGCGTGGGGGCAGACGGTGTTCCGGGTGACCGGCAGCGAGCAGCCCGAGCACATCAACGCCGCGCGTGAGGCCGCGCTGGCGTTCGTGGCCGGACACGACGTGAACGATCTGGTGGCGCTCTGCGAGGAGATCTACGACGACACCATGGCCGACAGGATCTGGGAGGGCACCCGGGCGCTCGTCCAGGGGCACCTGGACGCCGGGCGGCCGGTGTGGCTGGTGACCGCGACGCCGGTGGAGCTGGCCCAGATCATCCGGCGGCGGCTGGGCCTGACCGGTGCTCTGGGCACCGAGGCCGAGTGCGTCGACGGGGTGTACACGGGACGGTTGAACGGGGACCTGCTGCACGGTCCGGCCAAGGCCGTGGCGGTGCGCGCCCTCGCCCACAGGGAGGGGTGGGACCTGGCGTCCTGCTCCGCCTACAGCGACTCCTCCAACGACCTGCCGCTGCTGTCCCTGGTGGGGCGTCCGCACGCGGTCAACCCGGACACCGACCTGCGCAGGTACGCCCGCACGCACGGGTGGCCGGTGCACGACTTCCGGCGGCACCGGAACGCGCTGCGGGTGGCCGTCCCGGCCGCCGTGGGCGCGGTCGCCGGTGCCGTGGCGCTGCGCGCGGTCAGACAGAGACGGACCGGCTGAACCGG']\n",
    "import math\n",
    "from random import seed\n",
    "from random import randint\n",
    "\n",
    "# G1,G2,G3 que ingrese como archivo \n",
    "G1 = 'CCCGACACCGAAGGGCCGCTTCCCCCACCCAAG'\n",
    "G2 = 'CCAGGAGAGAACCGTGTCACACGACGCCGTGTCCCCGAACGCGCGCGGGGCCGCCTTC'\n",
    "G3 = 'TTCGACGTGGACAACACCCTGATGCGGGGTGCGTCGATCTACCACTTCGCCCGGGGCCTGGCCTCCCGGGACCTGTTCACCACCCGCGACCTGATGCGGTTCGCGTGGGGGCAGACGGTGTTCCGGGTGACCGGCAGCGAGCAGCCCGAGCACATCAACGCCGCGCGTGAGGCCGCGCTGGCGTTCGTGGCCGGACACGACGTGAACGATCTGGTGGCGCTCTGCGAGGAGATCTACGACGACACCATGGCCGACAGGATCTGGGAGGGCACCCGGGCGCTCGTCCAGGGGCACCTGGACGCCGGGCGGCCGGTGTGGCTGGTGACCGCGACGCCGGTGGAGCTGGCCCAGATCATCCGGCGGCGGCTGGGCCTGACCGGTGCTCTGGGCACCGAGGCCGAGTGCGTCGACGGGGTGTACACGGGACGGTTGAACGGGGACCTGCTGCACGGTCCGGCCAAGGCCGTGGCGGTGCGCGCCCTCGCCCACAGGGAGGGGTGGGACCTGGCGTCCTGCTCCGCCTACAGCGACTCCTCCAACGACCTGCCGCTGCTGTCCCTGGTGGGGCGTCCGCACGCGGTCAACCCGGACACCGACCTGCGCAGGTACGCCCGCACGCACGGGTGGCCGGTGCACGACTTCCGGCGGCACCGGAACGCGCTGCGGGTGGCCGTCCCGGCCGCCGTGGGCGCGGTCGCCGGTGCCGTGGCGCTGCGCGCGGTCAGACAGAGACGGACCGGCTGAACCGG'\n",
    "LGR = [G1,G2,G3]\n",
    "LN = [5,8,3] #cambiar por una aleatorio log-normal \n",
    "Ln = 10\n",
    "GS = []\n",
    "for j in range(len(LGR)):\n",
    "    g = LGR[j]\n",
    "    k = 0\n",
    "    GS.append(j)\n",
    "    while k < LN[j]:\n",
    "        i = randint(1,(len(g)-Ln))\n",
    "        GS.append(cutout(g,i,Ln))\n",
    "        k += 1\n",
    "print(GS)"
   ]
  },
  {
   "cell_type": "code",
   "execution_count": 61,
   "metadata": {},
   "outputs": [
    {
     "name": "stdout",
     "output_type": "stream",
     "text": [
      "{'>S0C0': ['AAGGG'], '>S0C1': ['GGCTG'], '>S0C2': ['AGTCT'], '>S0C3': ['ACTGG'], '>S0C4': ['TAAGT'], '>S0C5': ['TTTGC']}\n"
     ]
    }
   ],
   "source": [
    "# se quiere convertir la lista en un diccionario\n",
    "# y luego recortar los reads \n",
    "import math\n",
    "from random import seed\n",
    "from random import randint\n",
    "d2 = {}\n",
    "ln = 5\n",
    "for key,value in d.items():\n",
    "    i = randint(1,(len(value)-ln)) # toma un valor inicial aleatorio, para cortar los reads, entre 1 y la longitud del genoma menos la longitud del read deseado\n",
    "    #d2[key] = value # esto nos convierte la lista de secuencias en un diccionario, donde la llave es el id,y el valor la secuencia\n",
    "    d2[key] = [cutout(value,i,ln)] # aqui unimos el paso anterior,recortando los reads al mismo tiempo\n",
    "print(d2)\n"
   ]
  },
  {
   "cell_type": "code",
   "execution_count": 82,
   "metadata": {},
   "outputs": [],
   "source": [
    "def contig(diccionario,longitud):\n",
    "    d3 = {}\n",
    "    contig = random.choice(list(diccionario.values())) # escoje un contig al azar \n",
    "    i = randint(1,(len(value)-longitud)) # toma una pocision de inicio al azar\n",
    "    d3[key] = [cutout(contig,i,longitud)]  # para el contig dado anteriormente, se corta desde la pocision i de lonjitud ln\n",
    "    print(d3,contig)"
   ]
  },
  {
   "cell_type": "code",
   "execution_count": 94,
   "metadata": {},
   "outputs": [
    {
     "name": "stdout",
     "output_type": "stream",
     "text": [
      "{'>S0C5': ['GGTTT']} TTGTGCTATTTTCCACAGGGTATCACCGGGCTGAACTGTATATGTTTTGCCGTTTCCGCCTCCGGCGCTGTTGCTTTCGGTAGCGGGTTTGAAAGCGGGAACCGCGTCTGTTTGGTAGCGGCTGTATATATGCACCGGGGTACCGATAGGTATTTGGGGGAAAAGTTCTTCGACGTGGTGGTTATGCATACGGATACAGCCCAGCGATACGGCCTGCCCGATGGATGAAGGGTTGTTGTTGCCATGAATACCGTAATTACCGCCGGGGATGGTTAGTCCCATCCAGCGGGTTCCCAGA\n"
     ]
    }
   ],
   "source": [
    "contig(d,5)  # por que no cambia la llave???"
   ]
  },
  {
   "cell_type": "code",
   "execution_count": 12,
   "metadata": {},
   "outputs": [
    {
     "data": {
      "text/plain": [
       "'AACGCATCTGTTACCGCTGGGTATATAGACGCGCAATATGACGAATATATCCTCAATGAAGTTGATGTGTCTGATCAGCGTGTATTCCAGAATACTCCCGACTGGTCTGCGAGTGGTGTGTTTACATATAATACGCCTCTTGGGGGTGGTGATTTGAATGTTGCGACCACCATTTCATACAAAGGGGATTCAAG'"
      ]
     },
     "execution_count": 12,
     "metadata": {},
     "output_type": "execute_result"
    }
   ],
   "source": [
    "contig"
   ]
  },
  {
   "cell_type": "code",
   "execution_count": 64,
   "metadata": {},
   "outputs": [
    {
     "name": "stdout",
     "output_type": "stream",
     "text": [
      "{'>S0C5': ['TAGAG']}\n",
      "{'>S0C5': ['TATAT']}\n",
      "{'>S0C5': ['TGGAA']}\n",
      "{'>S0C5': ['TCATT']}\n",
      "{'>S0C5': ['GCACC']}\n",
      "None\n"
     ]
    }
   ],
   "source": [
    "# ahora hagamoslo aleatoreamente\n",
    "import math\n",
    "import random\n",
    "d3 = {}\n",
    "ln = 5 # longitud de los cortes de reads \n",
    "J = 5 # numero de reads \n",
    "for j in range(J):\n",
    "    d3 = contig(d,ln)\n",
    "    j += 1\n",
    "print(d3)  \n",
    "    "
   ]
  },
  {
   "cell_type": "code",
   "execution_count": 12,
   "metadata": {},
   "outputs": [
    {
     "data": {
      "text/plain": [
       "'AACGCATCTGTTACCGCTGGGTATATAGACGCGCAATATGACGAATATATCCTCAATGAAGTTGATGTGTCTGATCAGCGTGTATTCCAGAATACTCCCGACTGGTCTGCGAGTGGTGTGTTTACATATAATACGCCTCTTGGGGGTGGTGATTTGAATGTTGCGACCACCATTTCATACAAAGGGGATTCAAG'"
      ]
     },
     "execution_count": 12,
     "metadata": {},
     "output_type": "execute_result"
    }
   ],
   "source": [
    "contig"
   ]
  },
  {
   "cell_type": "code",
   "execution_count": null,
   "metadata": {},
   "outputs": [],
   "source": [
    "#Funcion que reciba un genoma y genere reads"
   ]
  },
  {
   "cell_type": "code",
   "execution_count": 14,
   "metadata": {},
   "outputs": [
    {
     "data": {
      "text/plain": [
       "[0,\n",
       " 'CGAAGGGCCG',\n",
       " 'GGGCCGCTTC',\n",
       " 'AAGGGCCGCT',\n",
       " 'CCCACCCAAG',\n",
       " 'CACCGAAGGG',\n",
       " 1,\n",
       " 'GCGCGCGGGG',\n",
       " 'CCGAACGCGC',\n",
       " 'CGCGCGGGGC',\n",
       " 'GCGGGGCCGC',\n",
       " 'CACGACGCCG',\n",
       " 'GTCACACGAC',\n",
       " 'CGGGGCCGCC',\n",
       " 'CGCGCGCGGG',\n",
       " 2,\n",
       " 'GATCTGGGAG',\n",
       " 'GTTCACCACC',\n",
       " 'GCGGGGTGCG']"
      ]
     },
     "execution_count": 14,
     "metadata": {},
     "output_type": "execute_result"
    }
   ],
   "source": [
    "G1 = 'CCCGACACCGAAGGGCCGCTTCCCCCACCCAAG'\n",
    "G2 = 'CCAGGAGAGAACCGTGTCACACGACGCCGTGTCCCCGAACGCGCGCGGGGCCGCCTTC'\n",
    "G3 = 'TTCGACGTGGACAACACCCTGATGCGGGGTGCGTCGATCTACCACTTCGCCCGGGGCCTGGCCTCCCGGGACCTGTTCACCACCCGCGACCTGATGCGGTTCGCGTGGGGGCAGACGGTGTTCCGGGTGACCGGCAGCGAGCAGCCCGAGCACATCAACGCCGCGCGTGAGGCCGCGCTGGCGTTCGTGGCCGGACACGACGTGAACGATCTGGTGGCGCTCTGCGAGGAGATCTACGACGACACCATGGCCGACAGGATCTGGGAGGGCACCCGGGCGCTCGTCCAGGGGCACCTGGACGCCGGGCGGCCGGTGTGGCTGGTGACCGCGACGCCGGTGGAGCTGGCCCAGATCATCCGGCGGCGGCTGGGCCTGACCGGTGCTCTGGGCACCGAGGCCGAGTGCGTCGACGGGGTGTACACGGGACGGTTGAACGGGGACCTGCTGCACGGTCCGGCCAAGGCCGTGGCGGTGCGCGCCCTCGCCCACAGGGAGGGGTGGGACCTGGCGTCCTGCTCCGCCTACAGCGACTCCTCCAACGACCTGCCGCTGCTGTCCCTGGTGGGGCGTCCGCACGCGGTCAACCCGGACACCGACCTGCGCAGGTACGCCCGCACGCACGGGTGGCCGGTGCACGACTTCCGGCGGCACCGGAACGCGCTGCGGGTGGCCGTCCCGGCCGCCGTGGGCGCGGTCGCCGGTGCCGTGGCGCTGCGCGCGGTCAGACAGAGACGGACCGGCTGAACCGG'\n",
    "#crear LGR en una funcion \n",
    "LGR = [G1,G2,G3]\n",
    "LN = [5,8,3]\n",
    "Ln = 10\n",
    "CAMISIM_1(LGR,LN,Ln)"
   ]
  },
  {
   "cell_type": "code",
   "execution_count": 13,
   "metadata": {},
   "outputs": [],
   "source": [
    "import math\n",
    "from random import seed\n",
    "from random import randint\n",
    "# Al ingresar un conjunto de genomas, este nos arroja un metagenoma con varios reads tomados de los genomas iniciales\n",
    "# para esto se le entrega el numero de reads deseados por cada genoma y la longitud.\n",
    "def CAMISIM_1(LGR,LN,Ln):\n",
    "    GS = []\n",
    "    for j in range(len(LGR)):\n",
    "        g = LGR[j] #cada genoma de LGR\n",
    "        k = 0\n",
    "        GS.append(j) #ingresa el numero del genoma a las lista final GS\n",
    "        while k < LN[j]:\n",
    "            i = randint(1,(len(g)-Ln)) #toma un valor inicial aleatorio, para cortar los reads, entre 1 y la longitud del genoma menos la longitud del read deseado\n",
    "            GS.append(cutout(g,i,Ln))  # funcion para cortar el genoma 'g', iniciando desde la pocision 'i',y de lonjitud 'Ln'\n",
    "            k += 1\n",
    "    return(GS)\n",
    "    "
   ]
  },
  {
   "cell_type": "code",
   "execution_count": 14,
   "metadata": {},
   "outputs": [
    {
     "data": {
      "text/plain": [
       "[0,\n",
       " 'CGAAGGGCCG',\n",
       " 'GGGCCGCTTC',\n",
       " 'AAGGGCCGCT',\n",
       " 'CCCACCCAAG',\n",
       " 'CACCGAAGGG',\n",
       " 1,\n",
       " 'GCGCGCGGGG',\n",
       " 'CCGAACGCGC',\n",
       " 'CGCGCGGGGC',\n",
       " 'GCGGGGCCGC',\n",
       " 'CACGACGCCG',\n",
       " 'GTCACACGAC',\n",
       " 'CGGGGCCGCC',\n",
       " 'CGCGCGCGGG',\n",
       " 2,\n",
       " 'GATCTGGGAG',\n",
       " 'GTTCACCACC',\n",
       " 'GCGGGGTGCG']"
      ]
     },
     "execution_count": 14,
     "metadata": {},
     "output_type": "execute_result"
    }
   ],
   "source": [
    "G1 = 'CCCGACACCGAAGGGCCGCTTCCCCCACCCAAG'\n",
    "G2 = 'CCAGGAGAGAACCGTGTCACACGACGCCGTGTCCCCGAACGCGCGCGGGGCCGCCTTC'\n",
    "G3 = 'TTCGACGTGGACAACACCCTGATGCGGGGTGCGTCGATCTACCACTTCGCCCGGGGCCTGGCCTCCCGGGACCTGTTCACCACCCGCGACCTGATGCGGTTCGCGTGGGGGCAGACGGTGTTCCGGGTGACCGGCAGCGAGCAGCCCGAGCACATCAACGCCGCGCGTGAGGCCGCGCTGGCGTTCGTGGCCGGACACGACGTGAACGATCTGGTGGCGCTCTGCGAGGAGATCTACGACGACACCATGGCCGACAGGATCTGGGAGGGCACCCGGGCGCTCGTCCAGGGGCACCTGGACGCCGGGCGGCCGGTGTGGCTGGTGACCGCGACGCCGGTGGAGCTGGCCCAGATCATCCGGCGGCGGCTGGGCCTGACCGGTGCTCTGGGCACCGAGGCCGAGTGCGTCGACGGGGTGTACACGGGACGGTTGAACGGGGACCTGCTGCACGGTCCGGCCAAGGCCGTGGCGGTGCGCGCCCTCGCCCACAGGGAGGGGTGGGACCTGGCGTCCTGCTCCGCCTACAGCGACTCCTCCAACGACCTGCCGCTGCTGTCCCTGGTGGGGCGTCCGCACGCGGTCAACCCGGACACCGACCTGCGCAGGTACGCCCGCACGCACGGGTGGCCGGTGCACGACTTCCGGCGGCACCGGAACGCGCTGCGGGTGGCCGTCCCGGCCGCCGTGGGCGCGGTCGCCGGTGCCGTGGCGCTGCGCGCGGTCAGACAGAGACGGACCGGCTGAACCGG'\n",
    "#crear LGR en una funcion \n",
    "LGR = [G1,G2,G3]\n",
    "LN = [5,8,3]\n",
    "Ln = 10\n",
    "CAMISIM_1(LGR,LN,Ln)"
   ]
  },
  {
   "cell_type": "code",
   "execution_count": null,
   "metadata": {},
   "outputs": [],
   "source": [
    "class CAMISIM_CAMI:\n",
    "\n",
    "    \n",
    "    \n",
    "    "
   ]
  },
  {
   "cell_type": "code",
   "execution_count": null,
   "metadata": {},
   "outputs": [],
   "source": []
  }
 ],
 "metadata": {
  "kernelspec": {
   "display_name": "Python 3 (ipykernel)",
   "language": "python",
   "name": "python3"
  },
  "language_info": {
   "codemirror_mode": {
    "name": "ipython",
    "version": 3
   },
   "file_extension": ".py",
   "mimetype": "text/x-python",
   "name": "python",
   "nbconvert_exporter": "python",
   "pygments_lexer": "ipython3",
   "version": "3.7.6"
  }
 },
 "nbformat": 4,
 "nbformat_minor": 4
}
