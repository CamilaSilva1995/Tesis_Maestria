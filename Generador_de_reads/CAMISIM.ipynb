{
 "cells": [
  {
   "cell_type": "markdown",
   "metadata": {},
   "source": [
    "# CAMISIM\n",
    "Esta clase se compone de tres funciones, las cuales:\n",
    " * Lee uno o varios archivos .fasta los cuales contienen genomas con uno o varios contigs.\n",
    " * Corta un read (secuencia genomica) de un tamaño dado y desde una posición aleatoria dada.\n",
    " * Crea un diccionario de reads de varios metagenomicos.\n"
   ]
  },
  {
   "cell_type": "code",
   "execution_count": 25,
   "metadata": {},
   "outputs": [],
   "source": [
    "import math\n",
    "import random\n",
    "from random import seed\n",
    "from random import randint\n",
    "\n",
    "class CAMISIM_CAMI:\n",
    "    def __init__(self):\n",
    "        self.dic = {}\n",
    "        self.list = []\n",
    "        \n",
    "    # funcion para lectura de archivos\n",
    "    # ingresa un archivo multifasta y arroja una lista con cada secuencia (contig)\n",
    "    def lectura_genoma(File):\n",
    "        lista = []\n",
    "        dic = {}\n",
    "        with open(ruta + '/' + File,'r') as f:\n",
    "            lines=f.read() # lectura decada linea del archivo\n",
    "            lines=lines.split('>') # identificador de '>'\n",
    "            lines=['>'+ x for x in lines[1:]] # lista con cada elemento que comienza con '>'\n",
    "            for x in lines:\n",
    "                file_name=x.split('\\n')[0][1:] # quita los saltos de linea reemplazandolos con '\\n'\n",
    "                fil=open(file_name+'.fa','w')\n",
    "                fil.write(x)\n",
    "                fil.close()\n",
    "                x2 = x.replace(\"\\n\",\",\",1) # el primer '\\n' se reemplazapor una coma\n",
    "                x3 = x2.replace(\"\\n\",\"\") # los siguientes se quitan\n",
    "                lista.append(x3) # lista con un contig en cada elemento y su identificador\n",
    "            # convertir la lista en un diccionario\n",
    "            for x in lista:\n",
    "                x = x.split(',')\n",
    "                dic[x[0]] = x[1] \n",
    "            \n",
    "            return(f\"diccionario de genomas {dic}\")\n",
    "    \n",
    "        \n",
    "    # funcion para cortar reads, dado una pocision de inicio y una longitud de corte\n",
    "    def cutout(self,read,i,n_length): \n",
    "        cropped_read = read[i:i+n_length]\n",
    "        return(cropped_read) \n",
    "        \n",
    "    \n",
    "    #def CAMISIM_1(diccionario,longitud,num_cortes):\n",
    "    \n",
    "    \n",
    "    \n",
    "    "
   ]
  },
  {
   "cell_type": "code",
   "execution_count": 29,
   "metadata": {},
   "outputs": [
    {
     "ename": "IsADirectoryError",
     "evalue": "[Errno 21] Is a directory: '/home/csilva/GIT/Tesis_Maestria/Data/all-c-genomes/.ipynb_checkpoints'",
     "output_type": "error",
     "traceback": [
      "\u001b[0;31m--------------------------------------------------------------------\u001b[0m",
      "\u001b[0;31mIsADirectoryError\u001b[0m                  Traceback (most recent call last)",
      "\u001b[0;32m<ipython-input-29-623bc003098a>\u001b[0m in \u001b[0;36m<module>\u001b[0;34m\u001b[0m\n\u001b[1;32m      5\u001b[0m \u001b[0mdiccionario_reads_metagenoma\u001b[0m \u001b[0;34m=\u001b[0m \u001b[0;34m{\u001b[0m\u001b[0;34m}\u001b[0m\u001b[0;34m\u001b[0m\u001b[0;34m\u001b[0m\u001b[0m\n\u001b[1;32m      6\u001b[0m \u001b[0;32mfor\u001b[0m \u001b[0mi\u001b[0m \u001b[0;32min\u001b[0m \u001b[0mrange\u001b[0m\u001b[0;34m(\u001b[0m\u001b[0mlen\u001b[0m\u001b[0;34m(\u001b[0m\u001b[0mgenomas\u001b[0m\u001b[0;34m)\u001b[0m\u001b[0;34m)\u001b[0m\u001b[0;34m:\u001b[0m\u001b[0;34m\u001b[0m\u001b[0;34m\u001b[0m\u001b[0m\n\u001b[0;32m----> 7\u001b[0;31m     \u001b[0mCAMISIM_CAMI\u001b[0m\u001b[0;34m.\u001b[0m\u001b[0mlectura_genoma\u001b[0m\u001b[0;34m(\u001b[0m\u001b[0mgenomas\u001b[0m\u001b[0;34m[\u001b[0m\u001b[0mi\u001b[0m\u001b[0;34m]\u001b[0m\u001b[0;34m)\u001b[0m \u001b[0;31m#ruta + '/' +\u001b[0m\u001b[0;34m\u001b[0m\u001b[0;34m\u001b[0m\u001b[0m\n\u001b[0m\u001b[1;32m      8\u001b[0m \u001b[0mprint\u001b[0m\u001b[0;34m(\u001b[0m\u001b[0;34m'ya'\u001b[0m\u001b[0;34m)\u001b[0m\u001b[0;34m\u001b[0m\u001b[0;34m\u001b[0m\u001b[0m\n\u001b[1;32m      9\u001b[0m     \u001b[0;31m#for :\u001b[0m\u001b[0;34m\u001b[0m\u001b[0;34m\u001b[0m\u001b[0;34m\u001b[0m\u001b[0m\n",
      "\u001b[0;32m<ipython-input-25-240abdf2fb3f>\u001b[0m in \u001b[0;36mlectura_genoma\u001b[0;34m(File)\u001b[0m\n\u001b[1;32m     14\u001b[0m         \u001b[0mlista\u001b[0m \u001b[0;34m=\u001b[0m \u001b[0;34m[\u001b[0m\u001b[0;34m]\u001b[0m\u001b[0;34m\u001b[0m\u001b[0;34m\u001b[0m\u001b[0m\n\u001b[1;32m     15\u001b[0m         \u001b[0mdic\u001b[0m \u001b[0;34m=\u001b[0m \u001b[0;34m{\u001b[0m\u001b[0;34m}\u001b[0m\u001b[0;34m\u001b[0m\u001b[0;34m\u001b[0m\u001b[0m\n\u001b[0;32m---> 16\u001b[0;31m         \u001b[0;32mwith\u001b[0m \u001b[0mopen\u001b[0m\u001b[0;34m(\u001b[0m\u001b[0mruta\u001b[0m \u001b[0;34m+\u001b[0m \u001b[0;34m'/'\u001b[0m \u001b[0;34m+\u001b[0m \u001b[0mFile\u001b[0m\u001b[0;34m,\u001b[0m\u001b[0;34m'r'\u001b[0m\u001b[0;34m)\u001b[0m \u001b[0;32mas\u001b[0m \u001b[0mf\u001b[0m\u001b[0;34m:\u001b[0m\u001b[0;34m\u001b[0m\u001b[0;34m\u001b[0m\u001b[0m\n\u001b[0m\u001b[1;32m     17\u001b[0m             \u001b[0mlines\u001b[0m\u001b[0;34m=\u001b[0m\u001b[0mf\u001b[0m\u001b[0;34m.\u001b[0m\u001b[0mread\u001b[0m\u001b[0;34m(\u001b[0m\u001b[0;34m)\u001b[0m \u001b[0;31m# lectura decada linea del archivo\u001b[0m\u001b[0;34m\u001b[0m\u001b[0;34m\u001b[0m\u001b[0m\n\u001b[1;32m     18\u001b[0m             \u001b[0mlines\u001b[0m\u001b[0;34m=\u001b[0m\u001b[0mlines\u001b[0m\u001b[0;34m.\u001b[0m\u001b[0msplit\u001b[0m\u001b[0;34m(\u001b[0m\u001b[0;34m'>'\u001b[0m\u001b[0;34m)\u001b[0m \u001b[0;31m# identificador de '>'\u001b[0m\u001b[0;34m\u001b[0m\u001b[0;34m\u001b[0m\u001b[0m\n",
      "\u001b[0;31mIsADirectoryError\u001b[0m: [Errno 21] Is a directory: '/home/csilva/GIT/Tesis_Maestria/Data/all-c-genomes/.ipynb_checkpoints'"
     ]
    }
   ],
   "source": [
    "import os\n",
    "ruta = '/home/csilva/GIT/Tesis_Maestria/Data/all-c-genomes'\n",
    "genomas = os.listdir(ruta) \n",
    "n = 5 # número de genomas (número de archivos)\n",
    "diccionario_reads_metagenoma = {}\n",
    "for i in range(len(genomas)):\n",
    "    CAMISIM_CAMI.lectura_genoma(genomas[i]) #ruta + '/' + \n",
    "print('ya')\n",
    "    #for :\n",
    "        \n",
    "    #k = 0\n",
    "    #K += 1\n",
    "    \n",
    "    "
   ]
  },
  {
   "cell_type": "code",
   "execution_count": 32,
   "metadata": {},
   "outputs": [
    {
     "data": {
      "text/plain": [
       "['Clavibacter_michiganensis_subsp_capsici_1101.fna',\n",
       " 'Clavibacter_michiganensis_subsp_nebraskensis_DOAB_397.fna',\n",
       " 'Clavibacter_michiganensis_subsp_nebraskensis_7580.fna',\n",
       " 'Clavibacter_michiganensis_subsp_insidiosus_LMG_3663.fna',\n",
       " 'Clavibacter_michiganensis_subsp_insidiosus_CFBP_1195.fna',\n",
       " '.ipynb_checkpoints',\n",
       " 'Clavibacter_michiganensis_subsp_nebraskensis_SL1.fna',\n",
       " 'Clavibacter_michiganensis_subsp_insidiosus_CFBP_6488.fna',\n",
       " 'Clavibacter_michiganensis_subsp_capsici_1106.fna',\n",
       " 'Clavibacter_michiganensis_subsp_capsici_PF008.fna',\n",
       " 'Clavibacter_michiganensis_subsp_insidiosus_R1-1.fna',\n",
       " 'Clavibacter_michiganensis_subsp_nebraskensis_A6096.fna',\n",
       " 'Clavibacter_michiganensis_subsp_nebraskensis_44.fna',\n",
       " 'Clavibacter_michiganensis_subsp_nebraskensis_HF4.fna',\n",
       " 'Clavibacter_michiganensis_subsp_sepedonicus_ATCC33113.fna',\n",
       " 'Clavibacter_michiganensis_subsp_nebraskensis_CIBA.fna',\n",
       " 'Clavibacter_michiganensis_subsp_tessellarius_ATCC_33566.fna',\n",
       " 'Clavibacter_michiganensis_subsp_insidiosus_CFBP_2404.fna',\n",
       " 'Clavibacter_michiganensis_subsp_nebraskensis_419B.fna',\n",
       " 'Clavibacter_michiganensis_subsp_nebraskensis_CFBP_7577.fna',\n",
       " 'Clavibacter_michiganensis_subsp_capsici_1207.fna',\n",
       " 'Clavibacter_michiganensis_subsp_nebraskensis_NCPPB_2581.fna',\n",
       " 'Clavibacter_michiganensis_subsp_nebraskensis_61-1.fna',\n",
       " 'Clavibacter_michiganensis_subsp_tessellarius_DOAB_609.fna',\n",
       " 'Clavibacter_michiganensis_subsp_insidiosus_R1-3.fna',\n",
       " 'Clavibacter_michiganensis_subsp_nebraskensis_DOAB_395.fna',\n",
       " 'Clavibacter_michiganensis_subsp_sepedonicus_CFIA-Cs3N.fna',\n",
       " 'Clavibacter_michiganensis_subsp_insidiosus_ATCC_10253.fna',\n",
       " 'Clavibacter_michiganensis_subsp_sepedonicus_CFIA-CsR14.fna']"
      ]
     },
     "execution_count": 32,
     "metadata": {},
     "output_type": "execute_result"
    }
   ],
   "source": [
    "genomas"
   ]
  },
  {
   "cell_type": "code",
   "execution_count": 28,
   "metadata": {},
   "outputs": [
    {
     "ename": "NameError",
     "evalue": "name 'cutout' is not defined",
     "output_type": "error",
     "traceback": [
      "\u001b[0;31m--------------------------------------------------------------------\u001b[0m",
      "\u001b[0;31mNameError\u001b[0m                          Traceback (most recent call last)",
      "\u001b[0;32m<ipython-input-28-2937625d8848>\u001b[0m in \u001b[0;36m<module>\u001b[0;34m\u001b[0m\n\u001b[1;32m     13\u001b[0m     \u001b[0;32mwhile\u001b[0m \u001b[0mk\u001b[0m \u001b[0;34m<\u001b[0m \u001b[0mLN\u001b[0m\u001b[0;34m[\u001b[0m\u001b[0mj\u001b[0m\u001b[0;34m]\u001b[0m\u001b[0;34m:\u001b[0m\u001b[0;34m\u001b[0m\u001b[0;34m\u001b[0m\u001b[0m\n\u001b[1;32m     14\u001b[0m         \u001b[0mi\u001b[0m \u001b[0;34m=\u001b[0m \u001b[0mrandint\u001b[0m\u001b[0;34m(\u001b[0m\u001b[0;36m1\u001b[0m\u001b[0;34m,\u001b[0m\u001b[0;34m(\u001b[0m\u001b[0mlen\u001b[0m\u001b[0;34m(\u001b[0m\u001b[0mg\u001b[0m\u001b[0;34m)\u001b[0m\u001b[0;34m-\u001b[0m\u001b[0mLn\u001b[0m\u001b[0;34m)\u001b[0m\u001b[0;34m)\u001b[0m\u001b[0;34m\u001b[0m\u001b[0;34m\u001b[0m\u001b[0m\n\u001b[0;32m---> 15\u001b[0;31m         \u001b[0mGS\u001b[0m\u001b[0;34m.\u001b[0m\u001b[0mappend\u001b[0m\u001b[0;34m(\u001b[0m\u001b[0mcutout\u001b[0m\u001b[0;34m(\u001b[0m\u001b[0mg\u001b[0m\u001b[0;34m,\u001b[0m\u001b[0mi\u001b[0m\u001b[0;34m,\u001b[0m\u001b[0mLn\u001b[0m\u001b[0;34m)\u001b[0m\u001b[0;34m)\u001b[0m\u001b[0;34m\u001b[0m\u001b[0;34m\u001b[0m\u001b[0m\n\u001b[0m\u001b[1;32m     16\u001b[0m         \u001b[0mk\u001b[0m \u001b[0;34m+=\u001b[0m \u001b[0;36m1\u001b[0m\u001b[0;34m\u001b[0m\u001b[0;34m\u001b[0m\u001b[0m\n\u001b[1;32m     17\u001b[0m \u001b[0mprint\u001b[0m\u001b[0;34m(\u001b[0m\u001b[0mGS\u001b[0m\u001b[0;34m)\u001b[0m\u001b[0;34m\u001b[0m\u001b[0;34m\u001b[0m\u001b[0m\n",
      "\u001b[0;31mNameError\u001b[0m: name 'cutout' is not defined"
     ]
    }
   ],
   "source": [
    "# G1,G2,G3 que ingrese como archivo \n",
    "G1 = 'CCCGACACCGAAGGGCCGCTTCCCCCACCCAAG'\n",
    "G2 = 'CCAGGAGAGAACCGTGTCACACGACGCCGTGTCCCCGAACGCGCGCGGGGCCGCCTTC'\n",
    "G3 = 'TTCGACGTGGACAACACCCTGATGCGGGGTGCGTCGATCTACCACTTCGCCCGGGGCCTGGCCTCCCGGGACCTGTTCACCACCCGCGACCTGATGCGGTTCGCGTGGGGGCAGACGGTGTTCCGGGTGACCGGCAGCGAGCAGCCCGAGCACATCAACGCCGCGCGTGAGGCCGCGCTGGCGTTCGTGGCCGGACACGACGTGAACGATCTGGTGGCGCTCTGCGAGGAGATCTACGACGACACCATGGCCGACAGGATCTGGGAGGGCACCCGGGCGCTCGTCCAGGGGCACCTGGACGCCGGGCGGCCGGTGTGGCTGGTGACCGCGACGCCGGTGGAGCTGGCCCAGATCATCCGGCGGCGGCTGGGCCTGACCGGTGCTCTGGGCACCGAGGCCGAGTGCGTCGACGGGGTGTACACGGGACGGTTGAACGGGGACCTGCTGCACGGTCCGGCCAAGGCCGTGGCGGTGCGCGCCCTCGCCCACAGGGAGGGGTGGGACCTGGCGTCCTGCTCCGCCTACAGCGACTCCTCCAACGACCTGCCGCTGCTGTCCCTGGTGGGGCGTCCGCACGCGGTCAACCCGGACACCGACCTGCGCAGGTACGCCCGCACGCACGGGTGGCCGGTGCACGACTTCCGGCGGCACCGGAACGCGCTGCGGGTGGCCGTCCCGGCCGCCGTGGGCGCGGTCGCCGGTGCCGTGGCGCTGCGCGCGGTCAGACAGAGACGGACCGGCTGAACCGG'\n",
    "LGR = [G1,G2,G3]\n",
    "LN = [5,8,3] #cambiar por una aleatorio log-normal \n",
    "Ln = 10\n",
    "GS = []\n",
    "for j in range(len(LGR)):\n",
    "    g = LGR[j]\n",
    "    k = 0\n",
    "    GS.append(j)\n",
    "    while k < LN[j]:\n",
    "        i = randint(1,(len(g)-Ln))\n",
    "        GS.append(cutout(g,i,Ln))\n",
    "        k += 1\n",
    "print(GS)"
   ]
  },
  {
   "cell_type": "code",
   "execution_count": null,
   "metadata": {},
   "outputs": [],
   "source": []
  }
 ],
 "metadata": {
  "kernelspec": {
   "display_name": "Python 3 (ipykernel)",
   "language": "python",
   "name": "python3"
  },
  "language_info": {
   "codemirror_mode": {
    "name": "ipython",
    "version": 3
   },
   "file_extension": ".py",
   "mimetype": "text/x-python",
   "name": "python",
   "nbconvert_exporter": "python",
   "pygments_lexer": "ipython3",
   "version": "3.7.6"
  }
 },
 "nbformat": 4,
 "nbformat_minor": 4
}
