{
 "cells": [
  {
   "cell_type": "markdown",
   "metadata": {},
   "source": [
    "# PyMetaSeem\n",
    "CAMISIM es un `Programa` para simular datos metagenomicos a partir de genomas, a grandes rasgos este programa toma uno o varios archivos de genomas, y por un proceso de corte aleatorio de secuencias crea un archivo de datos metagenomicos.\n",
    "\n",
    "A continuación se muestran los pasos para hacer una recreaccion de este algoritmo, y explicando cada una de las funciones creadas."
   ]
  },
  {
   "cell_type": "markdown",
   "metadata": {},
   "source": [
    "\n"
   ]
  },
  {
   "cell_type": "code",
   "execution_count": 1,
   "metadata": {},
   "outputs": [],
   "source": [
    "import os\n",
    "import math\n",
    "import random\n",
    "import numpy as np\n",
    "\n",
    "from pathlib import Path\n",
    "from random import seed\n",
    "from random import randint"
   ]
  },
  {
   "cell_type": "markdown",
   "metadata": {},
   "source": [
    "La primera funcion se encarga de leer uno o varios genomas en archivos, los cuales se convertiran en un diccionario para poder trabajar con ellos en `Python`, en donde las `llaves`son los identificadores de los genoma y los `valores` la secuencia de nucleotidos."
   ]
  },
  {
   "cell_type": "code",
   "execution_count": 2,
   "metadata": {},
   "outputs": [],
   "source": [
    "# funcion para lectura de archivos\n",
    "# ingresa un archivo multifasta y arroja una lista con cada secuencia (contig)\n",
    "dicc_contigs = {}\n",
    "def lectura_genoma(File):\n",
    "    \n",
    "    lista = []\n",
    "    longitudes = []\n",
    "    with open(File,'r') as f:\n",
    "        lines=f.read() # lectura de cada linea del archivo\n",
    "        lines=lines.split('>') # identificador de '>'\n",
    "        lines=['>'+ x for x in lines[1:]] # lista con cada elemento que comienza con '>'\n",
    "        \n",
    "        for x in lines:\n",
    "            x1 = x.replace(\">\",\"@\")\n",
    "            x2 = x1.replace(\"\\n\",\",\",1) # el primer '\\n' se reemplazapor una coma\n",
    "            x3 = x2.replace(\"\\n\",\"\") # los siguientes se quitan\n",
    "            lista.append(x3) # lista con un contig en cada elemento y su identificador\n",
    "    \n",
    "        # convertir la lista en un diccionario        \n",
    "        for x in lista:\n",
    "            x = x.split(',')\n",
    "            dicc_contigs[x[0]] = x[1] \n",
    "        return(dicc_contigs)    "
   ]
  },
  {
   "cell_type": "code",
   "execution_count": 4,
   "metadata": {},
   "outputs": [],
   "source": [
    "dicc_contigs = lectura_genoma('/home/csilva/GIT/Tesis_Maestria/Data/all-c-genomes(cortados)/GenomaPrueba.fna')"
   ]
  },
  {
   "cell_type": "code",
   "execution_count": 5,
   "metadata": {},
   "outputs": [],
   "source": [
    "def cuenta_contigs(dicc_contigs):\n",
    "    long_total = 0\n",
    "    dicc_longitudes = {}\n",
    "    num_contigs = len(dicc_contigs) # cuenta cuantos contigs contiene cada genoma (cuantas llaves)\n",
    "    for key in dicc_contigs:\n",
    "        longitud = len(dicc_contigs[key])# calcula la longitud de cada contig (la longitud de las claves, para cada llave)\n",
    "        long_total +=  longitud # va sumando todas las longitudes de los contigs\n",
    "        dicc_longitudes[key] = longitud # diccionario de longitudes \n",
    "        # key es el identificador del contig \n",
    "        # longitud -> es la longitud de cada contig\n",
    "        # long_total -> lontitud total del genoma\n",
    "    return (dicc_longitudes,num_contigs,long_total)   \n",
    "        \n",
    "        \n",
    "        \n",
    "        \n",
    "### SE TOMA EL MINIMO DE CANTIDAD DE CONTIGS (se debe comparar por cada genoma)\n",
    "### TOMAR EL NUMERO MINIMO DE CONTIGS CON MAYOR LONGITUD"
   ]
  },
  {
   "cell_type": "code",
   "execution_count": 6,
   "metadata": {},
   "outputs": [],
   "source": [
    "dicc_longitudes,num_contigs,long_total = cuenta_contigs(dicc_contigs)"
   ]
  },
  {
   "cell_type": "code",
   "execution_count": 21,
   "metadata": {},
   "outputs": [
    {
     "data": {
      "text/plain": [
       "({'@NZ_CP048049.1': 160, '@NZ_CP021034.1': 171, '@NZ_CP086349.1': 85}, 3, 416)"
      ]
     },
     "execution_count": 21,
     "metadata": {},
     "output_type": "execute_result"
    }
   ],
   "source": [
    "dicc_longitudes,num_contigs,long_total"
   ]
  },
  {
   "cell_type": "code",
   "execution_count": 7,
   "metadata": {},
   "outputs": [],
   "source": [
    "# funcion para calcular la proporcion de los contigs\n",
    "def proporcion_contigs(dicc_contigs,dicc_longitudes,long_total):\n",
    "    dicc_proporciones = {}\n",
    "    for key in dicc_longitudes:\n",
    "        P = dicc_longitudes[key]/long_total\n",
    "        dicc_proporciones[key] = P\n",
    "    return dicc_proporciones\n",
    "# numero de reads por contig se calcula en la funcion reads "
   ]
  },
  {
   "cell_type": "code",
   "execution_count": 8,
   "metadata": {},
   "outputs": [],
   "source": [
    "dicc_proporciones = proporcion_contigs(dicc_contigs,dicc_longitudes,long_total)"
   ]
  },
  {
   "cell_type": "code",
   "execution_count": null,
   "metadata": {},
   "outputs": [],
   "source": [
    "dicc_proporciones"
   ]
  },
  {
   "cell_type": "markdown",
   "metadata": {},
   "source": [
    "Esta funcion se encarga de cortar una secuencia de nucleotidos dada, a partir de una pocision y una longitud dada."
   ]
  },
  {
   "cell_type": "code",
   "execution_count": 9,
   "metadata": {},
   "outputs": [],
   "source": [
    "# funcion para cortar reads, dado una pocision de inicio y una longitud de corte\n",
    "def cutout(contig,i,n_length): #fordward    (resive contig y entrega reads)\n",
    "    read = contig[i:i+n_length]\n",
    "    return(read) "
   ]
  },
  {
   "cell_type": "code",
   "execution_count": null,
   "metadata": {},
   "outputs": [],
   "source": [
    "cutout(dicc_contigs['@NZ_CP048049.1'],5,10)"
   ]
  },
  {
   "cell_type": "markdown",
   "metadata": {},
   "source": [
    "### Reads reverse"
   ]
  },
  {
   "cell_type": "code",
   "execution_count": 10,
   "metadata": {},
   "outputs": [],
   "source": [
    "def cutout2(contig,i,n_length,inserto): #backward \n",
    "    # inserto = 400 (tamaño promedio del inserto), depende del secuenciador y lo da el usuario\n",
    "    # inserto -> tamaño verdadero de la molecula de DNA que esta en el secuanciador\n",
    "    j = i + inserto\n",
    "    # j = i+inserto (pocision de inicio de reversa)\n",
    "    # n_length = 150 (tamaño del read \"cortado\")\n",
    "    read_cortado = contig[j-n_length:j]\n",
    "    #i_read = contig[j-n_length:inserto]  #(quiero comenzar en la pocision j e ir hacia atras)\n",
    "    return read_cortado"
   ]
  },
  {
   "cell_type": "code",
   "execution_count": null,
   "metadata": {},
   "outputs": [],
   "source": [
    "cutout('ACTTGTAACTTGTAACTTGTAACTTGTAACTTGTATTGTATTGTAACTTG',5,10)"
   ]
  },
  {
   "cell_type": "code",
   "execution_count": null,
   "metadata": {},
   "outputs": [],
   "source": [
    "cutout2('ACTTGTAACTTGTAACTTGTAACTTGTAACTTGTATTGTATTGTAACTTG',5,10,30)   # una funcion de solo corte y otra de solo reverse"
   ]
  },
  {
   "cell_type": "code",
   "execution_count": null,
   "metadata": {},
   "outputs": [],
   "source": [
    "len('ACTTGTAACTTGTAACTTGTAACTTGTAACTTGTATTGTATTGTAACTTG')"
   ]
  },
  {
   "cell_type": "code",
   "execution_count": 11,
   "metadata": {},
   "outputs": [],
   "source": [
    "# funcion que calcula el reverso de un Read \n",
    "def reverso(read_cortado):\n",
    "    temp_list = list(read_cortado)\n",
    "    temp_list.reverse()\n",
    "    return ''.join(temp_list)"
   ]
  },
  {
   "cell_type": "code",
   "execution_count": null,
   "metadata": {},
   "outputs": [],
   "source": [
    "reverso('GTAACTTGTA')  "
   ]
  },
  {
   "cell_type": "code",
   "execution_count": 79,
   "metadata": {},
   "outputs": [],
   "source": [
    "def complementario(read_cortadoR):\n",
    "    comp = []\n",
    "    for i in range(len(read_cortadoR)):\n",
    "        if read_cortadoR[i] == \"A\":\n",
    "            comp.append(\"T\")\n",
    "        elif read_cortadoR[i] == \"T\":\n",
    "            comp.append(\"A\")\n",
    "        elif read_cortadoR[i] == \"G\":\n",
    "            comp.append(\"C\")\n",
    "        elif read_cortadoR[i] == \"C\":\n",
    "            comp.append(\"G\") \n",
    "            \n",
    "    return \"\".join(comp)"
   ]
  },
  {
   "cell_type": "code",
   "execution_count": 76,
   "metadata": {},
   "outputs": [
    {
     "data": {
      "text/plain": [
       "'TACAATTAC'"
      ]
     },
     "execution_count": 76,
     "metadata": {},
     "output_type": "execute_result"
    }
   ],
   "source": [
    "complementario('ATGTTCAATG') "
   ]
  },
  {
   "cell_type": "code",
   "execution_count": 13,
   "metadata": {},
   "outputs": [],
   "source": [
    "def reverso_complementario(contig,i,n_length,inserto):\n",
    "    read_rev_com = complementario(reverso(cutout2(contig,i,n_length,inserto))) \n",
    "    return (read_rev_com) # entrega cada read reverso complementario"
   ]
  },
  {
   "cell_type": "code",
   "execution_count": null,
   "metadata": {},
   "outputs": [],
   "source": [
    "reverso_complementario('ACTTGTAACTTGTAACTTGTAACTTGTAACTTGTATTGTATTGTAACTTG',5,10,30)\n",
    "# si se pone este read de ejemplo, el reverso complementario deberia quedar 'TAC'"
   ]
  },
  {
   "cell_type": "markdown",
   "metadata": {},
   "source": [
    "Esta función se depende de la funcion anterior para cortar reads, y se complementa haciendo esto para cada genoma dentro de diccionario creado."
   ]
  },
  {
   "cell_type": "code",
   "execution_count": 86,
   "metadata": {},
   "outputs": [],
   "source": [
    "# funcion para cortar los reads aleatoriamente\n",
    "# Al ingresar un conjunto de genomas, este nos arroja un metagenoma con varios reads tomados de los genomas iniciales\n",
    "# para esto se le entrega el numero de reads deseados por cada genoma y la longitud.\n",
    "\n",
    "def reads(dicc_contigs,dicc_longitudes,dicc_proporciones,n_length,num_reads_total):  \n",
    "    \n",
    "    dicc_reads = {}  # diccionario de reads \n",
    "    dicc_reads_reverso = {} # diccionario de reverso reads\n",
    "    k = 0\n",
    "    kk = 0\n",
    "    inserto = 30 #400 (tamaño promedio del inserto), depende del secuenciador y lo da el usuario\n",
    "     \n",
    "    # LONGITUD Y NUM_READS DEPENDERA DE LAS LONGITUDES DE LOS CONTIG\n",
    "    # LA LONGITUD \n",
    "    # LAS LONGITUDES DEPENDEN DE LA CALIDAD\n",
    "    \n",
    "    while k < num_reads_total: # número de reads total\n",
    "              \n",
    "        for key in dicc_contigs:\n",
    "            #contig = random.choice(list(dicc_contigs.values())) # escoje un contig al azar\n",
    "            num_reads_contig = round(num_reads_total* dicc_proporciones[key]) # numero de reads x proporcion #proporcion de reads por contig\n",
    "            contig = dicc_contigs[key]\n",
    "            # la proporcion viene del diccionario proporciones de la funcion cuenta contigs \n",
    "            for kk in range(num_reads_contig): \n",
    "                newkey = key + '_' + str(kk) # identificador de contig, con el numero de read\n",
    "                i = randint(1,(len(contig)-n_length-inserto-1)) # toma una pocision de inicio al azar se debe tener en cuenta el inserto)\n",
    "                dicc_reads[newkey] = cutout(contig,i,n_length) # para el contig dado anteriormente, se corta desde la pocision i de lonjitud ln\n",
    "                dicc_reads_reverso[newkey] = reverso_complementario(contig,i,n_length,inserto)# reverso complementario\n",
    "                #dicc_reads_reverso[newkey] = cutout2(contig,i,n_length,inserto)\n",
    "                #dicc_reads_reverso[newkey] = reverso(cutout2(contig,i,n_length,inserto))\n",
    "                #dicc_reads_reverso[newkey] = complementario(reverso(cutout2(contig,i,n_length,inserto))) ##AQUI ESTA EL PROBLEMA\n",
    "                kk += 1\n",
    "            k += num_reads_contig # funcion para cortar los reads aleatoriamente\n",
    "        # se debe calcular cuantas veces va a escoger cada contig,dependiendo del tamaño del contig inicial      \n",
    "\n",
    "    return(dicc_reads,dicc_reads_reverso)"
   ]
  },
  {
   "cell_type": "code",
   "execution_count": 87,
   "metadata": {},
   "outputs": [],
   "source": [
    "dicc_reads,dicc_reads_reverso = reads(dicc_contigs,dicc_longitudes,dicc_proporciones,5,10)"
   ]
  },
  {
   "cell_type": "code",
   "execution_count": 88,
   "metadata": {},
   "outputs": [
    {
     "data": {
      "text/plain": [
       "{'@NZ_CP048049.1_0': 'TGGGC',\n",
       " '@NZ_CP048049.1_1': 'CAGCA',\n",
       " '@NZ_CP048049.1_2': 'GGTGC',\n",
       " '@NZ_CP048049.1_3': 'TGACG',\n",
       " '@NZ_CP021034.1_0': 'AGATC',\n",
       " '@NZ_CP021034.1_1': 'GTGCA',\n",
       " '@NZ_CP021034.1_2': 'TGAAG',\n",
       " '@NZ_CP021034.1_3': 'TCGTC',\n",
       " '@NZ_CP086349.1_0': 'GTCGT',\n",
       " '@NZ_CP086349.1_1': 'CCGCG'}"
      ]
     },
     "execution_count": 88,
     "metadata": {},
     "output_type": "execute_result"
    }
   ],
   "source": [
    "dicc_reads_reverso"
   ]
  },
  {
   "cell_type": "code",
   "execution_count": 89,
   "metadata": {},
   "outputs": [
    {
     "data": {
      "text/plain": [
       "{'@NZ_CP048049.1_0': 'TGACC',\n",
       " '@NZ_CP048049.1_1': 'CCGAC',\n",
       " '@NZ_CP048049.1_2': 'GTCGA',\n",
       " '@NZ_CP048049.1_3': 'TCATC',\n",
       " '@NZ_CP021034.1_0': 'CCGAC',\n",
       " '@NZ_CP021034.1_1': 'GCGGA',\n",
       " '@NZ_CP021034.1_2': 'ACCGG',\n",
       " '@NZ_CP021034.1_3': 'GAAGG',\n",
       " '@NZ_CP086349.1_0': 'AAGGT',\n",
       " '@NZ_CP086349.1_1': 'GGCAG'}"
      ]
     },
     "execution_count": 89,
     "metadata": {},
     "output_type": "execute_result"
    }
   ],
   "source": [
    "dicc_reads"
   ]
  },
  {
   "cell_type": "code",
   "execution_count": null,
   "metadata": {},
   "outputs": [],
   "source": [
    "# funcion para simular la calidad"
   ]
  },
  {
   "cell_type": "code",
   "execution_count": null,
   "metadata": {},
   "outputs": [],
   "source": []
  },
  {
   "cell_type": "markdown",
   "metadata": {},
   "source": [
    "La ultima función toma el diccionario de reads creado por la anterior funcion, y lo guarda en un archivo `.fastq` , creando una calidad para cada read."
   ]
  },
  {
   "cell_type": "code",
   "execution_count": null,
   "metadata": {},
   "outputs": [],
   "source": [
    "# funcion de creacion archivo .fastq\n",
    "    \n",
    "def crea_fastq(dicc_reads,dicc_reads_reverso,n_length,file_name,file_name_reverse):\n",
    "    file = open(file_name,'wt')\n",
    "    for key in dicc_reads: \n",
    "        file.write(str(key))\n",
    "        file.write(str('\\n'))\n",
    "        file.write(str(dicc_reads[key]))\n",
    "        file.write(str('\\n'))\n",
    "        file.write(str('+'))\n",
    "        file.write(str('\\n'))\n",
    "        file.write(str('A'*n_length)) #calidad\n",
    "        file.write(str('\\n'))     \n",
    "        \n",
    "        \n",
    "    # agregar el reverso complementario  \n",
    "    file = open(file_name_reverse,'wt')\n",
    "    for key in dicc_reads_reverse: \n",
    "        file.write(str(key))\n",
    "        file.write(str('\\n'))\n",
    "        file.write(str(dicc_reads_reverso[key]))\n",
    "        file.write(str('\\n'))\n",
    "        file.write(str('+'))\n",
    "        file.write(str('\\n'))\n",
    "        file.write(str('A'*n_length)) #calidad\n",
    "        file.write(str('\\n'))  \n",
    "        \n",
    "        \n",
    "    file.close()\n",
    "    "
   ]
  },
  {
   "cell_type": "code",
   "execution_count": null,
   "metadata": {},
   "outputs": [],
   "source": [
    "crea_fastq(dicc_reads,dicc_reads_reverso,10,\"prueba2.fastq\")"
   ]
  },
  {
   "cell_type": "code",
   "execution_count": null,
   "metadata": {},
   "outputs": [],
   "source": []
  },
  {
   "cell_type": "code",
   "execution_count": null,
   "metadata": {},
   "outputs": [],
   "source": []
  },
  {
   "cell_type": "code",
   "execution_count": null,
   "metadata": {},
   "outputs": [],
   "source": []
  },
  {
   "cell_type": "code",
   "execution_count": null,
   "metadata": {},
   "outputs": [],
   "source": []
  },
  {
   "cell_type": "code",
   "execution_count": null,
   "metadata": {},
   "outputs": [],
   "source": []
  },
  {
   "cell_type": "markdown",
   "metadata": {},
   "source": [
    "#### Clase"
   ]
  },
  {
   "cell_type": "code",
   "execution_count": null,
   "metadata": {},
   "outputs": [],
   "source": []
  },
  {
   "cell_type": "code",
   "execution_count": null,
   "metadata": {},
   "outputs": [],
   "source": []
  },
  {
   "cell_type": "code",
   "execution_count": null,
   "metadata": {},
   "outputs": [],
   "source": []
  },
  {
   "cell_type": "markdown",
   "metadata": {},
   "source": [
    "A continuación se quiere agrupar todo dentro de una clase y poder realizar el proceso para varios archivos al mismo tiempo. Empezando con un solo archivo como prueba de la clase."
   ]
  },
  {
   "cell_type": "markdown",
   "metadata": {},
   "source": [
    "Esta clase se compone de cuatro funciones, las cuales:\n",
    " * Lee uno o varios archivos `.fasta` los cuales contienen genomas con uno o varios contigs.\n",
    " * Corta un read (secuencia genomica) de un tamaño dado y desde una posición aleatoria dada.\n",
    " * Crea un diccionario de reads metagenomicos de varios metagenomas dados.\n",
    " * Crea un archivo `.fastq` en donde guarda los datos metagenomicos añadiendo le la calidad."
   ]
  },
  {
   "cell_type": "code",
   "execution_count": null,
   "metadata": {},
   "outputs": [],
   "source": [
    "class CAMISIM_CAMI:\n",
    "    def __init__(self, File, longitud ,num_reads):\n",
    "        self.File = File\n",
    "        self.longitud = longitud\n",
    "        self.dic = {}\n",
    "        self.dicReads = {}\n",
    "        \n",
    "        #longitud   (ejem = 150 por defauld o agusto del usuario)\n",
    "        #numero de reads\n",
    "        \n",
    "    # funcion para lectura de archivos\n",
    "    # ingresa un archivo multifasta y arroja una lista con cada secuencia (contig)\n",
    "    def lectura_genoma(self):\n",
    "        lista = []\n",
    "        #with open(File,'r') as f: # con esta funcion podemos abrir un archivo en especifico con ruta completa\n",
    "        with open(ruta + '/' + self.File,'r') as f:  # con esta funcion podemos leer los nombres de los archivos de la lista 'genomes' y le agrega la ruta para la lectura \n",
    "            lines=f.read() # lectura decada linea del archivo\n",
    "            lines=lines.split('>') # identificador de '>'\n",
    "            lines=['>'+ x for x in lines[1:]] # lista con cada elemento que comienza con '>'\n",
    "            for x in lines:\n",
    "                x1 = x.replace(\">\",\"@\")\n",
    "                x2 = x1.replace(\"\\n\",\",\",1) # el primer '\\n' se reemplazapor una coma\n",
    "                x3 = x2.replace(\"\\n\",\"\") # los siguientes se quitan\n",
    "                \n",
    "                #reemplazar '>' con '@'\n",
    "                \n",
    "                lista.append(x3) # lista con un contig en cada elemento y su identificador\n",
    "            # convertir la lista en un diccionario        \n",
    "            for x in lista:\n",
    "                x = x.split(',')\n",
    "                self.dic[x[0]] = x[1] \n",
    "        return(self.dic)  \n",
    "    \n",
    "    # funcion para cortar reads, dado una pocision de inicio y una longitud de corte\n",
    "    def cutout(self,read,i): #fordward\n",
    "        cropped_read = read[i:i+n_length]\n",
    "        return(cropped_read) \n",
    "    \n",
    "    \n",
    "    \n",
    "    # funcion para cortar reads desde el final, dado una pocision de inicio, una longitud de corte y el tamaño del inserto \n",
    "    def cutout2(self,read,i,inserto): #backward \n",
    "        # inserto = 400 (tamaño promedio del inserto)\n",
    "        j = i + inserto\n",
    "        # j = i+inserto (pocision de inicio de reversa)\n",
    "        # n_length = 150 (tamaño del read \"cortado\")\n",
    "        cropped2_read = read[j-n_length:inserto]  #(quiero comenzar en la pocision j e ir hacia atras)\n",
    "        return cropped2_read\n",
    "    \n",
    "    # crea el reverso del read ya cortado\n",
    "    def reverso(self,read_cortado):\n",
    "        temp_list = list(read_cortado)\n",
    "        temp_list.reverse()\n",
    "        return ''.join(temp_list)\n",
    "    \n",
    "    # crea el reverso complementario del read cortado \n",
    "    def reverso_complementario(self,read,i,inserto):\n",
    "        result = complementario(reverso(cutout2(read,i,n_length,inserto)))\n",
    "        return (result)\n",
    "\n",
    "\n",
    "\n",
    "    \n",
    "    # funcion para cortar los reads aleatoriamente\n",
    "    # Al ingresar un conjunto de genomas, este nos arroja un metagenoma con varios reads tomados de los genomas iniciales\n",
    "    # para esto se le entrega el numero de reads deseados por cada genoma y la longitud.\n",
    "    def reads(self,num_reads):  # num_reads\n",
    "        contig = 0\n",
    "        k = 0\n",
    "        while k < num_reads:\n",
    "            for key in self.dic:#range(len(diccionario.keys())):\n",
    "                newkey = key + '_' + str(k) \n",
    "                contig = random.choice(list(self.dic.values())) # escoje un contig al azar \n",
    "                i = randint(1,(len(contig)-self.longitud)) # toma una pocision de inicio al azar\n",
    "                self.dicReads[newkey] = cutout(contig,i,self.longitud) # para el contig dado anteriormente, se corta desde la pocision i de lonjitud ln\n",
    "                # se debe calcular cuantas veces va a escoger cada contig,dependiendo del tamaño del contig inicial      \n",
    "            k += 1\n",
    "        return(self.dicReads)\n",
    "    \n",
    "    # funcion de creacion archivo .fastq, tomandoel diccionario de reads cortados y la calidad de los reads\n",
    "    def crea_fastq(diccionario,longitud,file_name):\n",
    "        file = open(file_name,'wt')\n",
    "        for key in diccionario: \n",
    "            file.write(str(key))\n",
    "            file.write(str('\\n'))\n",
    "            file.write(str(diccionario[key]))\n",
    "            file.write(str('\\n'))\n",
    "            file.write(str('+'))\n",
    "            file.write(str('\\n'))\n",
    "            file.write(str('A'*longitud)) #calidad\n",
    "            file.write(str('\\n'))     \n",
    "            \n",
    "            \n",
    "            \n",
    "            \n",
    "        file.close()\n",
    "    "
   ]
  },
  {
   "cell_type": "code",
   "execution_count": null,
   "metadata": {},
   "outputs": [],
   "source": [
    "A=CAMISIM_CAMI(\"Clavibacter_michiganensis_subsp_capsici_1101.fna-cortado.fna\",5,10)"
   ]
  },
  {
   "cell_type": "code",
   "execution_count": null,
   "metadata": {},
   "outputs": [],
   "source": [
    "A.reads(4)"
   ]
  },
  {
   "cell_type": "code",
   "execution_count": null,
   "metadata": {},
   "outputs": [],
   "source": [
    "dicreads = CAMISIM_CAMI.reads(dic,10) #???"
   ]
  },
  {
   "cell_type": "code",
   "execution_count": null,
   "metadata": {},
   "outputs": [],
   "source": [
    "CAMISIM_CAMI.crea_fastq(dicreads,10,\"prueba2.fastq\")"
   ]
  },
  {
   "cell_type": "markdown",
   "metadata": {},
   "source": [
    "Y por ultimo realizandole unas pocas modificaciones a la clase, para poder realizar el proceso para varios archivos de genomas."
   ]
  },
  {
   "cell_type": "code",
   "execution_count": null,
   "metadata": {},
   "outputs": [],
   "source": []
  },
  {
   "cell_type": "markdown",
   "metadata": {},
   "source": [
    "y aplicando lo visto en clase sobre lectura de arhivos, e iteracion sobre cada uno de ellos."
   ]
  },
  {
   "cell_type": "code",
   "execution_count": null,
   "metadata": {},
   "outputs": [],
   "source": [
    "# "
   ]
  },
  {
   "cell_type": "code",
   "execution_count": null,
   "metadata": {},
   "outputs": [],
   "source": [
    "# Funcion para la lectura de los nombres de los todos los archivos de genomas\n",
    "# toma la ruta de la carpeta donde estan los genomas, y crea un listado de los nombres de los archivos\n",
    "# para poder realizar la lectura de los mismos.\n",
    "ruta = '/home/csilva/GIT/Tesis_Maestria/Data/all-c-genomes(cortados)'\n",
    "contenido = os.listdir(ruta)\n",
    "genomes = []\n",
    "for i in contenido:\n",
    "    if os.path.isfile(os.path.join(ruta,i)) and i.endswith('.fna'):\n",
    "        genomes.append(i)\n",
    "n = len(genomes) # número de genomas (número de archivos)\n",
    "diccionario_reads_metagenoma = {}\n",
    "    "
   ]
  },
  {
   "cell_type": "code",
   "execution_count": null,
   "metadata": {},
   "outputs": [],
   "source": [
    "#genomes"
   ]
  },
  {
   "cell_type": "code",
   "execution_count": null,
   "metadata": {},
   "outputs": [],
   "source": [
    "# Con esta funcion queremos llamar a las funciones de la clase,para todos los archivos en la lista 'genomes'\n",
    "\n",
    "def todo(genomes,longitud,num_reads,file_name):\n",
    "\n",
    "    for i,x in enumerate(genomes):\n",
    "    \n",
    "        CAMISIM_CAMI.lectura_genoma(x)                        #\n",
    "        dicreads = CAMISIM_CAMI.reads(dic,longitud,num_reads) #funcion construcctora\n",
    "        fasta = CAMISIM_CAMI.crea_fastq(dicreads,longitud,file_name)\n",
    "#print(dic)\n",
    "    \n",
    "    "
   ]
  },
  {
   "cell_type": "code",
   "execution_count": null,
   "metadata": {},
   "outputs": [],
   "source": [
    "todo(genomes,150,5,'prueba_clase.fastq')"
   ]
  },
  {
   "cell_type": "code",
   "execution_count": null,
   "metadata": {},
   "outputs": [],
   "source": []
  },
  {
   "cell_type": "code",
   "execution_count": null,
   "metadata": {},
   "outputs": [],
   "source": []
  },
  {
   "cell_type": "code",
   "execution_count": null,
   "metadata": {},
   "outputs": [],
   "source": []
  },
  {
   "cell_type": "markdown",
   "metadata": {},
   "source": [
    "Para Shaday:\n",
    "* 9 archivos  \n",
    "\n",
    "1. (3 de un solo genoma)\n",
    "    * 1.1\n",
    "        1. Clavibacter_michiganensis_subsp_capsici_PF008.fna-cortado.fna\n",
    "\n",
    "    * 1.2\n",
    "        1. Clavibacter_michiganensis_subsp_nebraskensis_CIBA.fna-cortado.fna\n",
    "\n",
    "    * 1.3\n",
    "        1. Clavibacter_michiganensis_subsp_sepedonicus_CFIA-Cs3N.fna-cortado.fna\n",
    "        \n",
    "2. (3 de 2) \n",
    "    * 2.1\n",
    "        1. Clavibacter_michiganensis_subsp_capsici_1106.fna-cortado.fna\n",
    "        2. Clavibacter_michiganensis_subsp_nebraskensis_7580.fna-cortado.fna\n",
    "        \n",
    "    * 2.2\n",
    "        1. Clavibacter_michiganensis_subsp_insidiosus_LMG_3663.fna-cortado.fna\n",
    "        2. Clavibacter_michiganensis_subsp_tessellarius_ATCC_33566.fna-cortado.fna\n",
    "        \n",
    "    * 2.3\n",
    "        1. Clavibacter_michiganensis_subsp_sepedonicus_ATCC33113.fna-cortado.fna\n",
    "        2. Clavibacter_michiganensis_subsp_tessellarius_ATCC_33566.fna-cortado\n",
    "\n",
    "3. (3 de 3)\n",
    "    * 3.1\n",
    "        1. Clavibacter_michiganensis_subsp_capsici_1101.fna-cortado.fna\n",
    "        2. Clavibacter_michiganensis_subsp_nebraskensis_CFBP_7577.fna-cortado.fna\n",
    "        3. Clavibacter_michiganensis_subsp_sepedonicus_CFIA-CsR14.fna-cortado.fna  \n",
    "        \n",
    "    * 3.2\n",
    "        1. Clavibacter_michiganensis_subsp_insidiosus_CFBP_6488.fna-cortado.fna\n",
    "        2. Clavibacter_michiganensis_subsp_sepedonicus_CFIA-CsR14.fna-cortado.fna   \n",
    "        3. Clavibacter_michiganensis_subsp_tessellarius_ATCC33113.fna-cortado.fna\n",
    "        \n",
    "    * 3.3\n",
    "        1. Clavibacter_michiganensis_subsp_insidiosus_CFBP_2404.fna-cortado.fna\n",
    "        2. Clavibacter_michiganensis_subsp_tessellarius_ATCC_33566.fna-cortado.fna\n",
    "        3. Clavibacter_michiganensis_subsp_sepedonicus_CFIA-CsR14.fna-cortado.fna  \n"
   ]
  },
  {
   "cell_type": "code",
   "execution_count": null,
   "metadata": {},
   "outputs": [],
   "source": [
    "# 3 listas con 1 genoma\n",
    "genomes11 = ['Clavibacter_michiganensis_subsp_capsici_PF008.fna-cortado.fna']\n",
    "genomes12 = ['Clavibacter_michiganensis_subsp_nebraskensis_CIBA.fna-cortado.fna']\n",
    "genomes13 = ['Clavibacter_michiganensis_subsp_sepedonicus_CFIA-Cs3N.fna-cortado.fna']\n",
    "# 3 listas con 2 genomas\n",
    "genomes21 = ['Clavibacter_michiganensis_subsp_capsici_1106.fna-cortado.fna','Clavibacter_michiganensis_subsp_nebraskensis_7580.fna-cortado.fna']\n",
    "genomes22 = ['Clavibacter_michiganensis_subsp_insidiosus_LMG_3663.fna-cortado.fna','Clavibacter_michiganensis_subsp_tessellarius_ATCC_33566.fna-cortado.fna']\n",
    "genomes23 = ['Clavibacter_michiganensis_subsp_sepedonicus_ATCC33113.fna-cortado.fna','Clavibacter_michiganensis_subsp_tessellarius_ATCC_33566.fna-cortado']\n",
    "# 3 listas con 3 genomas\n",
    "genomes31 = ['Clavibacter_michiganensis_subsp_capsici_1101.fna-cortado.fna','Clavibacter_michiganensis_subsp_nebraskensis_CFBP_7577.fna-cortado.fna','Clavibacter_michiganensis_subsp_sepedonicus_CFIA-CsR14.fna-cortado.fna']\n",
    "genomes32 = ['Clavibacter_michiganensis_subsp_insidiosus_CFBP_6488.fna-cortado.fna','Clavibacter_michiganensis_subsp_sepedonicus_CFIA-CsR14.fna-cortado.fna','Clavibacter_michiganensis_subsp_tessellarius_ATCC33113.fna-cortado.fna']\n",
    "genomes33 = ['Clavibacter_michiganensis_subsp_insidiosus_CFBP_2404.fna-cortado.fna','Clavibacter_michiganensis_subsp_tessellarius_ATCC_33566.fna-cortado.fna','Clavibacter_michiganensis_subsp_sepedonicus_CFIA-CsR14.fna-cortado.fna'] "
   ]
  },
  {
   "cell_type": "code",
   "execution_count": null,
   "metadata": {},
   "outputs": [],
   "source": []
  },
  {
   "cell_type": "code",
   "execution_count": null,
   "metadata": {},
   "outputs": [],
   "source": []
  },
  {
   "cell_type": "code",
   "execution_count": null,
   "metadata": {},
   "outputs": [],
   "source": [
    "# como calcular la calidada de las secuencias "
   ]
  },
  {
   "cell_type": "code",
   "execution_count": null,
   "metadata": {},
   "outputs": [],
   "source": []
  }
 ],
 "metadata": {
  "kernelspec": {
   "display_name": "Python 3 (ipykernel)",
   "language": "python",
   "name": "python3"
  },
  "language_info": {
   "codemirror_mode": {
    "name": "ipython",
    "version": 3
   },
   "file_extension": ".py",
   "mimetype": "text/x-python",
   "name": "python",
   "nbconvert_exporter": "python",
   "pygments_lexer": "ipython3",
   "version": "3.7.6"
  }
 },
 "nbformat": 4,
 "nbformat_minor": 4
}
