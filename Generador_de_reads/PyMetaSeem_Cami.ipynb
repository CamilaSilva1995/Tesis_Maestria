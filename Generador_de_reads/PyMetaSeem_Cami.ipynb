{
 "cells": [
  {
   "cell_type": "markdown",
   "metadata": {},
   "source": [
    "# PyMetaSeem\n",
    "CAMISIM es un `Programa` para simular datos metagenomicos a partir de genomas, a grandes rasgos este programa toma uno o varios archivos de genomas, y por un proceso de corte aleatorio de secuencias crea un archivo de datos metagenomicos.\n",
    "\n",
    "A continuación se muestran los pasos para hacer una recreaccion de este algoritmo, y explicando cada una de las funciones creadas."
   ]
  },
  {
   "cell_type": "code",
   "execution_count": 1,
   "metadata": {},
   "outputs": [],
   "source": [
    "import os\n",
    "import math\n",
    "import gzip\n",
    "import random\n",
    "import numpy as np\n",
    "import pandas as pd\n",
    "\n",
    "from pathlib import Path\n",
    "from random import seed\n",
    "from random import randint"
   ]
  },
  {
   "cell_type": "markdown",
   "metadata": {},
   "source": [
    "Antes de empesar a usar PyMetaSeem, asegurese que sus archivos Fasta en la primera linea de "
   ]
  },
  {
   "cell_type": "code",
   "execution_count": null,
   "metadata": {},
   "outputs": [],
   "source": [
    "# Bash\n",
    "\n",
    "# vi\n",
    "#:/s"
   ]
  },
  {
   "cell_type": "markdown",
   "metadata": {},
   "source": [
    "La primera funcion se encarga de leer uno o varios genomas en archivos, los cuales se convertiran en un diccionario para poder trabajar con ellos en `Python`, en donde las `llaves`son los identificadores de los genoma y los `valores` la secuencia de nucleotidos."
   ]
  },
  {
   "cell_type": "code",
   "execution_count": 2,
   "metadata": {},
   "outputs": [],
   "source": [
    "# funcion para lectura de archivos\n",
    "# ingresa un archivo multifasta y arroja una lista con cada secuencia (contig)\n",
    "dicc_contigs = {}\n",
    "def lectura_genoma(File):\n",
    "    \n",
    "    lista = []\n",
    "    longitudes = []\n",
    "    with open(File,'r') as f:\n",
    "        lines=f.read() # lectura de cada linea del archivo\n",
    "        lines=lines.split('>') # identificador de '>'\n",
    "        lines=['>'+ x for x in lines[1:]] # lista con cada elemento que comienza con '>'\n",
    "        \n",
    "        for x in lines:\n",
    "            x1 = x.replace(\">\",\"@\")\n",
    "            x2 = x1.replace(\"\\n\",\",\",1) # el primer '\\n' se reemplazapor una coma\n",
    "            x3 = x2.replace(\"\\n\",\"\") # los siguientes se quitan\n",
    "            lista.append(x3) # lista con un contig en cada elemento y su identificador\n",
    "    \n",
    "        # convertir la lista en un diccionario        \n",
    "        for x in lista:\n",
    "            x = x.split(',')\n",
    "            dicc_contigs[x[0]] = x[1] \n",
    "        return(dicc_contigs)    "
   ]
  },
  {
   "cell_type": "code",
   "execution_count": 3,
   "metadata": {},
   "outputs": [],
   "source": [
    "dicc_contigs = lectura_genoma('/home/csilva/GIT/Tesis_Maestria/Data/Clavibacter/all-c-genomes(cortados)/GenomaPrueba.fna')"
   ]
  },
  {
   "cell_type": "code",
   "execution_count": 4,
   "metadata": {},
   "outputs": [
    {
     "data": {
      "text/plain": [
       "{'@NZ_CP048049.1': 'ATGTCCGACCGCTCCGACCCGACGCACGCGATCTGGCAGAAGGTGCTGTCCGCCCTGACCGCGGACGACCGCATCACGCCGCAGCTGCACGGCTTCATCAGCCTGGTCGAGCCGAAGGGCGTCATGACCGGCACCCTCTACCTCGAGGTGCCCAACGACC',\n",
       " '@NZ_CP021034.1': 'ATGTCCGACCGCTCCGACCCGACGCACGCGATCTGGCAGAAGGTGCTCGCCGCCCTCACCGCGGACGACCGGATCACCCCGCAGCTGCACGGCTTCATCAGCCTCGTGGAGCCGAAGGGCGTGATGACAGGCACCCTCTACCTCGAGGTGCCCAACGACCTCACGCGGGGG',\n",
       " '@NZ_CP086349.1': 'ATGTCCGACCGCTCCGACCCGACGCACGCGATCTGGCAGAAGGTGCTCGCCGCCCTCACCGCGGACGACCGGATCACCCCGCAGC'}"
      ]
     },
     "execution_count": 4,
     "metadata": {},
     "output_type": "execute_result"
    }
   ],
   "source": [
    "dicc_contigs"
   ]
  },
  {
   "cell_type": "code",
   "execution_count": 5,
   "metadata": {},
   "outputs": [],
   "source": [
    "# funcion que cuenta los contigs de cada genoma\n",
    "def cuenta_contigs(dicc_contigs):\n",
    "    long_total = 0\n",
    "    dicc_longitudes = {}\n",
    "    num_contigs = len(dicc_contigs) # cuenta cuantos contigs contiene cada genoma (cuantas llaves)\n",
    "    for key in dicc_contigs:\n",
    "        longitud = len(dicc_contigs[key])# calcula la longitud de cada contig (la longitud de las claves, para cada llave)\n",
    "        long_total +=  longitud # va sumando todas las longitudes de los contigs\n",
    "        dicc_longitudes[key] = longitud # diccionario de longitudes \n",
    "        # key es el identificador del contig \n",
    "        # longitud -> es la longitud de cada contig\n",
    "        # long_total -> lontitud total del genoma\n",
    "    return (dicc_longitudes,num_contigs,long_total)   \n",
    "        \n",
    "        \n",
    "        \n",
    "        \n",
    "### SE TOMA EL MINIMO DE CANTIDAD DE CONTIGS (se debe comparar por cada genoma)\n",
    "### TOMAR EL NUMERO MINIMO DE CONTIGS CON MAYOR LONGITUD"
   ]
  },
  {
   "cell_type": "code",
   "execution_count": 6,
   "metadata": {},
   "outputs": [],
   "source": [
    "dicc_longitudes,num_contigs,long_total = cuenta_contigs(dicc_contigs)"
   ]
  },
  {
   "cell_type": "code",
   "execution_count": 7,
   "metadata": {},
   "outputs": [
    {
     "data": {
      "text/plain": [
       "({'@NZ_CP048049.1': 160, '@NZ_CP021034.1': 171, '@NZ_CP086349.1': 85}, 3, 416)"
      ]
     },
     "execution_count": 7,
     "metadata": {},
     "output_type": "execute_result"
    }
   ],
   "source": [
    "dicc_longitudes,num_contigs,long_total"
   ]
  },
  {
   "cell_type": "code",
   "execution_count": 8,
   "metadata": {},
   "outputs": [],
   "source": [
    "# funcion para calcular la proporcion de los contigs\n",
    "def proporcion_contigs(dicc_contigs,dicc_longitudes,long_total):\n",
    "    dicc_proporciones = {}\n",
    "    for key in dicc_longitudes:\n",
    "        P = dicc_longitudes[key]/long_total\n",
    "        dicc_proporciones[key] = P\n",
    "    return dicc_proporciones\n",
    "# numero de reads por contig se calcula en la funcion reads "
   ]
  },
  {
   "cell_type": "code",
   "execution_count": 9,
   "metadata": {},
   "outputs": [],
   "source": [
    "dicc_proporciones = proporcion_contigs(dicc_contigs,dicc_longitudes,long_total)"
   ]
  },
  {
   "cell_type": "code",
   "execution_count": 10,
   "metadata": {},
   "outputs": [
    {
     "data": {
      "text/plain": [
       "{'@NZ_CP048049.1': 0.38461538461538464,\n",
       " '@NZ_CP021034.1': 0.4110576923076923,\n",
       " '@NZ_CP086349.1': 0.20432692307692307}"
      ]
     },
     "execution_count": 10,
     "metadata": {},
     "output_type": "execute_result"
    }
   ],
   "source": [
    "dicc_proporciones"
   ]
  },
  {
   "cell_type": "markdown",
   "metadata": {},
   "source": [
    "Esta funcion se encarga de cortar una secuencia de nucleotidos dada, a partir de una pocision y una longitud dada."
   ]
  },
  {
   "cell_type": "code",
   "execution_count": 11,
   "metadata": {},
   "outputs": [],
   "source": [
    "# funcion para cortar reads, dado una pocision de inicio y una longitud de corte\n",
    "def cutout(contig,i,n_length): #fordward    (resive contig y entrega reads)\n",
    "    read = contig[i:i+n_length]\n",
    "    return(read) "
   ]
  },
  {
   "cell_type": "code",
   "execution_count": 12,
   "metadata": {},
   "outputs": [
    {
     "data": {
      "text/plain": [
       "'CGACCGCTCC'"
      ]
     },
     "execution_count": 12,
     "metadata": {},
     "output_type": "execute_result"
    }
   ],
   "source": [
    "cutout(dicc_contigs['@NZ_CP048049.1'],5,10)"
   ]
  },
  {
   "cell_type": "markdown",
   "metadata": {},
   "source": [
    "### Reads reverse"
   ]
  },
  {
   "cell_type": "code",
   "execution_count": 13,
   "metadata": {},
   "outputs": [],
   "source": [
    "def cutout2(contig,i,n_length,inserto): #backward \n",
    "    # inserto = 400 (tamaño promedio del inserto), depende del secuenciador y lo da el usuario\n",
    "    # inserto -> tamaño verdadero de la molecula de DNA que esta en el secuanciador\n",
    "    j = i + inserto\n",
    "    # j = i+inserto (pocision de inicio de reversa)\n",
    "    # n_length = 150 (tamaño del read \"cortado\")\n",
    "    read_cortado = contig[j-n_length:j]\n",
    "    #i_read = contig[j-n_length:inserto]  #(quiero comenzar en la pocision j e ir hacia atras)\n",
    "    return read_cortado"
   ]
  },
  {
   "cell_type": "code",
   "execution_count": 14,
   "metadata": {},
   "outputs": [
    {
     "data": {
      "text/plain": [
       "'TAACTTGTAA'"
      ]
     },
     "execution_count": 14,
     "metadata": {},
     "output_type": "execute_result"
    }
   ],
   "source": [
    "cutout('ACTTGTAACTTGTAACTTGTAACTTGTAACTTGTATTGTATTGTAACTTG',5,10)"
   ]
  },
  {
   "cell_type": "code",
   "execution_count": 15,
   "metadata": {},
   "outputs": [
    {
     "data": {
      "text/plain": [
       "'GTAACTTGTA'"
      ]
     },
     "execution_count": 15,
     "metadata": {},
     "output_type": "execute_result"
    }
   ],
   "source": [
    "cutout2('ACTTGTAACTTGTAACTTGTAACTTGTAACTTGTATTGTATTGTAACTTG',5,10,30)   # una funcion de solo corte y otra de solo reverse"
   ]
  },
  {
   "cell_type": "code",
   "execution_count": 16,
   "metadata": {},
   "outputs": [],
   "source": [
    "# funcion que calcula el reverso de un Read \n",
    "def reverso(read_cortado):\n",
    "    temp_list = list(read_cortado)\n",
    "    temp_list.reverse()\n",
    "    return ''.join(temp_list)"
   ]
  },
  {
   "cell_type": "code",
   "execution_count": 17,
   "metadata": {},
   "outputs": [
    {
     "data": {
      "text/plain": [
       "'ATGTTCAATG'"
      ]
     },
     "execution_count": 17,
     "metadata": {},
     "output_type": "execute_result"
    }
   ],
   "source": [
    "reverso('GTAACTTGTA')  "
   ]
  },
  {
   "cell_type": "code",
   "execution_count": 18,
   "metadata": {},
   "outputs": [],
   "source": [
    "def complementario(read_cortadoR):\n",
    "    comp = []\n",
    "    for i in range(len(read_cortadoR)):\n",
    "        if read_cortadoR[i] == \"A\":\n",
    "            comp.append(\"T\")\n",
    "        elif read_cortadoR[i] == \"T\":\n",
    "            comp.append(\"A\")\n",
    "        elif read_cortadoR[i] == \"G\":\n",
    "            comp.append(\"C\")\n",
    "        elif read_cortadoR[i] == \"C\":\n",
    "            comp.append(\"G\") \n",
    "            \n",
    "    return \"\".join(comp)"
   ]
  },
  {
   "cell_type": "code",
   "execution_count": 19,
   "metadata": {},
   "outputs": [
    {
     "data": {
      "text/plain": [
       "'TACAAGTTAC'"
      ]
     },
     "execution_count": 19,
     "metadata": {},
     "output_type": "execute_result"
    }
   ],
   "source": [
    "complementario('ATGTTCAATG') "
   ]
  },
  {
   "cell_type": "code",
   "execution_count": 20,
   "metadata": {},
   "outputs": [],
   "source": [
    "def reverso_complementario(contig,i,n_length,inserto):\n",
    "    read_rev_com = complementario(reverso(cutout2(contig,i,n_length,inserto))) \n",
    "    return (read_rev_com) # entrega cada read reverso complementario"
   ]
  },
  {
   "cell_type": "code",
   "execution_count": 21,
   "metadata": {},
   "outputs": [
    {
     "data": {
      "text/plain": [
       "'TACAAGTTAC'"
      ]
     },
     "execution_count": 21,
     "metadata": {},
     "output_type": "execute_result"
    }
   ],
   "source": [
    "reverso_complementario('ACTTGTAACTTGTAACTTGTAACTTGTAACTTGTATTGTATTGTAACTTG',5,10,30)\n",
    "# si se pone este read de ejemplo, el reverso complementario deberia quedar 'TAC'"
   ]
  },
  {
   "cell_type": "markdown",
   "metadata": {},
   "source": [
    "Esta función se depende de la funcion anterior para cortar reads, y se complementa haciendo esto para cada genoma dentro de diccionario creado."
   ]
  },
  {
   "cell_type": "code",
   "execution_count": 45,
   "metadata": {},
   "outputs": [],
   "source": [
    "# funcion para cortar los reads aleatoriamente\n",
    "# Al ingresar un conjunto de genomas, este nos arroja un metagenoma con varios reads tomados de los genomas iniciales\n",
    "# para esto se le entrega el numero de reads deseados por cada genoma y la longitud.\n",
    "\n",
    "def reads(dicc_contigs,dicc_longitudes,dicc_proporciones,n_length,num_reads_total):  \n",
    "    dicc_reads = {}  # diccionario de reads \n",
    "    dicc_reads_reverse = {} # diccionario de reverso reads\n",
    "    k = 0\n",
    "    kk = 0\n",
    "    inserto = 30 #400 #(tamaño promedio del inserto), depende del secuenciador y lo da el usuario\n",
    "    while k < num_reads_total: # número de reads total\n",
    "        for key in dicc_contigs:\n",
    "            #contig = random.choice(list(dicc_contigs.values())) # escoje un contig al azar\n",
    "            num_reads_contig = round(num_reads_total* dicc_proporciones[key]) # numero de reads x proporcion #proporcion de reads por contig\n",
    "            contig = dicc_contigs[key]\n",
    "            # la proporcion viene del diccionario proporciones de la funcion cuenta contigs \n",
    "            for kk in range(num_reads_contig): \n",
    "                newkey = key + '_' + str(kk) # identificador de contig, con el numero de read\n",
    "                i = randint(1,(len(contig)-n_length-inserto-1)) # toma una pocision de inicio al azar se debe tener en cuenta el inserto)\n",
    "                dicc_reads[newkey] = cutout(contig,i,n_length) # para el contig dado anteriormente, se corta desde la pocision i de lonjitud ln\n",
    "                dicc_reads_reverse[newkey] = reverso_complementario(contig,i,n_length,inserto)# reverso complementario\n",
    "                kk += 1\n",
    "            k += num_reads_contig # funcion para cortar los reads aleatoriamente\n",
    "        # se debe calcular cuantas veces va a escoger cada contig,dependiendo del tamaño del contig inicial      \n",
    "    return(dicc_reads,dicc_reads_reverse)"
   ]
  },
  {
   "cell_type": "code",
   "execution_count": 23,
   "metadata": {},
   "outputs": [],
   "source": [
    "dicc_reads,dicc_reads_reverse = reads(dicc_contigs,dicc_longitudes,dicc_proporciones,5,10)"
   ]
  },
  {
   "cell_type": "code",
   "execution_count": 24,
   "metadata": {},
   "outputs": [
    {
     "data": {
      "text/plain": [
       "{'@NZ_CP048049.1_0': 'CCGTG',\n",
       " '@NZ_CP048049.1_1': 'CTGCC',\n",
       " '@NZ_CP048049.1_2': 'CGGTC',\n",
       " '@NZ_CP048049.1_3': 'CCAGG',\n",
       " '@NZ_CP021034.1_0': 'TAGAG',\n",
       " '@NZ_CP021034.1_1': 'AGAGG',\n",
       " '@NZ_CP021034.1_2': 'TGAGG',\n",
       " '@NZ_CP021034.1_3': 'TCGCG',\n",
       " '@NZ_CP086349.1_0': 'CCAGA',\n",
       " '@NZ_CP086349.1_1': 'TGATC'}"
      ]
     },
     "execution_count": 24,
     "metadata": {},
     "output_type": "execute_result"
    }
   ],
   "source": [
    "dicc_reads_reverse"
   ]
  },
  {
   "cell_type": "code",
   "execution_count": 25,
   "metadata": {},
   "outputs": [
    {
     "data": {
      "text/plain": [
       "{'@NZ_CP048049.1_0': 'GGACG',\n",
       " '@NZ_CP048049.1_1': 'CGCTC',\n",
       " '@NZ_CP048049.1_2': 'GCCTG',\n",
       " '@NZ_CP048049.1_3': 'CGCCG',\n",
       " '@NZ_CP021034.1_0': 'GCCGA',\n",
       " '@NZ_CP021034.1_1': 'AGCCG',\n",
       " '@NZ_CP021034.1_2': 'CGATC',\n",
       " '@NZ_CP021034.1_3': 'TGTCC',\n",
       " '@NZ_CP086349.1_0': 'GACCG',\n",
       " '@NZ_CP086349.1_1': 'TCGCC'}"
      ]
     },
     "execution_count": 25,
     "metadata": {},
     "output_type": "execute_result"
    }
   ],
   "source": [
    "dicc_reads"
   ]
  },
  {
   "cell_type": "code",
   "execution_count": null,
   "metadata": {},
   "outputs": [],
   "source": [
    "# funcion para simular la calidad"
   ]
  },
  {
   "cell_type": "code",
   "execution_count": null,
   "metadata": {},
   "outputs": [],
   "source": []
  },
  {
   "cell_type": "markdown",
   "metadata": {},
   "source": [
    "La ultima función toma el diccionario de reads creado por la anterior funcion, y lo guarda en un archivo `.fastq` , creando una calidad para cada read."
   ]
  },
  {
   "cell_type": "code",
   "execution_count": 26,
   "metadata": {},
   "outputs": [],
   "source": [
    "# funcion de creacion archivo .fastq por cada genoma\n",
    "def crea_fastq(dicc_reads,dicc_reads_reverse,n_length,file_name):\n",
    "    file = open(file_name+'_R1.fastq','wt') \n",
    "    for key in dicc_reads: \n",
    "        file.write(str(key))\n",
    "        file.write(str('\\n'))\n",
    "        file.write(str(dicc_reads[key]))\n",
    "        file.write(str('\\n'))\n",
    "        file.write(str('+'))\n",
    "        file.write(str('\\n'))\n",
    "        file.write(str('A'*n_length)) #calidad\n",
    "        file.write(str('\\n'))     \n",
    "    # agrega el reverso complementario  \n",
    "    file = open(file_name+'_R2.fastq','wt')\n",
    "    for key in dicc_reads_reverse: \n",
    "        file.write(str(key))\n",
    "        file.write(str('\\n'))\n",
    "        file.write(str(dicc_reads_reverse[key]))\n",
    "        file.write(str('\\n'))\n",
    "        file.write(str('+'))\n",
    "        file.write(str('\\n'))\n",
    "        file.write(str('A'*n_length)) #calidad\n",
    "        file.write(str('\\n'))  \n",
    "    file.close()    "
   ]
  },
  {
   "cell_type": "code",
   "execution_count": 27,
   "metadata": {},
   "outputs": [],
   "source": [
    "crea_fastq(dicc_reads,dicc_reads_reverse,10,\"prueba\")"
   ]
  },
  {
   "cell_type": "markdown",
   "metadata": {},
   "source": [
    "probar con archivos comprimidos .gzip"
   ]
  },
  {
   "cell_type": "code",
   "execution_count": 28,
   "metadata": {},
   "outputs": [],
   "source": [
    "# funcion de creacion archivo .fastq.gz por cada genoma\n",
    "def crea_fastqz(dicc_reads,dicc_reads_reverse,n_length,file_name):\n",
    "    file = gzip.open(file_name+'_R1.fastq.gz','wt')\n",
    "    for key in dicc_reads: \n",
    "        file.write(str(key))\n",
    "        file.write(str('\\n'))\n",
    "        file.write(str(dicc_reads[key]))\n",
    "        file.write(str('\\n'))\n",
    "        file.write(str('+'))\n",
    "        file.write(str('\\n'))\n",
    "        file.write(str('A'*n_length)) #calidad\n",
    "        file.write(str('\\n'))     \n",
    "    # agrega el reverso complementario  \n",
    "    file = open(file_name+'_R2.fastq.gz','wt')\n",
    "    for key in dicc_reads_reverse: \n",
    "        file.write(str(key))\n",
    "        file.write(str('\\n'))\n",
    "        file.write(str(dicc_reads_reverse[key]))\n",
    "        file.write(str('\\n'))\n",
    "        file.write(str('+'))\n",
    "        file.write(str('\\n'))\n",
    "        file.write(str('A'*n_length)) #calidad\n",
    "        file.write(str('\\n'))  \n",
    "    file.close()"
   ]
  },
  {
   "cell_type": "code",
   "execution_count": 32,
   "metadata": {},
   "outputs": [],
   "source": [
    "crea_fastqz(dicc_reads,dicc_reads_reverse,10,\"prueba\")"
   ]
  },
  {
   "cell_type": "code",
   "execution_count": null,
   "metadata": {},
   "outputs": [],
   "source": []
  },
  {
   "cell_type": "markdown",
   "metadata": {},
   "source": [
    "y aplicando lo visto en clase sobre lectura de arhivos, e iteracion sobre cada uno de ellos."
   ]
  },
  {
   "cell_type": "code",
   "execution_count": null,
   "metadata": {},
   "outputs": [],
   "source": []
  },
  {
   "cell_type": "code",
   "execution_count": 39,
   "metadata": {},
   "outputs": [],
   "source": [
    "# Funcion para la lectura de los nombres de los todos los archivos de genomas\n",
    "# toma la ruta de la carpeta donde estan los genomas, y crea un listado de los nombres de los archivos\n",
    "# para poder realizar la lectura de los mismos.\n",
    "path = '/home/csilva/GIT/Tesis_Maestria/Data/Clavibacter/all-c-genomes(cortados)'\n",
    "contenido = os.listdir(path)\n",
    "genomes = []\n",
    "for i in contenido:\n",
    "    if os.path.isfile(os.path.join(path,i)) and i.endswith('.fna'):\n",
    "        genomes.append(i)\n",
    "n = len(genomes) # número de genomas (número de archivos)\n",
    "diccionario_reads_metagenoma = {}\n",
    "    "
   ]
  },
  {
   "cell_type": "code",
   "execution_count": 40,
   "metadata": {},
   "outputs": [
    {
     "data": {
      "text/plain": [
       "'/home/csilva/GIT/Tesis_Maestria/Data/Clavibacter/all-c-genomes(cortados)'"
      ]
     },
     "execution_count": 40,
     "metadata": {},
     "output_type": "execute_result"
    }
   ],
   "source": [
    "path"
   ]
  },
  {
   "cell_type": "code",
   "execution_count": 41,
   "metadata": {},
   "outputs": [
    {
     "data": {
      "text/plain": [
       "['Clavibacter_michiganensis_subsp_nebraskensis_7580.fna-cortado.fna',\n",
       " 'Clavibacter_michiganensis_subsp_insidiosus_LMG_3663.fna-cortado.fna',\n",
       " 'Clavibacter_michiganensis_subsp_capsici_1207.fna-cortado.fna',\n",
       " 'Clavibacter_michiganensis_subsp_nebraskensis_DOAB_397.fna-cortado.fna',\n",
       " 'Clavibacter_michiganensis_subsp_insidiosus_ATCC_10253.fna-cortado.fna',\n",
       " 'Clavibacter_michiganensis_subsp_insidiosus_R1-1.fna-cortado.fna',\n",
       " 'Clavibacter_michiganensis_subsp_tessellarius_DOAB_609.fna-cortado.fna',\n",
       " 'Clavibacter_michiganensis_subsp_nebraskensis_A6096.fna-cortado.fna',\n",
       " 'GenomaPrueba.fna',\n",
       " 'Clavibacter_michiganensis_subsp_nebraskensis_SL1.fna-cortado.fna',\n",
       " 'Clavibacter_michiganensis_subsp_nebraskensis_44.fna-cortado.fna',\n",
       " 'Clavibacter_michiganensis_subsp_insidiosus_CFBP_2404.fna-cortado.fna',\n",
       " 'Clavibacter_michiganensis_subsp_nebraskensis_HF4.fna-cortado.fna',\n",
       " 'Clavibacter_michiganensis_subsp_tessellarius_ATCC_33566.fna-cortado.fna',\n",
       " 'Clavibacter_michiganensis_subsp_sepedonicus_CFIA-Cs3N.fna-cortado.fna',\n",
       " 'Clavibacter_michiganensis_subsp_nebraskensis_DOAB_395.fna-cortado.fna',\n",
       " 'Clavibacter_michiganensis_subsp_capsici_1101.fna-cortado.fna',\n",
       " 'Clavibacter_michiganensis_subsp_nebraskensis_61-1.fna-cortado.fna',\n",
       " 'Clavibacter_michiganensis_subsp_nebraskensis_CIBA.fna-cortado.fna',\n",
       " 'Clavibacter_michiganensis_subsp_insidiosus_CFBP_6488.fna-cortado.fna',\n",
       " 'Clavibacter_michiganensis_subsp_capsici_1106.fna-cortado.fna',\n",
       " 'Clavibacter_michiganensis_subsp_nebraskensis_419B.fna-cortado.fna',\n",
       " 'Clavibacter_michiganensis_subsp_sepedonicus_ATCC33113.fna-cortado.fna',\n",
       " 'Clavibacter_michiganensis_subsp_capsici_PF008.fna-cortado.fna',\n",
       " 'Clavibacter_michiganensis_subsp_sepedonicus_CFIA-CsR14.fna-cortado.fna',\n",
       " 'Clavibacter_michiganensis_subsp_insidiosus_CFBP_1195.fna-cortado.fna',\n",
       " 'Clavibacter_michiganensis_subsp_nebraskensis_CFBP_7577.fna-cortado.fna',\n",
       " 'Clavibacter_michiganensis_subsp_insidiosus_R1-3.fna-cortado.fna',\n",
       " 'Clavibacter_michiganensis_subsp_nebraskensis_NCPPB_2581.fna-cortado.fna']"
      ]
     },
     "execution_count": 41,
     "metadata": {},
     "output_type": "execute_result"
    }
   ],
   "source": [
    "genomes"
   ]
  },
  {
   "cell_type": "code",
   "execution_count": null,
   "metadata": {},
   "outputs": [],
   "source": []
  },
  {
   "cell_type": "markdown",
   "metadata": {},
   "source": [
    "Funcion para leer los genomas en una carpeta"
   ]
  },
  {
   "cell_type": "code",
   "execution_count": 81,
   "metadata": {},
   "outputs": [],
   "source": [
    "# Con esta funcion queremos llamar a las funciones de la clase,para todos los archivos en la lista 'genomes'\n",
    "\n",
    "\n",
    "### DEBE LEER UNA LISTA DE GENOMAS Y HACER TODO EL PROCESO PARA VARIOS ARCHIVOS  \n",
    "def todo_A(genomes,longitud_read,num_reads,file_name):\n",
    "    for i,x in enumerate(genomes):\n",
    "        dicc_contigs = lectura_genoma(path + genomes[i])\n",
    "        dicc_longitudes,num_contigs,long_total = cuenta_contigs(dicc_contigs)\n",
    "        dicc_proporciones = proporcion_contigs(dicc_contigs,dicc_longitudes,long_total)\n",
    "        dicc_reads,dicc_reads_reverso = reads(dicc_contigs,dicc_longitudes,dicc_proporciones,longitud_read,num_reads)\n",
    "        crea_fastq(dicc_reads,dicc_reads_reverso,longitud_read,file_name)\n",
    "    "
   ]
  },
  {
   "cell_type": "code",
   "execution_count": 82,
   "metadata": {
    "tags": []
   },
   "outputs": [],
   "source": [
    "#todo_A(genomes,150, 5,'prueba.fastq')"
   ]
  },
  {
   "cell_type": "code",
   "execution_count": null,
   "metadata": {},
   "outputs": [],
   "source": []
  },
  {
   "cell_type": "markdown",
   "metadata": {},
   "source": [
    "Funcion para leer los genomas en una carpeta por medio de un archivo .csv, en donde se encuentra lainformacion necesaria "
   ]
  },
  {
   "cell_type": "code",
   "execution_count": 29,
   "metadata": {},
   "outputs": [],
   "source": [
    "path = '/home/csilva/GIT/Tesis_Maestria/Data/ReadsFonty/cut_head/'\n",
    "def todo(genomes, longitud_read,num_reads,name):\n",
    "    dicc_contigs = lectura_genoma(path + genomes)\n",
    "    dicc_longitudes,num_contigs,long_total = cuenta_contigs(dicc_contigs)\n",
    "    dicc_proporciones = proporcion_contigs(dicc_contigs,dicc_longitudes,long_total)\n",
    "    dicc_reads,dicc_reads_reverse = reads(dicc_contigs,dicc_longitudes,dicc_proporciones,longitud_read,num_reads)\n",
    "    crea_fastq(dicc_reads,dicc_reads_reverse,longitud_read,name)\n",
    "    "
   ]
  },
  {
   "cell_type": "code",
   "execution_count": 30,
   "metadata": {},
   "outputs": [
    {
     "data": {
      "text/html": [
       "<div>\n",
       "<style scoped>\n",
       "    .dataframe tbody tr th:only-of-type {\n",
       "        vertical-align: middle;\n",
       "    }\n",
       "\n",
       "    .dataframe tbody tr th {\n",
       "        vertical-align: top;\n",
       "    }\n",
       "\n",
       "    .dataframe thead th {\n",
       "        text-align: right;\n",
       "    }\n",
       "</style>\n",
       "<table border=\"1\" class=\"dataframe\">\n",
       "  <thead>\n",
       "    <tr style=\"text-align: right;\">\n",
       "      <th></th>\n",
       "      <th>#Organism_Name</th>\n",
       "      <th>Assembly</th>\n",
       "      <th>porcentaje</th>\n",
       "      <th>num_reads</th>\n",
       "      <th>Name_file</th>\n",
       "    </tr>\n",
       "  </thead>\n",
       "  <tbody>\n",
       "    <tr>\n",
       "      <th>0</th>\n",
       "      <td>Listeria monocytogenes</td>\n",
       "      <td>GCA_018604225.1</td>\n",
       "      <td>0,12</td>\n",
       "      <td>1200000</td>\n",
       "      <td>GCF_018604225.1_ASM1860422v1_genomic.fna</td>\n",
       "    </tr>\n",
       "    <tr>\n",
       "      <th>1</th>\n",
       "      <td>Pseudomonas aeruginosa</td>\n",
       "      <td>GCA_013201115.1</td>\n",
       "      <td>0,12</td>\n",
       "      <td>1200000</td>\n",
       "      <td>GCF_013201115.1_ASM1320111v1_genomic.fna</td>\n",
       "    </tr>\n",
       "    <tr>\n",
       "      <th>2</th>\n",
       "      <td>Bacillus subtilis BEST7613</td>\n",
       "      <td>GCA_000328745.1</td>\n",
       "      <td>0,12</td>\n",
       "      <td>1200000</td>\n",
       "      <td>GCA_000328745.1_ASM32874v1_genomic.fna</td>\n",
       "    </tr>\n",
       "    <tr>\n",
       "      <th>3</th>\n",
       "      <td>Escherichia coli O157</td>\n",
       "      <td>GCA_001650295.1</td>\n",
       "      <td>0,12</td>\n",
       "      <td>1200000</td>\n",
       "      <td>GCF_001650295.1_ASM165029v1_genomic.fna</td>\n",
       "    </tr>\n",
       "    <tr>\n",
       "      <th>4</th>\n",
       "      <td>Salmonella enterica</td>\n",
       "      <td>GCA_024364905.1</td>\n",
       "      <td>0,12</td>\n",
       "      <td>1200000</td>\n",
       "      <td>GCF_024364905.1_ASM2436490v1_genomic.fna</td>\n",
       "    </tr>\n",
       "    <tr>\n",
       "      <th>5</th>\n",
       "      <td>Limosilactobacillus fermentum</td>\n",
       "      <td>GCA_022819245.1</td>\n",
       "      <td>0,12</td>\n",
       "      <td>1200000</td>\n",
       "      <td>GCF_022819245.1_ASM2281924v1_genomic.fna</td>\n",
       "    </tr>\n",
       "    <tr>\n",
       "      <th>6</th>\n",
       "      <td>Enterococcus faecalis</td>\n",
       "      <td>GCA_006494835.1</td>\n",
       "      <td>0,12</td>\n",
       "      <td>1200000</td>\n",
       "      <td>GCF_006494835.1_ASM649483v1_genomic.fna</td>\n",
       "    </tr>\n",
       "    <tr>\n",
       "      <th>7</th>\n",
       "      <td>Staphylococcus aureus</td>\n",
       "      <td>GCA_002895385.1</td>\n",
       "      <td>0,12</td>\n",
       "      <td>1200000</td>\n",
       "      <td>GCF_002895385.1_ASM289538v1_genomic.fna</td>\n",
       "    </tr>\n",
       "    <tr>\n",
       "      <th>8</th>\n",
       "      <td>Saccharomyces cerevisiae</td>\n",
       "      <td>GCA_021172205.1</td>\n",
       "      <td>0,02</td>\n",
       "      <td>200000</td>\n",
       "      <td>GCA_021172205.1_ASM2117220v1_genomic.fna</td>\n",
       "    </tr>\n",
       "    <tr>\n",
       "      <th>9</th>\n",
       "      <td>Cryptococcus neoformans</td>\n",
       "      <td>GCA_023650535.1</td>\n",
       "      <td>0,02</td>\n",
       "      <td>200000</td>\n",
       "      <td>GCA_023650535.1_ASM2365053v1_genomic.fna</td>\n",
       "    </tr>\n",
       "  </tbody>\n",
       "</table>\n",
       "</div>"
      ],
      "text/plain": [
       "                  #Organism_Name         Assembly porcentaje  num_reads  \\\n",
       "0         Listeria monocytogenes  GCA_018604225.1       0,12    1200000   \n",
       "1         Pseudomonas aeruginosa  GCA_013201115.1       0,12    1200000   \n",
       "2     Bacillus subtilis BEST7613  GCA_000328745.1       0,12    1200000   \n",
       "3          Escherichia coli O157  GCA_001650295.1       0,12    1200000   \n",
       "4            Salmonella enterica  GCA_024364905.1       0,12    1200000   \n",
       "5  Limosilactobacillus fermentum  GCA_022819245.1       0,12    1200000   \n",
       "6          Enterococcus faecalis  GCA_006494835.1       0,12    1200000   \n",
       "7          Staphylococcus aureus  GCA_002895385.1       0,12    1200000   \n",
       "8       Saccharomyces cerevisiae  GCA_021172205.1       0,02     200000   \n",
       "9        Cryptococcus neoformans  GCA_023650535.1       0,02     200000   \n",
       "\n",
       "                                  Name_file  \n",
       "0  GCF_018604225.1_ASM1860422v1_genomic.fna  \n",
       "1  GCF_013201115.1_ASM1320111v1_genomic.fna  \n",
       "2    GCA_000328745.1_ASM32874v1_genomic.fna  \n",
       "3   GCF_001650295.1_ASM165029v1_genomic.fna  \n",
       "4  GCF_024364905.1_ASM2436490v1_genomic.fna  \n",
       "5  GCF_022819245.1_ASM2281924v1_genomic.fna  \n",
       "6   GCF_006494835.1_ASM649483v1_genomic.fna  \n",
       "7   GCF_002895385.1_ASM289538v1_genomic.fna  \n",
       "8  GCA_021172205.1_ASM2117220v1_genomic.fna  \n",
       "9  GCA_023650535.1_ASM2365053v1_genomic.fna  "
      ]
     },
     "execution_count": 30,
     "metadata": {},
     "output_type": "execute_result"
    }
   ],
   "source": [
    "dp = pd.read_csv(path + 'table.txt', sep='\\t')\n",
    "dp"
   ]
  },
  {
   "cell_type": "code",
   "execution_count": 41,
   "metadata": {
    "tags": []
   },
   "outputs": [
    {
     "ename": "ValueError",
     "evalue": "empty range for randrange() (1, -20, -21)",
     "output_type": "error",
     "traceback": [
      "\u001b[0;31m---------------------------------------------------------------------------\u001b[0m",
      "\u001b[0;31mValueError\u001b[0m                                Traceback (most recent call last)",
      "Cell \u001b[0;32mIn [41], line 3\u001b[0m\n\u001b[1;32m      1\u001b[0m \u001b[38;5;66;03m# LEE LOS GENOMAS DE UN OBJETO PANDAS JUNTO CON LOS NOMBRES Y LA CANTIDAD DE READS POR PORCENTAJES\u001b[39;00m\n\u001b[1;32m      2\u001b[0m \u001b[38;5;28;01mfor\u001b[39;00m i \u001b[38;5;129;01min\u001b[39;00m \u001b[38;5;28mrange\u001b[39m(\u001b[38;5;28mlen\u001b[39m(dp\u001b[38;5;241m.\u001b[39miloc[:,\u001b[38;5;241m4\u001b[39m])):\n\u001b[0;32m----> 3\u001b[0m     \u001b[43mtodo\u001b[49m\u001b[43m(\u001b[49m\u001b[43mdp\u001b[49m\u001b[38;5;241;43m.\u001b[39;49m\u001b[43miloc\u001b[49m\u001b[43m[\u001b[49m\u001b[43mi\u001b[49m\u001b[43m,\u001b[49m\u001b[38;5;241;43m4\u001b[39;49m\u001b[43m]\u001b[49m\u001b[43m,\u001b[49m\u001b[38;5;241;43m150\u001b[39;49m\u001b[43m,\u001b[49m\u001b[43mdp\u001b[49m\u001b[38;5;241;43m.\u001b[39;49m\u001b[43miloc\u001b[49m\u001b[43m[\u001b[49m\u001b[43mi\u001b[49m\u001b[43m,\u001b[49m\u001b[38;5;241;43m3\u001b[39;49m\u001b[43m]\u001b[49m\u001b[43m,\u001b[49m\u001b[43mdp\u001b[49m\u001b[38;5;241;43m.\u001b[39;49m\u001b[43miloc\u001b[49m\u001b[43m[\u001b[49m\u001b[43mi\u001b[49m\u001b[43m,\u001b[49m\u001b[38;5;241;43m1\u001b[39;49m\u001b[43m]\u001b[49m\u001b[43m)\u001b[49m\n",
      "Cell \u001b[0;32mIn [29], line 6\u001b[0m, in \u001b[0;36mtodo\u001b[0;34m(genomes, longitud_read, num_reads, name)\u001b[0m\n\u001b[1;32m      4\u001b[0m dicc_longitudes,num_contigs,long_total \u001b[38;5;241m=\u001b[39m cuenta_contigs(dicc_contigs)\n\u001b[1;32m      5\u001b[0m dicc_proporciones \u001b[38;5;241m=\u001b[39m proporcion_contigs(dicc_contigs,dicc_longitudes,long_total)\n\u001b[0;32m----> 6\u001b[0m dicc_reads,dicc_reads_reverse \u001b[38;5;241m=\u001b[39m \u001b[43mreads\u001b[49m\u001b[43m(\u001b[49m\u001b[43mdicc_contigs\u001b[49m\u001b[43m,\u001b[49m\u001b[43mdicc_longitudes\u001b[49m\u001b[43m,\u001b[49m\u001b[43mdicc_proporciones\u001b[49m\u001b[43m,\u001b[49m\u001b[43mlongitud_read\u001b[49m\u001b[43m,\u001b[49m\u001b[43mnum_reads\u001b[49m\u001b[43m)\u001b[49m\n\u001b[1;32m      7\u001b[0m crea_fastq(dicc_reads,dicc_reads_reverse,longitud_read,name)\n",
      "Cell \u001b[0;32mIn [22], line 26\u001b[0m, in \u001b[0;36mreads\u001b[0;34m(dicc_contigs, dicc_longitudes, dicc_proporciones, n_length, num_reads_total)\u001b[0m\n\u001b[1;32m     24\u001b[0m \u001b[38;5;28;01mfor\u001b[39;00m kk \u001b[38;5;129;01min\u001b[39;00m \u001b[38;5;28mrange\u001b[39m(num_reads_contig): \n\u001b[1;32m     25\u001b[0m     newkey \u001b[38;5;241m=\u001b[39m key \u001b[38;5;241m+\u001b[39m \u001b[38;5;124m'\u001b[39m\u001b[38;5;124m_\u001b[39m\u001b[38;5;124m'\u001b[39m \u001b[38;5;241m+\u001b[39m \u001b[38;5;28mstr\u001b[39m(kk) \u001b[38;5;66;03m# identificador de contig, con el numero de read\u001b[39;00m\n\u001b[0;32m---> 26\u001b[0m     i \u001b[38;5;241m=\u001b[39m \u001b[43mrandint\u001b[49m\u001b[43m(\u001b[49m\u001b[38;5;241;43m1\u001b[39;49m\u001b[43m,\u001b[49m\u001b[43m(\u001b[49m\u001b[38;5;28;43mlen\u001b[39;49m\u001b[43m(\u001b[49m\u001b[43mcontig\u001b[49m\u001b[43m)\u001b[49m\u001b[38;5;241;43m-\u001b[39;49m\u001b[43mn_length\u001b[49m\u001b[38;5;241;43m-\u001b[39;49m\u001b[43minserto\u001b[49m\u001b[38;5;241;43m-\u001b[39;49m\u001b[38;5;241;43m1\u001b[39;49m\u001b[43m)\u001b[49m\u001b[43m)\u001b[49m \u001b[38;5;66;03m# toma una pocision de inicio al azar se debe tener en cuenta el inserto)\u001b[39;00m\n\u001b[1;32m     27\u001b[0m     dicc_reads[newkey] \u001b[38;5;241m=\u001b[39m cutout(contig,i,n_length) \u001b[38;5;66;03m# para el contig dado anteriormente, se corta desde la pocision i de lonjitud ln\u001b[39;00m\n\u001b[1;32m     28\u001b[0m     dicc_reads_reverse[newkey] \u001b[38;5;241m=\u001b[39m reverso_complementario(contig,i,n_length,inserto)\u001b[38;5;66;03m# reverso complementario\u001b[39;00m\n",
      "File \u001b[0;32m/usr/lib/python3.10/random.py:370\u001b[0m, in \u001b[0;36mRandom.randint\u001b[0;34m(self, a, b)\u001b[0m\n\u001b[1;32m    366\u001b[0m \u001b[38;5;28;01mdef\u001b[39;00m \u001b[38;5;21mrandint\u001b[39m(\u001b[38;5;28mself\u001b[39m, a, b):\n\u001b[1;32m    367\u001b[0m     \u001b[38;5;124;03m\"\"\"Return random integer in range [a, b], including both end points.\u001b[39;00m\n\u001b[1;32m    368\u001b[0m \u001b[38;5;124;03m    \"\"\"\u001b[39;00m\n\u001b[0;32m--> 370\u001b[0m     \u001b[38;5;28;01mreturn\u001b[39;00m \u001b[38;5;28;43mself\u001b[39;49m\u001b[38;5;241;43m.\u001b[39;49m\u001b[43mrandrange\u001b[49m\u001b[43m(\u001b[49m\u001b[43ma\u001b[49m\u001b[43m,\u001b[49m\u001b[43m \u001b[49m\u001b[43mb\u001b[49m\u001b[38;5;241;43m+\u001b[39;49m\u001b[38;5;241;43m1\u001b[39;49m\u001b[43m)\u001b[49m\n",
      "File \u001b[0;32m/usr/lib/python3.10/random.py:353\u001b[0m, in \u001b[0;36mRandom.randrange\u001b[0;34m(self, start, stop, step)\u001b[0m\n\u001b[1;32m    351\u001b[0m     \u001b[38;5;28;01mif\u001b[39;00m width \u001b[38;5;241m>\u001b[39m \u001b[38;5;241m0\u001b[39m:\n\u001b[1;32m    352\u001b[0m         \u001b[38;5;28;01mreturn\u001b[39;00m istart \u001b[38;5;241m+\u001b[39m \u001b[38;5;28mself\u001b[39m\u001b[38;5;241m.\u001b[39m_randbelow(width)\n\u001b[0;32m--> 353\u001b[0m     \u001b[38;5;28;01mraise\u001b[39;00m \u001b[38;5;167;01mValueError\u001b[39;00m(\u001b[38;5;124m\"\u001b[39m\u001b[38;5;124mempty range for randrange() (\u001b[39m\u001b[38;5;132;01m%d\u001b[39;00m\u001b[38;5;124m, \u001b[39m\u001b[38;5;132;01m%d\u001b[39;00m\u001b[38;5;124m, \u001b[39m\u001b[38;5;132;01m%d\u001b[39;00m\u001b[38;5;124m)\u001b[39m\u001b[38;5;124m\"\u001b[39m \u001b[38;5;241m%\u001b[39m (istart, istop, width))\n\u001b[1;32m    355\u001b[0m \u001b[38;5;66;03m# Non-unit step argument supplied.\u001b[39;00m\n\u001b[1;32m    356\u001b[0m \u001b[38;5;28;01mif\u001b[39;00m istep \u001b[38;5;241m>\u001b[39m \u001b[38;5;241m0\u001b[39m:\n",
      "\u001b[0;31mValueError\u001b[0m: empty range for randrange() (1, -20, -21)"
     ]
    }
   ],
   "source": [
    "# LEE LOS GENOMAS DE UN OBJETO PANDAS JUNTO CON LOS NOMBRES Y LA CANTIDAD DE READS POR PORCENTAJES\n",
    "for i in range(len(dp.iloc[:,4])):\n",
    "    todo(dp.iloc[i,4],150,dp.iloc[i,3],dp.iloc[i,1])"
   ]
  },
  {
   "cell_type": "code",
   "execution_count": 44,
   "metadata": {},
   "outputs": [
    {
     "data": {
      "text/plain": [
       "1200000"
      ]
     },
     "execution_count": 44,
     "metadata": {},
     "output_type": "execute_result"
    }
   ],
   "source": [
    "dp.iloc[0,3]"
   ]
  },
  {
   "cell_type": "code",
   "execution_count": 39,
   "metadata": {},
   "outputs": [
    {
     "data": {
      "text/plain": [
       "'GCA_018604225.1'"
      ]
     },
     "execution_count": 39,
     "metadata": {},
     "output_type": "execute_result"
    }
   ],
   "source": [
    "dp.iloc[0,1]"
   ]
  },
  {
   "cell_type": "code",
   "execution_count": 46,
   "metadata": {},
   "outputs": [
    {
     "ename": "ValueError",
     "evalue": "empty range for randrange() (1, -20, -21)",
     "output_type": "error",
     "traceback": [
      "\u001b[0;31m---------------------------------------------------------------------------\u001b[0m",
      "\u001b[0;31mValueError\u001b[0m                                Traceback (most recent call last)",
      "Cell \u001b[0;32mIn [46], line 1\u001b[0m\n\u001b[0;32m----> 1\u001b[0m \u001b[43mtodo\u001b[49m\u001b[43m(\u001b[49m\u001b[43mdp\u001b[49m\u001b[38;5;241;43m.\u001b[39;49m\u001b[43miloc\u001b[49m\u001b[43m[\u001b[49m\u001b[38;5;241;43m0\u001b[39;49m\u001b[43m,\u001b[49m\u001b[38;5;241;43m4\u001b[39;49m\u001b[43m]\u001b[49m\u001b[43m,\u001b[49m\u001b[38;5;241;43m150\u001b[39;49m\u001b[43m,\u001b[49m\u001b[43mdp\u001b[49m\u001b[38;5;241;43m.\u001b[39;49m\u001b[43miloc\u001b[49m\u001b[43m[\u001b[49m\u001b[38;5;241;43m0\u001b[39;49m\u001b[43m,\u001b[49m\u001b[38;5;241;43m3\u001b[39;49m\u001b[43m]\u001b[49m\u001b[43m,\u001b[49m\u001b[43mdp\u001b[49m\u001b[38;5;241;43m.\u001b[39;49m\u001b[43miloc\u001b[49m\u001b[43m[\u001b[49m\u001b[38;5;241;43m0\u001b[39;49m\u001b[43m,\u001b[49m\u001b[38;5;241;43m1\u001b[39;49m\u001b[43m]\u001b[49m\u001b[43m)\u001b[49m\n",
      "Cell \u001b[0;32mIn [29], line 6\u001b[0m, in \u001b[0;36mtodo\u001b[0;34m(genomes, longitud_read, num_reads, name)\u001b[0m\n\u001b[1;32m      4\u001b[0m dicc_longitudes,num_contigs,long_total \u001b[38;5;241m=\u001b[39m cuenta_contigs(dicc_contigs)\n\u001b[1;32m      5\u001b[0m dicc_proporciones \u001b[38;5;241m=\u001b[39m proporcion_contigs(dicc_contigs,dicc_longitudes,long_total)\n\u001b[0;32m----> 6\u001b[0m dicc_reads,dicc_reads_reverse \u001b[38;5;241m=\u001b[39m \u001b[43mreads\u001b[49m\u001b[43m(\u001b[49m\u001b[43mdicc_contigs\u001b[49m\u001b[43m,\u001b[49m\u001b[43mdicc_longitudes\u001b[49m\u001b[43m,\u001b[49m\u001b[43mdicc_proporciones\u001b[49m\u001b[43m,\u001b[49m\u001b[43mlongitud_read\u001b[49m\u001b[43m,\u001b[49m\u001b[43mnum_reads\u001b[49m\u001b[43m)\u001b[49m\n\u001b[1;32m      7\u001b[0m crea_fastq(dicc_reads,dicc_reads_reverse,longitud_read,name)\n",
      "Cell \u001b[0;32mIn [45], line 19\u001b[0m, in \u001b[0;36mreads\u001b[0;34m(dicc_contigs, dicc_longitudes, dicc_proporciones, n_length, num_reads_total)\u001b[0m\n\u001b[1;32m     17\u001b[0m \u001b[38;5;28;01mfor\u001b[39;00m kk \u001b[38;5;129;01min\u001b[39;00m \u001b[38;5;28mrange\u001b[39m(num_reads_contig): \n\u001b[1;32m     18\u001b[0m     newkey \u001b[38;5;241m=\u001b[39m key \u001b[38;5;241m+\u001b[39m \u001b[38;5;124m'\u001b[39m\u001b[38;5;124m_\u001b[39m\u001b[38;5;124m'\u001b[39m \u001b[38;5;241m+\u001b[39m \u001b[38;5;28mstr\u001b[39m(kk) \u001b[38;5;66;03m# identificador de contig, con el numero de read\u001b[39;00m\n\u001b[0;32m---> 19\u001b[0m     i \u001b[38;5;241m=\u001b[39m \u001b[43mrandint\u001b[49m\u001b[43m(\u001b[49m\u001b[38;5;241;43m1\u001b[39;49m\u001b[43m,\u001b[49m\u001b[43m(\u001b[49m\u001b[38;5;28;43mlen\u001b[39;49m\u001b[43m(\u001b[49m\u001b[43mcontig\u001b[49m\u001b[43m)\u001b[49m\u001b[38;5;241;43m-\u001b[39;49m\u001b[43mn_length\u001b[49m\u001b[38;5;241;43m-\u001b[39;49m\u001b[43minserto\u001b[49m\u001b[38;5;241;43m-\u001b[39;49m\u001b[38;5;241;43m1\u001b[39;49m\u001b[43m)\u001b[49m\u001b[43m)\u001b[49m \u001b[38;5;66;03m# toma una pocision de inicio al azar se debe tener en cuenta el inserto)\u001b[39;00m\n\u001b[1;32m     20\u001b[0m     dicc_reads[newkey] \u001b[38;5;241m=\u001b[39m cutout(contig,i,n_length) \u001b[38;5;66;03m# para el contig dado anteriormente, se corta desde la pocision i de lonjitud ln\u001b[39;00m\n\u001b[1;32m     21\u001b[0m     dicc_reads_reverse[newkey] \u001b[38;5;241m=\u001b[39m reverso_complementario(contig,i,n_length,inserto)\u001b[38;5;66;03m# reverso complementario\u001b[39;00m\n",
      "File \u001b[0;32m/usr/lib/python3.10/random.py:370\u001b[0m, in \u001b[0;36mRandom.randint\u001b[0;34m(self, a, b)\u001b[0m\n\u001b[1;32m    366\u001b[0m \u001b[38;5;28;01mdef\u001b[39;00m \u001b[38;5;21mrandint\u001b[39m(\u001b[38;5;28mself\u001b[39m, a, b):\n\u001b[1;32m    367\u001b[0m     \u001b[38;5;124;03m\"\"\"Return random integer in range [a, b], including both end points.\u001b[39;00m\n\u001b[1;32m    368\u001b[0m \u001b[38;5;124;03m    \"\"\"\u001b[39;00m\n\u001b[0;32m--> 370\u001b[0m     \u001b[38;5;28;01mreturn\u001b[39;00m \u001b[38;5;28;43mself\u001b[39;49m\u001b[38;5;241;43m.\u001b[39;49m\u001b[43mrandrange\u001b[49m\u001b[43m(\u001b[49m\u001b[43ma\u001b[49m\u001b[43m,\u001b[49m\u001b[43m \u001b[49m\u001b[43mb\u001b[49m\u001b[38;5;241;43m+\u001b[39;49m\u001b[38;5;241;43m1\u001b[39;49m\u001b[43m)\u001b[49m\n",
      "File \u001b[0;32m/usr/lib/python3.10/random.py:353\u001b[0m, in \u001b[0;36mRandom.randrange\u001b[0;34m(self, start, stop, step)\u001b[0m\n\u001b[1;32m    351\u001b[0m     \u001b[38;5;28;01mif\u001b[39;00m width \u001b[38;5;241m>\u001b[39m \u001b[38;5;241m0\u001b[39m:\n\u001b[1;32m    352\u001b[0m         \u001b[38;5;28;01mreturn\u001b[39;00m istart \u001b[38;5;241m+\u001b[39m \u001b[38;5;28mself\u001b[39m\u001b[38;5;241m.\u001b[39m_randbelow(width)\n\u001b[0;32m--> 353\u001b[0m     \u001b[38;5;28;01mraise\u001b[39;00m \u001b[38;5;167;01mValueError\u001b[39;00m(\u001b[38;5;124m\"\u001b[39m\u001b[38;5;124mempty range for randrange() (\u001b[39m\u001b[38;5;132;01m%d\u001b[39;00m\u001b[38;5;124m, \u001b[39m\u001b[38;5;132;01m%d\u001b[39;00m\u001b[38;5;124m, \u001b[39m\u001b[38;5;132;01m%d\u001b[39;00m\u001b[38;5;124m)\u001b[39m\u001b[38;5;124m\"\u001b[39m \u001b[38;5;241m%\u001b[39m (istart, istop, width))\n\u001b[1;32m    355\u001b[0m \u001b[38;5;66;03m# Non-unit step argument supplied.\u001b[39;00m\n\u001b[1;32m    356\u001b[0m \u001b[38;5;28;01mif\u001b[39;00m istep \u001b[38;5;241m>\u001b[39m \u001b[38;5;241m0\u001b[39m:\n",
      "\u001b[0;31mValueError\u001b[0m: empty range for randrange() (1, -20, -21)"
     ]
    }
   ],
   "source": [
    " todo(dp.iloc[0,4],150,dp.iloc[0,3],dp.iloc[0,1])"
   ]
  },
  {
   "cell_type": "code",
   "execution_count": null,
   "metadata": {},
   "outputs": [],
   "source": []
  },
  {
   "cell_type": "code",
   "execution_count": null,
   "metadata": {},
   "outputs": [],
   "source": []
  },
  {
   "cell_type": "code",
   "execution_count": null,
   "metadata": {},
   "outputs": [],
   "source": []
  },
  {
   "cell_type": "code",
   "execution_count": null,
   "metadata": {},
   "outputs": [],
   "source": []
  },
  {
   "cell_type": "code",
   "execution_count": null,
   "metadata": {},
   "outputs": [],
   "source": []
  },
  {
   "cell_type": "markdown",
   "metadata": {},
   "source": [
    "Para Shaday:\n",
    "* 9 archivos  \n",
    "\n",
    "1. (3 de un solo genoma)\n",
    "    * 1.1\n",
    "        1. Clavibacter_michiganensis_subsp_capsici_PF008.fna-cortado.fna\n",
    "\n",
    "    * 1.2\n",
    "        1. Clavibacter_michiganensis_subsp_nebraskensis_CIBA.fna-cortado.fna\n",
    "\n",
    "    * 1.3\n",
    "        1. Clavibacter_michiganensis_subsp_sepedonicus_CFIA-Cs3N.fna-cortado.fna\n",
    "        \n",
    "2. (3 de 2) \n",
    "    * 2.1\n",
    "        1. Clavibacter_michiganensis_subsp_capsici_1106.fna-cortado.fna\n",
    "        2. Clavibacter_michiganensis_subsp_nebraskensis_7580.fna-cortado.fna\n",
    "        \n",
    "    * 2.2\n",
    "        1. Clavibacter_michiganensis_subsp_insidiosus_LMG_3663.fna-cortado.fna\n",
    "        2. Clavibacter_michiganensis_subsp_tessellarius_ATCC_33566.fna-cortado.fna\n",
    "        \n",
    "    * 2.3\n",
    "        1. Clavibacter_michiganensis_subsp_sepedonicus_ATCC33113.fna-cortado.fna\n",
    "        2. Clavibacter_michiganensis_subsp_tessellarius_ATCC_33566.fna-cortado\n",
    "\n",
    "3. (3 de 3)\n",
    "    * 3.1\n",
    "        1. Clavibacter_michiganensis_subsp_capsici_1101.fna-cortado.fna\n",
    "        2. Clavibacter_michiganensis_subsp_nebraskensis_CFBP_7577.fna-cortado.fna\n",
    "        3. Clavibacter_michiganensis_subsp_sepedonicus_CFIA-CsR14.fna-cortado.fna  \n",
    "        \n",
    "    * 3.2\n",
    "        1. Clavibacter_michiganensis_subsp_insidiosus_CFBP_6488.fna-cortado.fna\n",
    "        2. Clavibacter_michiganensis_subsp_sepedonicus_CFIA-CsR14.fna-cortado.fna   \n",
    "        3. Clavibacter_michiganensis_subsp_tessellarius_ATCC33113.fna-cortado.fna\n",
    "        \n",
    "    * 3.3\n",
    "        1. Clavibacter_michiganensis_subsp_insidiosus_CFBP_2404.fna-cortado.fna\n",
    "        2. Clavibacter_michiganensis_subsp_tessellarius_ATCC_33566.fna-cortado.fna\n",
    "        3. Clavibacter_michiganensis_subsp_sepedonicus_CFIA-CsR14.fna-cortado.fna  \n"
   ]
  },
  {
   "cell_type": "code",
   "execution_count": null,
   "metadata": {},
   "outputs": [],
   "source": [
    "# 3 listas con 1 genoma\n",
    "genomes11 = ['Clavibacter_michiganensis_subsp_capsici_PF008.fna-cortado.fna']\n",
    "genomes12 = ['Clavibacter_michiganensis_subsp_nebraskensis_CIBA.fna-cortado.fna']\n",
    "genomes13 = ['Clavibacter_michiganensis_subsp_sepedonicus_CFIA-Cs3N.fna-cortado.fna']\n",
    "# 3 listas con 2 genomas\n",
    "genomes21 = ['Clavibacter_michiganensis_subsp_capsici_1106.fna-cortado.fna','Clavibacter_michiganensis_subsp_nebraskensis_7580.fna-cortado.fna']\n",
    "genomes22 = ['Clavibacter_michiganensis_subsp_insidiosus_LMG_3663.fna-cortado.fna','Clavibacter_michiganensis_subsp_tessellarius_ATCC_33566.fna-cortado.fna']\n",
    "genomes23 = ['Clavibacter_michiganensis_subsp_sepedonicus_ATCC33113.fna-cortado.fna','Clavibacter_michiganensis_subsp_tessellarius_ATCC_33566.fna-cortado']\n",
    "# 3 listas con 3 genomas\n",
    "genomes31 = ['Clavibacter_michiganensis_subsp_capsici_1101.fna-cortado.fna','Clavibacter_michiganensis_subsp_nebraskensis_CFBP_7577.fna-cortado.fna','Clavibacter_michiganensis_subsp_sepedonicus_CFIA-CsR14.fna-cortado.fna']\n",
    "genomes32 = ['Clavibacter_michiganensis_subsp_insidiosus_CFBP_6488.fna-cortado.fna','Clavibacter_michiganensis_subsp_sepedonicus_CFIA-CsR14.fna-cortado.fna','Clavibacter_michiganensis_subsp_tessellarius_ATCC33113.fna-cortado.fna']\n",
    "genomes33 = ['Clavibacter_michiganensis_subsp_insidiosus_CFBP_2404.fna-cortado.fna','Clavibacter_michiganensis_subsp_tessellarius_ATCC_33566.fna-cortado.fna','Clavibacter_michiganensis_subsp_sepedonicus_CFIA-CsR14.fna-cortado.fna'] "
   ]
  },
  {
   "cell_type": "code",
   "execution_count": null,
   "metadata": {},
   "outputs": [],
   "source": []
  },
  {
   "cell_type": "code",
   "execution_count": null,
   "metadata": {},
   "outputs": [],
   "source": []
  },
  {
   "cell_type": "code",
   "execution_count": null,
   "metadata": {},
   "outputs": [],
   "source": []
  },
  {
   "cell_type": "code",
   "execution_count": null,
   "metadata": {},
   "outputs": [],
   "source": []
  }
 ],
 "metadata": {
  "kernelspec": {
   "display_name": "Python 3 (ipykernel)",
   "language": "python",
   "name": "python3"
  },
  "language_info": {
   "codemirror_mode": {
    "name": "ipython",
    "version": 3
   },
   "file_extension": ".py",
   "mimetype": "text/x-python",
   "name": "python",
   "nbconvert_exporter": "python",
   "pygments_lexer": "ipython3",
   "version": "3.10.6"
  }
 },
 "nbformat": 4,
 "nbformat_minor": 4
}
