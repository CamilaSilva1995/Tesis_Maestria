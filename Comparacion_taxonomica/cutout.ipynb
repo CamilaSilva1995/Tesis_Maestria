{
 "cells": [
  {
   "cell_type": "markdown",
   "id": "cd64b558",
   "metadata": {},
   "source": [
    "## Funcion para recortar reads"
   ]
  },
  {
   "cell_type": "code",
   "execution_count": 1,
   "id": "53d4811d",
   "metadata": {},
   "outputs": [],
   "source": [
    "# Funcion cutout(string a recortar, pocision de inicio, longitud del recorte)\n",
    "def cutout(read,i,n_length): \n",
    "    cropped_read = read[i:i+n_length]\n",
    "    return(cropped_read)"
   ]
  },
  {
   "cell_type": "code",
   "execution_count": 3,
   "id": "2cbcb3ef",
   "metadata": {},
   "outputs": [
    {
     "data": {
      "text/plain": [
       "'CCTCGGGCGT'"
      ]
     },
     "execution_count": 3,
     "metadata": {},
     "output_type": "execute_result"
    }
   ],
   "source": [
    "# ejemplo  \n",
    "cropped_read = cutout(\"CCGTTCCTCGGGCGTGCAGTCGGGCTTGCGGTCTGCCATGTCGTGTTCGGCGTCGGTGGTGCCGATCAGGGTGAAATCCGTCTCGTAGGGGATCGCGAAGATGATCCGCCCGTCCGTGCCCTGAAAGAAATAGCACTTGTCAGATCGGAAGAGCACACGTCTGAACTCCAGTCACCTCAGAATCTCGTATGCCGTCTTCTGCTTGAAAAAAAAAAAAGCAAACCTCTCACTCCCTCTACTCTACTCCCTT\",5,10)\n",
    "cropped_read"
   ]
  }
 ],
 "metadata": {
  "kernelspec": {
   "display_name": "Python 3",
   "language": "python",
   "name": "python3"
  },
  "language_info": {
   "codemirror_mode": {
    "name": "ipython",
    "version": 3
   },
   "file_extension": ".py",
   "mimetype": "text/x-python",
   "name": "python",
   "nbconvert_exporter": "python",
   "pygments_lexer": "ipython3",
   "version": "3.8.8"
  }
 },
 "nbformat": 4,
 "nbformat_minor": 5
}
