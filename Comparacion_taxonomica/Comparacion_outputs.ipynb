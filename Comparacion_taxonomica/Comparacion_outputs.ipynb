{
 "cells": [
  {
   "cell_type": "markdown",
   "id": "1d32eb06-8b84-466a-ac38-7de672066543",
   "metadata": {},
   "source": [
    "# Comparación outputs Kaiju - Kraken"
   ]
  },
  {
   "cell_type": "markdown",
   "id": "d1d19384-25fc-4c66-ab92-9f513925501a",
   "metadata": {},
   "source": [
    "## Leer salida de kaiju o kraken"
   ]
  },
  {
   "cell_type": "code",
   "execution_count": 21,
   "id": "990c01cc-221d-4a73-8e9a-24c16e8c6116",
   "metadata": {},
   "outputs": [],
   "source": [
    "import pandas as pd\n",
    "\n",
    "def read_file(f):\n",
    "    f = pd.read_csv(f, delimiter = '\\t', header = None)\n",
    "    if f.shape[1] == 3:\n",
    "        f.columns = [\"c-clasificado\", \"read\",\"taxon_kaiju\"]\n",
    "        f.drop(['c-clasificado'], axis=1, inplace = True)\n",
    "    else:\n",
    "        f.columns = [\"c-clasificado\", \"read\",\"taxon_kraken2\",\"1\",\"2\"]\n",
    "        f.drop(['c-clasificado','1','2'], axis=1, inplace = True)\n",
    "        \n",
    "    return f"
   ]
  },
  {
   "cell_type": "code",
   "execution_count": 23,
   "id": "d5a4fb1e-6181-47f5-baee-a59efb8226b3",
   "metadata": {},
   "outputs": [
    {
     "data": {
      "text/html": [
       "<div>\n",
       "<style scoped>\n",
       "    .dataframe tbody tr th:only-of-type {\n",
       "        vertical-align: middle;\n",
       "    }\n",
       "\n",
       "    .dataframe tbody tr th {\n",
       "        vertical-align: top;\n",
       "    }\n",
       "\n",
       "    .dataframe thead th {\n",
       "        text-align: right;\n",
       "    }\n",
       "</style>\n",
       "<table border=\"1\" class=\"dataframe\">\n",
       "  <thead>\n",
       "    <tr style=\"text-align: right;\">\n",
       "      <th></th>\n",
       "      <th>read</th>\n",
       "      <th>taxon_kaiju</th>\n",
       "    </tr>\n",
       "  </thead>\n",
       "  <tbody>\n",
       "    <tr>\n",
       "      <th>0</th>\n",
       "      <td>NB501110:123:H7C3WBGX7:1:11101:22148:1069</td>\n",
       "      <td>470934</td>\n",
       "    </tr>\n",
       "    <tr>\n",
       "      <th>1</th>\n",
       "      <td>NB501110:123:H7C3WBGX7:1:11101:12474:1085</td>\n",
       "      <td>69218</td>\n",
       "    </tr>\n",
       "    <tr>\n",
       "      <th>2</th>\n",
       "      <td>NB501110:123:H7C3WBGX7:1:11101:19868:1087</td>\n",
       "      <td>53335</td>\n",
       "    </tr>\n",
       "    <tr>\n",
       "      <th>3</th>\n",
       "      <td>NB501110:123:H7C3WBGX7:1:11101:10733:1094</td>\n",
       "      <td>69218</td>\n",
       "    </tr>\n",
       "    <tr>\n",
       "      <th>4</th>\n",
       "      <td>NB501110:123:H7C3WBGX7:1:11101:20523:1097</td>\n",
       "      <td>1224136</td>\n",
       "    </tr>\n",
       "    <tr>\n",
       "      <th>5</th>\n",
       "      <td>NB501110:123:H7C3WBGX7:1:11101:9448:1118</td>\n",
       "      <td>470934</td>\n",
       "    </tr>\n",
       "    <tr>\n",
       "      <th>6</th>\n",
       "      <td>NB501110:123:H7C3WBGX7:1:11101:21936:1120</td>\n",
       "      <td>428406</td>\n",
       "    </tr>\n",
       "    <tr>\n",
       "      <th>7</th>\n",
       "      <td>NB501110:123:H7C3WBGX7:1:11101:25518:1127</td>\n",
       "      <td>329</td>\n",
       "    </tr>\n",
       "    <tr>\n",
       "      <th>8</th>\n",
       "      <td>NB501110:123:H7C3WBGX7:1:11101:22286:1152</td>\n",
       "      <td>1312959</td>\n",
       "    </tr>\n",
       "    <tr>\n",
       "      <th>9</th>\n",
       "      <td>NB501110:123:H7C3WBGX7:1:11101:6718:1180</td>\n",
       "      <td>53335</td>\n",
       "    </tr>\n",
       "  </tbody>\n",
       "</table>\n",
       "</div>"
      ],
      "text/plain": [
       "                                        read  taxon_kaiju\n",
       "0  NB501110:123:H7C3WBGX7:1:11101:22148:1069       470934\n",
       "1  NB501110:123:H7C3WBGX7:1:11101:12474:1085        69218\n",
       "2  NB501110:123:H7C3WBGX7:1:11101:19868:1087        53335\n",
       "3  NB501110:123:H7C3WBGX7:1:11101:10733:1094        69218\n",
       "4  NB501110:123:H7C3WBGX7:1:11101:20523:1097      1224136\n",
       "5   NB501110:123:H7C3WBGX7:1:11101:9448:1118       470934\n",
       "6  NB501110:123:H7C3WBGX7:1:11101:21936:1120       428406\n",
       "7  NB501110:123:H7C3WBGX7:1:11101:25518:1127          329\n",
       "8  NB501110:123:H7C3WBGX7:1:11101:22286:1152      1312959\n",
       "9   NB501110:123:H7C3WBGX7:1:11101:6718:1180        53335"
      ]
     },
     "execution_count": 23,
     "metadata": {},
     "output_type": "execute_result"
    }
   ],
   "source": [
    "read_file('data/10lineas_kaiju.tsv')"
   ]
  }
 ],
 "metadata": {
  "kernelspec": {
   "display_name": "Python 3 (ipykernel)",
   "language": "python",
   "name": "python3"
  },
  "language_info": {
   "codemirror_mode": {
    "name": "ipython",
    "version": 3
   },
   "file_extension": ".py",
   "mimetype": "text/x-python",
   "name": "python",
   "nbconvert_exporter": "python",
   "pygments_lexer": "ipython3",
   "version": "3.10.5"
  }
 },
 "nbformat": 4,
 "nbformat_minor": 5
}
