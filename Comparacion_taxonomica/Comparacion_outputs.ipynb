{
 "cells": [
  {
   "cell_type": "markdown",
   "id": "1d32eb06-8b84-466a-ac38-7de672066543",
   "metadata": {},
   "source": [
    "# Comparación outputs Kaiju - Kraken"
   ]
  },
  {
   "cell_type": "markdown",
   "id": "d1d19384-25fc-4c66-ab92-9f513925501a",
   "metadata": {},
   "source": [
    "## Leer salida de kaiju o kraken"
   ]
  },
  {
   "cell_type": "code",
   "execution_count": 109,
   "id": "990c01cc-221d-4a73-8e9a-24c16e8c6116",
   "metadata": {},
   "outputs": [],
   "source": [
    "import pandas as pd\n",
    "\n",
    "def read_files(directory):\n",
    "    kraken, kaiju = [], []\n",
    "    for file in os.listdir(directory):\n",
    "        # print(file)\n",
    "        if '.tsv' in file:\n",
    "            f = pd.read_csv(directory + file, delimiter = '\\t', header = None)\n",
    "            if f.shape[1] == 3:\n",
    "                f.columns = [\"c-clasificado\",\"read_ID\",\"tax_ID_kaiju\"]\n",
    "                f.drop(['c-clasificado'], axis=1, inplace = True)\n",
    "                kaiju.append(f)\n",
    "\n",
    "            else:\n",
    "                f.columns = [\"c-clasificado\", \"read_ID\",\"tax_ID_kraken\",\"length_pb\",\"LCA_taxonomic\"]\n",
    "                f.drop([\"c-clasificado\",\"length_pb\",\"LCA_taxonomic\"], axis=1, inplace = True)\n",
    "                kraken.append(f)\n",
    "            \n",
    "    kraken, kaiju = pd.concat(kraken), pd.concat(kaiju)\n",
    "        \n",
    "    return [kraken, kaiju]"
   ]
  },
  {
   "cell_type": "code",
   "execution_count": 110,
   "id": "d5a4fb1e-6181-47f5-baee-a59efb8226b3",
   "metadata": {},
   "outputs": [
    {
     "data": {
      "text/plain": [
       "[                                      read_ID  tax_ID_kraken\n",
       " 0  NB501110:123:H7C3WBGX7:4:23612:19211:20386        1508507\n",
       " 1  NB501110:123:H7C3WBGX7:4:23612:13340:20390         500639\n",
       " 2  NB501110:123:H7C3WBGX7:4:23612:15529:20391              0\n",
       " 3  NB501110:123:H7C3WBGX7:4:23612:17695:20392          55209\n",
       " 4  NB501110:123:H7C3WBGX7:4:23612:10408:20392          69218\n",
       " 5  NB501110:123:H7C3WBGX7:4:23612:11635:20393        1378084\n",
       " 6  NB501110:123:H7C3WBGX7:4:23612:16321:20394        1378084\n",
       " 7   NB501110:123:H7C3WBGX7:4:23612:9943:20397          91347\n",
       " 8  NB501110:123:H7C3WBGX7:4:23612:10288:20398        1461261\n",
       " 9   NB501110:123:H7C3WBGX7:4:23612:9387:20400        1860097\n",
       " 0    NB501110:123:H7C3WBGX7:1:11101:9813:1065            547\n",
       " 1    NB501110:123:H7C3WBGX7:1:11101:9032:1067            329\n",
       " 2    NB501110:123:H7C3WBGX7:1:11101:9958:1067          69218\n",
       " 3   NB501110:123:H7C3WBGX7:1:11101:22148:1069        1076549\n",
       " 4   NB501110:123:H7C3WBGX7:1:11101:17061:1072         487316\n",
       " 5    NB501110:123:H7C3WBGX7:1:11101:7661:1075          69218\n",
       " 6    NB501110:123:H7C3WBGX7:1:11101:3445:1076        1076549\n",
       " 7    NB501110:123:H7C3WBGX7:1:11101:9350:1077         487316\n",
       " 8    NB501110:123:H7C3WBGX7:1:11101:5326:1077          48736\n",
       " 9   NB501110:123:H7C3WBGX7:1:11101:21410:1079        1560356,\n",
       "                                       read_ID  tax_ID_kaiju\n",
       " 0   NB501110:123:H7C3WBGX7:4:23612:6870:20251         53335\n",
       " 1   NB501110:123:H7C3WBGX7:4:23612:6261:20259         59814\n",
       " 2  NB501110:123:H7C3WBGX7:4:23612:20547:20279         91347\n",
       " 3  NB501110:123:H7C3WBGX7:4:23612:13993:20311        470934\n",
       " 4   NB501110:123:H7C3WBGX7:4:23612:6705:20317           547\n",
       " 5  NB501110:123:H7C3WBGX7:4:23612:20381:20331           329\n",
       " 6  NB501110:123:H7C3WBGX7:4:23612:20498:20337           547\n",
       " 7  NB501110:123:H7C3WBGX7:4:23612:10800:20351           329\n",
       " 8  NB501110:123:H7C3WBGX7:4:23612:24681:20365       1076550\n",
       " 9  NB501110:123:H7C3WBGX7:4:23612:20267:20379         53335\n",
       " 0   NB501110:123:H7C3WBGX7:1:11101:22148:1069        470934\n",
       " 1   NB501110:123:H7C3WBGX7:1:11101:12474:1085         69218\n",
       " 2   NB501110:123:H7C3WBGX7:1:11101:19868:1087         53335\n",
       " 3   NB501110:123:H7C3WBGX7:1:11101:10733:1094         69218\n",
       " 4   NB501110:123:H7C3WBGX7:1:11101:20523:1097       1224136\n",
       " 5    NB501110:123:H7C3WBGX7:1:11101:9448:1118        470934\n",
       " 6   NB501110:123:H7C3WBGX7:1:11101:21936:1120        428406\n",
       " 7   NB501110:123:H7C3WBGX7:1:11101:25518:1127           329\n",
       " 8   NB501110:123:H7C3WBGX7:1:11101:22286:1152       1312959\n",
       " 9    NB501110:123:H7C3WBGX7:1:11101:6718:1180         53335]"
      ]
     },
     "execution_count": 110,
     "metadata": {},
     "output_type": "execute_result"
    }
   ],
   "source": [
    "PATH = 'data/'\n",
    "read_files(PATH)"
   ]
  },
  {
   "cell_type": "markdown",
   "id": "f511c273-1aa6-4832-b63e-5ef31eec39d9",
   "metadata": {},
   "source": [
    "## Combinar salidas de archivos"
   ]
  },
  {
   "cell_type": "code",
   "execution_count": 111,
   "id": "20523181-adaf-4905-940f-ffa2e5bc4c38",
   "metadata": {},
   "outputs": [],
   "source": [
    "import os\n",
    "PATH = 'data/'\n",
    "\n",
    "outputs = read_files(PATH)\n",
    "\n",
    "# outputs = [read_file('data/10lineas_kraken.tsv'), read_file('data/10lineascola_kraken.tsv'), read_file('data/10lineascola_kaiju.tsv'), read_file('data/10lineas_kaiju.tsv')]\n",
    "def unite(lOutputs):\n",
    "    DFfusion = lOutputs[0]\n",
    "    for i in lOutputs:\n",
    "        DFfusion = pd.merge(DFfusion, i, how='outer')\n",
    "   \n",
    "    return DFfusion\n",
    "\n",
    "DFfusion = unite(outputs) "
   ]
  },
  {
   "cell_type": "code",
   "execution_count": 112,
   "id": "f3c6ce19-39a7-4d0f-b874-5aed973e4cf9",
   "metadata": {},
   "outputs": [
    {
     "data": {
      "text/html": [
       "<div>\n",
       "<style scoped>\n",
       "    .dataframe tbody tr th:only-of-type {\n",
       "        vertical-align: middle;\n",
       "    }\n",
       "\n",
       "    .dataframe tbody tr th {\n",
       "        vertical-align: top;\n",
       "    }\n",
       "\n",
       "    .dataframe thead th {\n",
       "        text-align: right;\n",
       "    }\n",
       "</style>\n",
       "<table border=\"1\" class=\"dataframe\">\n",
       "  <thead>\n",
       "    <tr style=\"text-align: right;\">\n",
       "      <th></th>\n",
       "      <th>read_ID</th>\n",
       "      <th>tax_ID_kraken</th>\n",
       "      <th>tax_ID_kaiju</th>\n",
       "    </tr>\n",
       "  </thead>\n",
       "  <tbody>\n",
       "    <tr>\n",
       "      <th>0</th>\n",
       "      <td>NB501110:123:H7C3WBGX7:4:23612:19211:20386</td>\n",
       "      <td>1508507.0</td>\n",
       "      <td>NaN</td>\n",
       "    </tr>\n",
       "    <tr>\n",
       "      <th>1</th>\n",
       "      <td>NB501110:123:H7C3WBGX7:4:23612:13340:20390</td>\n",
       "      <td>500639.0</td>\n",
       "      <td>NaN</td>\n",
       "    </tr>\n",
       "    <tr>\n",
       "      <th>2</th>\n",
       "      <td>NB501110:123:H7C3WBGX7:4:23612:15529:20391</td>\n",
       "      <td>0.0</td>\n",
       "      <td>NaN</td>\n",
       "    </tr>\n",
       "    <tr>\n",
       "      <th>3</th>\n",
       "      <td>NB501110:123:H7C3WBGX7:4:23612:17695:20392</td>\n",
       "      <td>55209.0</td>\n",
       "      <td>NaN</td>\n",
       "    </tr>\n",
       "    <tr>\n",
       "      <th>4</th>\n",
       "      <td>NB501110:123:H7C3WBGX7:4:23612:10408:20392</td>\n",
       "      <td>69218.0</td>\n",
       "      <td>NaN</td>\n",
       "    </tr>\n",
       "  </tbody>\n",
       "</table>\n",
       "</div>"
      ],
      "text/plain": [
       "                                      read_ID  tax_ID_kraken  tax_ID_kaiju\n",
       "0  NB501110:123:H7C3WBGX7:4:23612:19211:20386      1508507.0           NaN\n",
       "1  NB501110:123:H7C3WBGX7:4:23612:13340:20390       500639.0           NaN\n",
       "2  NB501110:123:H7C3WBGX7:4:23612:15529:20391            0.0           NaN\n",
       "3  NB501110:123:H7C3WBGX7:4:23612:17695:20392        55209.0           NaN\n",
       "4  NB501110:123:H7C3WBGX7:4:23612:10408:20392        69218.0           NaN"
      ]
     },
     "execution_count": 112,
     "metadata": {},
     "output_type": "execute_result"
    }
   ],
   "source": [
    "DFfusion.head()"
   ]
  },
  {
   "cell_type": "markdown",
   "id": "73a88072-6d56-4d99-8669-ebe4e850cfec",
   "metadata": {},
   "source": [
    "## Obtener linajes"
   ]
  },
  {
   "cell_type": "code",
   "execution_count": 113,
   "id": "93e54d08-37c9-40a9-a204-a183dd797bb0",
   "metadata": {},
   "outputs": [],
   "source": [
    "from ete3 import NCBITaxa\n",
    "\n",
    "def get_full_lineages(otus):\n",
    "\n",
    "    ncbi = NCBITaxa()  \n",
    "\n",
    "    lineages = {}  \n",
    "\n",
    "    if 0 in otus:\n",
    "        lineages.update({0: \"\"})\n",
    "        otus.remove(0)\n",
    "    if 1 in otus:\n",
    "        lineages.update({1: \"root\"})\n",
    "        otus.remove(1)\n",
    "    if 2 in otus:\n",
    "        lineages.update({2: \"root;Bacteria\"})\n",
    "        otus.remove(2)\n",
    "\n",
    "    for entrie in otus:\n",
    "        lineage = ncbi.get_lineage(entrie)                  #returns list of lineage taxids\n",
    "        names = ncbi.get_taxid_translator(lineage).values() #returns dict in which the taxids of the lineage list become the keys (int) and the translations the values. Error if there is a 0 \n",
    "        all_names = \";\".join(names)\n",
    "        lineages.update({entrie: all_names})\n",
    "    \n",
    "    return lineages\n",
    "    \n"
   ]
  },
  {
   "cell_type": "code",
   "execution_count": 114,
   "id": "c97dc7f8-69f3-43cc-b8a8-36da21cc8836",
   "metadata": {},
   "outputs": [],
   "source": [
    "def add_lineages(DFfusion):\n",
    "    kaiju_lineages = get_full_lineages(list(DFfusion['tax_ID_kaiju'].dropna()))\n",
    "    kraken_lineages = get_full_lineages(list(DFfusion['tax_ID_kraken'].dropna()))\n",
    "    DFfusion['kaiju_lineage'] = DFfusion['tax_ID_kaiju']\n",
    "    DFfusion['kraken_lineage'] = DFfusion['tax_ID_kraken']\n",
    "    DFfusion.replace({'kaiju_lineage':kaiju_lineages, 'kraken_lineage':kraken_lineages}, inplace = True)\n",
    "    \n",
    "    return DFfusion"
   ]
  },
  {
   "cell_type": "code",
   "execution_count": 116,
   "id": "ad6dc3fe-a705-4616-b37d-ead0d7225d8b",
   "metadata": {},
   "outputs": [],
   "source": [
    "lineages = add_lineages(DFfusion)"
   ]
  },
  {
   "cell_type": "code",
   "execution_count": 117,
   "id": "bdfb2af8-cb37-4eb0-81f4-e154c90aab0f",
   "metadata": {},
   "outputs": [
    {
     "data": {
      "text/html": [
       "<div>\n",
       "<style scoped>\n",
       "    .dataframe tbody tr th:only-of-type {\n",
       "        vertical-align: middle;\n",
       "    }\n",
       "\n",
       "    .dataframe tbody tr th {\n",
       "        vertical-align: top;\n",
       "    }\n",
       "\n",
       "    .dataframe thead th {\n",
       "        text-align: right;\n",
       "    }\n",
       "</style>\n",
       "<table border=\"1\" class=\"dataframe\">\n",
       "  <thead>\n",
       "    <tr style=\"text-align: right;\">\n",
       "      <th></th>\n",
       "      <th>read_ID</th>\n",
       "      <th>tax_ID_kraken</th>\n",
       "      <th>tax_ID_kaiju</th>\n",
       "      <th>kaiju_lineage</th>\n",
       "      <th>kraken_lineage</th>\n",
       "    </tr>\n",
       "  </thead>\n",
       "  <tbody>\n",
       "    <tr>\n",
       "      <th>0</th>\n",
       "      <td>NB501110:123:H7C3WBGX7:4:23612:19211:20386</td>\n",
       "      <td>1508507.0</td>\n",
       "      <td>NaN</td>\n",
       "      <td>NaN</td>\n",
       "      <td>root;Bacteria;Proteobacteria;Gammaproteobacter...</td>\n",
       "    </tr>\n",
       "    <tr>\n",
       "      <th>1</th>\n",
       "      <td>NB501110:123:H7C3WBGX7:4:23612:13340:20390</td>\n",
       "      <td>500639.0</td>\n",
       "      <td>NaN</td>\n",
       "      <td>NaN</td>\n",
       "      <td>root;Bacteria;Enterobacteriaceae;Enterobacter;...</td>\n",
       "    </tr>\n",
       "    <tr>\n",
       "      <th>2</th>\n",
       "      <td>NB501110:123:H7C3WBGX7:4:23612:15529:20391</td>\n",
       "      <td>0.0</td>\n",
       "      <td>NaN</td>\n",
       "      <td>NaN</td>\n",
       "      <td></td>\n",
       "    </tr>\n",
       "    <tr>\n",
       "      <th>3</th>\n",
       "      <td>NB501110:123:H7C3WBGX7:4:23612:17695:20392</td>\n",
       "      <td>55209.0</td>\n",
       "      <td>NaN</td>\n",
       "      <td>NaN</td>\n",
       "      <td>root;Bacteria;Proteobacteria;Gammaproteobacter...</td>\n",
       "    </tr>\n",
       "    <tr>\n",
       "      <th>4</th>\n",
       "      <td>NB501110:123:H7C3WBGX7:4:23612:10408:20392</td>\n",
       "      <td>69218.0</td>\n",
       "      <td>NaN</td>\n",
       "      <td>NaN</td>\n",
       "      <td>root;Bacteria;Enterobacteriaceae;Enterobacter;...</td>\n",
       "    </tr>\n",
       "  </tbody>\n",
       "</table>\n",
       "</div>"
      ],
      "text/plain": [
       "                                      read_ID  tax_ID_kraken  tax_ID_kaiju  \\\n",
       "0  NB501110:123:H7C3WBGX7:4:23612:19211:20386      1508507.0           NaN   \n",
       "1  NB501110:123:H7C3WBGX7:4:23612:13340:20390       500639.0           NaN   \n",
       "2  NB501110:123:H7C3WBGX7:4:23612:15529:20391            0.0           NaN   \n",
       "3  NB501110:123:H7C3WBGX7:4:23612:17695:20392        55209.0           NaN   \n",
       "4  NB501110:123:H7C3WBGX7:4:23612:10408:20392        69218.0           NaN   \n",
       "\n",
       "  kaiju_lineage                                     kraken_lineage  \n",
       "0           NaN  root;Bacteria;Proteobacteria;Gammaproteobacter...  \n",
       "1           NaN  root;Bacteria;Enterobacteriaceae;Enterobacter;...  \n",
       "2           NaN                                                     \n",
       "3           NaN  root;Bacteria;Proteobacteria;Gammaproteobacter...  \n",
       "4           NaN  root;Bacteria;Enterobacteriaceae;Enterobacter;...  "
      ]
     },
     "execution_count": 117,
     "metadata": {},
     "output_type": "execute_result"
    }
   ],
   "source": [
    "lineages.head()"
   ]
  }
 ],
 "metadata": {
  "kernelspec": {
   "display_name": "Python 3 (ipykernel)",
   "language": "python",
   "name": "python3"
  },
  "language_info": {
   "codemirror_mode": {
    "name": "ipython",
    "version": 3
   },
   "file_extension": ".py",
   "mimetype": "text/x-python",
   "name": "python",
   "nbconvert_exporter": "python",
   "pygments_lexer": "ipython3",
   "version": "3.10.5"
  }
 },
 "nbformat": 4,
 "nbformat_minor": 5
}
