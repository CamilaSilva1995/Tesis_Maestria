{
 "cells": [
  {
   "cell_type": "code",
   "execution_count": 2,
   "id": "dbf994a8",
   "metadata": {},
   "outputs": [
    {
     "name": "stdout",
     "output_type": "stream",
     "text": [
      "full lineage file created\n"
     ]
    }
   ],
   "source": [
    "#!/usr/bin/env python3\n",
    "# coding: utf-8\n",
    "\n",
    "import argparse, os               \n",
    "import pandas as pd  \n",
    "\n",
    "def get_full_lineages(otus):\n",
    "\n",
    "    #### makes the full lineage file (lineages.tsv). Requires ete3 ####\n",
    "\n",
    "    #Input: list of the otus in the table obtained from the get_otus function\n",
    "    #Output: makes the full_lineages.tsv file \n",
    "\n",
    "    from ete3 import NCBITaxa\n",
    "\n",
    "    ncbi = NCBITaxa()  \n",
    "\n",
    "    lineages = {}  \n",
    "\n",
    "    if 0 in otus:\n",
    "        lineages.update({0: \"\"})\n",
    "        otus.remove(0)\n",
    "    if 1 in otus:\n",
    "        lineages.update({1: \"root\"})\n",
    "        otus.remove(1)\n",
    "    if 2 in otus:\n",
    "        lineages.update({2: \"root;Bacteria\"})\n",
    "        otus.remove(2)\n",
    "\n",
    "    for entrie in otus:\n",
    "        lineage = ncbi.get_lineage(entrie)                  #returns list of lineage taxids\n",
    "        names = ncbi.get_taxid_translator(lineage).values() #returns dict in which the taxids of the lineage list become the keys (int) and the translations the values. Error if there is a 0 \n",
    "        all_names = \";\".join(names)\n",
    "        lineages.update({entrie: all_names})\n",
    "\n",
    "    lineages_df = pd.DataFrame(lineages.items(), columns=[\"OTU\", \"LINEAGE\"])\n",
    "    lineages_df.to_csv(\"full_lineages.tsv\", sep=\"\\t\", index=False, header=True)\n",
    "    print(\"full lineage file created\")\n",
    "    \n",
    "    \n",
    "get_full_lineages([0,329,547])\n"
   ]
  }
 ],
 "metadata": {
  "kernelspec": {
   "display_name": "Python 3",
   "language": "python",
   "name": "python3"
  },
  "language_info": {
   "codemirror_mode": {
    "name": "ipython",
    "version": 3
   },
   "file_extension": ".py",
   "mimetype": "text/x-python",
   "name": "python",
   "nbconvert_exporter": "python",
   "pygments_lexer": "ipython3",
   "version": "3.8.8"
  }
 },
 "nbformat": 4,
 "nbformat_minor": 5
}
