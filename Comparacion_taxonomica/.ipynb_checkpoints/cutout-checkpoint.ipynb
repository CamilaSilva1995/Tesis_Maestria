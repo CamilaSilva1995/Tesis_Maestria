{
 "cells": [
  {
   "cell_type": "markdown",
   "id": "a853bde8",
   "metadata": {},
   "source": [
    "## Funcion para recortar reads"
   ]
  },
  {
   "cell_type": "code",
   "execution_count": null,
   "id": "7a7d987b",
   "metadata": {},
   "outputs": [],
   "source": [
    "read = input()\n",
    "n_length = input()\n",
    "\n",
    "def cut(read):\n",
    "    \n",
    "    \n",
    "   \n",
    "    "
   ]
  }
 ],
 "metadata": {
  "kernelspec": {
   "display_name": "Python 3",
   "language": "python",
   "name": "python3"
  },
  "language_info": {
   "codemirror_mode": {
    "name": "ipython",
    "version": 3
   },
   "file_extension": ".py",
   "mimetype": "text/x-python",
   "name": "python",
   "nbconvert_exporter": "python",
   "pygments_lexer": "ipython3",
   "version": "3.8.8"
  }
 },
 "nbformat": 4,
 "nbformat_minor": 5
}
