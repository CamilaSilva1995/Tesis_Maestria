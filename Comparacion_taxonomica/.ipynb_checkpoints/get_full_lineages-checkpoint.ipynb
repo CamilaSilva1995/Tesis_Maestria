{
 "cells": [
  {
   "cell_type": "code",
   "execution_count": null,
   "id": "dbf994a8",
   "metadata": {},
   "outputs": [],
   "source": [
    "#!/usr/bin/env python3\n",
    "\n",
    "import argparse, os               \n",
    "import pandas as pd  \n",
    "\n",
    "def get_full_lineages(otus):\n",
    "\n",
    "\t#### makes the full lineage file (lineages.tsv). Requires ete3 ####\n",
    "\n",
    "\t#Input: list of the otus in the table obtained from the get_otus function\n",
    "\t#Output: makes the full_lineages.tsv file \n",
    "\n",
    "\tfrom ete3 import NCBITaxa\n",
    "\n",
    "\tncbi = NCBITaxa()  \n",
    "\n",
    "\tlineages = {}  \n",
    "\n",
    "\tif 0 in otus:\n",
    "\t\tlineages.update({0: \"\"})\n",
    "\t\totus.remove(0)\n",
    "\tif 1 in otus:\n",
    "\t\tlineages.update({1: \"root\"})\n",
    "\t\totus.remove(1)\n",
    "\tif 2 in otus:\n",
    "\t\tlineages.update({2: \"root;Bacteria\"})\n",
    "\t\totus.remove(2)\n",
    "\n",
    "\tfor entrie in otus:\n",
    "\t\tlineage = ncbi.get_lineage(entrie)                  #returns list of lineage taxids\n",
    "\t\tnames = ncbi.get_taxid_translator(lineage).values() #returns dict in which the taxids of the lineage list become the keys (int) and the translations the values. Error if there is a 0 \n",
    "\t\tall_names = \";\".join(names)\n",
    "\t\tlineages.update({entrie: all_names})\n",
    "\n",
    "\tlineages_df = pd.DataFrame(lineages.items(), columns=[\"OTU\", \"LINEAGE\"])\n",
    "\tlineages_df.to_csv(\"full_lineages.tsv\", sep=\"\\t\", index=False, header=True)\n",
    "\tprint(\"full lineage file created\")"
   ]
  }
 ],
 "metadata": {
  "kernelspec": {
   "display_name": "Python 3",
   "language": "python",
   "name": "python3"
  },
  "language_info": {
   "codemirror_mode": {
    "name": "ipython",
    "version": 3
   },
   "file_extension": ".py",
   "mimetype": "text/x-python",
   "name": "python",
   "nbconvert_exporter": "python",
   "pygments_lexer": "ipython3",
   "version": "3.8.8"
  }
 },
 "nbformat": 4,
 "nbformat_minor": 5
}
